{
  "cells": [
    {
      "attachments": {},
      "cell_type": "markdown",
      "metadata": {
        "cell_id": "b5c0d2440b3e4995a794ded565213150",
        "deepnote_cell_type": "markdown",
        "id": "_Mql1uRoI5v5"
      },
      "source": [
        "<h1><center>Laboratorio 6: Optimización de modelos 🧪</center></h1>\n",
        "\n",
        "<center><strong>MDS7202: Laboratorio de Programación Científica para Ciencia de Datos - Otoño 2025</strong></center>"
      ]
    },
    {
      "attachments": {},
      "cell_type": "markdown",
      "metadata": {
        "cell_id": "bfb94b9656f145ad83e81b75d218cb70",
        "deepnote_cell_type": "markdown",
        "id": "FAPGIlEAI5v8"
      },
      "source": [
        "### Cuerpo Docente:\n",
        "\n",
        "- Profesores: Stefano Schiappacasse, Sebastián Tinoco\n",
        "- Auxiliares: Melanie Peña, Valentina Rojas\n",
        "- Ayudantes: Angelo Muñoz, Valentina Zúñiga"
      ]
    },
    {
      "attachments": {},
      "cell_type": "markdown",
      "metadata": {
        "cell_id": "b1b537fdd27c43909a49d3476ce64d91",
        "deepnote_cell_type": "markdown",
        "id": "8NozgbkZI5v9"
      },
      "source": [
        "### Equipo: SUPER IMPORTANTE - notebooks sin nombre no serán revisados\n",
        "\n",
        "- Nombre de alumno 1: Pablo Vergara\n",
        "- Nombre de alumno 2: Sasha Oyanadel\n"
      ]
    },
    {
      "attachments": {},
      "cell_type": "markdown",
      "metadata": {
        "id": "e8qWRbJkcwP9"
      },
      "source": [
        "### **Link de repositorio de GitHub:** https://github.com/locoplayafeincut/laboratorios-labcsdatos-/tree/main/lab6"
      ]
    },
    {
      "attachments": {},
      "cell_type": "markdown",
      "metadata": {
        "cell_id": "b7dbdd30ab544cb8a8afe00648a586ae",
        "deepnote_cell_type": "markdown",
        "id": "vHU9DI6wI5v9"
      },
      "source": [
        "### Temas a tratar\n",
        "\n",
        "- Predicción de demanda usando `xgboost`\n",
        "- Búsqueda del modelo óptimo de clasificación usando `optuna`\n",
        "- Uso de pipelines.\n",
        "\n",
        "\n",
        "### Reglas:\n",
        "\n",
        "- **Grupos de 2 personas**\n",
        "- Fecha de entrega: 6 días de plazo con descuento de 1 punto por día. Entregas Martes a las 23:59.\n",
        "- Instrucciones del lab el viernes a las 16:15 en formato online. Asistencia no es obligatoria, pero se recomienda fuertemente asistir.\n",
        "- <u>Prohibidas las copias</u>. Cualquier intento de copia será debidamente penalizado con el reglamento de la escuela.\n",
        "- Tienen que subir el laboratorio a u-cursos y a su repositorio de github. Labs que no estén en u-cursos no serán revisados. Recuerden que el repositorio también tiene nota.\n",
        "- Cualquier duda fuera del horario de clases al foro. Mensajes al equipo docente serán respondidos por este medio.\n",
        "- Pueden usar cualquier material del curso que estimen conveniente.\n",
        "\n",
        "El laboratorio deberá ser desarrollado sin el uso indiscriminado de iteradores nativos de python (aka \"for\", \"while\"). La idea es que aprendan a exprimir al máximo las funciones optimizadas que nos entrega `pandas`, las cuales vale mencionar, son bastante más eficientes que los iteradores nativos sobre DataFrames."
      ]
    },
    {
      "attachments": {},
      "cell_type": "markdown",
      "metadata": {
        "cell_id": "f1c73babb7f74af588a4fa6ae14829e0",
        "deepnote_cell_type": "markdown",
        "id": "U_-sNOuOI5v9"
      },
      "source": [
        "# Importamos librerias útiles"
      ]
    },
    {
      "cell_type": "code",
      "execution_count": 1,
      "metadata": {
        "cell_id": "51afe4d2df42442b9e5402ffece60ead",
        "deepnote_cell_type": "code",
        "deepnote_to_be_reexecuted": false,
        "execution_millis": 4957,
        "execution_start": 1699544354044,
        "id": "ekHbM85NI5v9",
        "source_hash": null
      },
      "outputs": [],
      "source": [
        "!pip install -qq xgboost optuna"
      ]
    },
    {
      "attachments": {},
      "cell_type": "markdown",
      "metadata": {
        "id": "y6hJXpLCSspz"
      },
      "source": [
        "# El emprendimiento de Fiu"
      ]
    },
    {
      "attachments": {},
      "cell_type": "markdown",
      "metadata": {
        "cell_id": "44d227389a734ac59189c5e0005bc68a",
        "deepnote_cell_type": "markdown",
        "id": "b0bDalAOI5v-"
      },
      "source": [
        "Tras liderar de manera exitosa la implementación de un proyecto de ciencia de datos para caracterizar los datos generados en Santiago 2023, el misterioso corpóreo **Fiu** se anima y decide levantar su propio negocio de consultoría en machine learning. Tras varias e intensas negociaciones, Fiu logra encontrar su *primera chamba*: predecir la demanda (cantidad de venta) de una famosa productora de bebidas de calibre mundial. Al ver el gran potencial y talento que usted ha demostrado en el campo de la ciencia de datos, Fiu lo contrata como data scientist para que forme parte de su nuevo emprendimiento.\n",
        "\n",
        "Para este laboratorio deben trabajar con los datos `sales.csv` subidos a u-cursos, el cual contiene una muestra de ventas de la empresa para diferentes productos en un determinado tiempo.\n",
        "\n",
        "Para comenzar, cargue el dataset señalado y visualice a través de un `.head` los atributos que posee el dataset.\n",
        "\n",
        "<i><p align=\"center\">Fiu siendo felicitado por su excelente desempeño en el proyecto de caracterización de datos</p></i>\n",
        "<p align=\"center\">\n",
        "  <img src=\"https://media-front.elmostrador.cl/2023/09/A_UNO_1506411_2440e.jpg\">\n",
        "</p>"
      ]
    },
    {
      "cell_type": "code",
      "execution_count": 1,
      "metadata": {
        "cell_id": "2f9c82d204b14515ad27ae07e0b77702",
        "deepnote_cell_type": "code",
        "deepnote_to_be_reexecuted": false,
        "execution_millis": 92,
        "execution_start": 1699544359006,
        "id": "QvMPOqHuI5v-",
        "source_hash": null
      },
      "outputs": [
        {
          "data": {
            "text/html": [
              "<div>\n",
              "<style scoped>\n",
              "    .dataframe tbody tr th:only-of-type {\n",
              "        vertical-align: middle;\n",
              "    }\n",
              "\n",
              "    .dataframe tbody tr th {\n",
              "        vertical-align: top;\n",
              "    }\n",
              "\n",
              "    .dataframe thead th {\n",
              "        text-align: right;\n",
              "    }\n",
              "</style>\n",
              "<table border=\"1\" class=\"dataframe\">\n",
              "  <thead>\n",
              "    <tr style=\"text-align: right;\">\n",
              "      <th></th>\n",
              "      <th>id</th>\n",
              "      <th>date</th>\n",
              "      <th>city</th>\n",
              "      <th>lat</th>\n",
              "      <th>long</th>\n",
              "      <th>pop</th>\n",
              "      <th>shop</th>\n",
              "      <th>brand</th>\n",
              "      <th>container</th>\n",
              "      <th>capacity</th>\n",
              "      <th>price</th>\n",
              "      <th>quantity</th>\n",
              "    </tr>\n",
              "  </thead>\n",
              "  <tbody>\n",
              "    <tr>\n",
              "      <th>0</th>\n",
              "      <td>0</td>\n",
              "      <td>2012-01-31</td>\n",
              "      <td>Athens</td>\n",
              "      <td>37.97945</td>\n",
              "      <td>23.71622</td>\n",
              "      <td>672130</td>\n",
              "      <td>shop_1</td>\n",
              "      <td>kinder-cola</td>\n",
              "      <td>glass</td>\n",
              "      <td>500ml</td>\n",
              "      <td>0.96</td>\n",
              "      <td>13280</td>\n",
              "    </tr>\n",
              "    <tr>\n",
              "      <th>1</th>\n",
              "      <td>1</td>\n",
              "      <td>2012-01-31</td>\n",
              "      <td>Athens</td>\n",
              "      <td>37.97945</td>\n",
              "      <td>23.71622</td>\n",
              "      <td>672130</td>\n",
              "      <td>shop_1</td>\n",
              "      <td>kinder-cola</td>\n",
              "      <td>plastic</td>\n",
              "      <td>1.5lt</td>\n",
              "      <td>2.86</td>\n",
              "      <td>6727</td>\n",
              "    </tr>\n",
              "    <tr>\n",
              "      <th>2</th>\n",
              "      <td>2</td>\n",
              "      <td>2012-01-31</td>\n",
              "      <td>Athens</td>\n",
              "      <td>37.97945</td>\n",
              "      <td>23.71622</td>\n",
              "      <td>672130</td>\n",
              "      <td>shop_1</td>\n",
              "      <td>kinder-cola</td>\n",
              "      <td>can</td>\n",
              "      <td>330ml</td>\n",
              "      <td>0.87</td>\n",
              "      <td>9848</td>\n",
              "    </tr>\n",
              "    <tr>\n",
              "      <th>3</th>\n",
              "      <td>3</td>\n",
              "      <td>2012-01-31</td>\n",
              "      <td>Athens</td>\n",
              "      <td>37.97945</td>\n",
              "      <td>23.71622</td>\n",
              "      <td>672130</td>\n",
              "      <td>shop_1</td>\n",
              "      <td>adult-cola</td>\n",
              "      <td>glass</td>\n",
              "      <td>500ml</td>\n",
              "      <td>1.00</td>\n",
              "      <td>20050</td>\n",
              "    </tr>\n",
              "    <tr>\n",
              "      <th>4</th>\n",
              "      <td>4</td>\n",
              "      <td>2012-01-31</td>\n",
              "      <td>Athens</td>\n",
              "      <td>37.97945</td>\n",
              "      <td>23.71622</td>\n",
              "      <td>672130</td>\n",
              "      <td>shop_1</td>\n",
              "      <td>adult-cola</td>\n",
              "      <td>can</td>\n",
              "      <td>330ml</td>\n",
              "      <td>0.39</td>\n",
              "      <td>25696</td>\n",
              "    </tr>\n",
              "  </tbody>\n",
              "</table>\n",
              "</div>"
            ],
            "text/plain": [
              "   id       date    city       lat      long     pop    shop        brand  \\\n",
              "0   0 2012-01-31  Athens  37.97945  23.71622  672130  shop_1  kinder-cola   \n",
              "1   1 2012-01-31  Athens  37.97945  23.71622  672130  shop_1  kinder-cola   \n",
              "2   2 2012-01-31  Athens  37.97945  23.71622  672130  shop_1  kinder-cola   \n",
              "3   3 2012-01-31  Athens  37.97945  23.71622  672130  shop_1   adult-cola   \n",
              "4   4 2012-01-31  Athens  37.97945  23.71622  672130  shop_1   adult-cola   \n",
              "\n",
              "  container capacity  price  quantity  \n",
              "0     glass    500ml   0.96     13280  \n",
              "1   plastic    1.5lt   2.86      6727  \n",
              "2       can    330ml   0.87      9848  \n",
              "3     glass    500ml   1.00     20050  \n",
              "4       can    330ml   0.39     25696  "
            ]
          },
          "execution_count": 1,
          "metadata": {},
          "output_type": "execute_result"
        }
      ],
      "source": [
        "import pandas as pd\n",
        "import numpy as np\n",
        "from datetime import datetime\n",
        "\n",
        "file_path = 'sales.csv'\n",
        "df = pd.read_csv(file_path)\n",
        "df['date'] = df['date'].apply(lambda x: datetime.strptime(x, \"%d/%m/%y\"))\n",
        "\n",
        "df.head()"
      ]
    },
    {
      "attachments": {},
      "cell_type": "markdown",
      "metadata": {
        "cell_id": "b50db6f2cb804932ae3f9e5748a6ea61",
        "deepnote_cell_type": "markdown",
        "id": "pk4ru76pI5v_"
      },
      "source": [
        "## 1 Generando un Baseline (5 puntos)\n",
        "\n",
        "<p align=\"center\">\n",
        "  <img src=\"https://media.tenor.com/O-lan6TkadUAAAAC/what-i-wnna-do-after-a-baseline.gif\">\n",
        "</p>\n",
        "\n",
        "Antes de entrenar un algoritmo, usted recuerda los apuntes de su magíster en ciencia de datos y recuerda que debe seguir una serie de *buenas prácticas* para entrenar correcta y debidamente su modelo. Después de un par de vueltas, llega a las siguientes tareas:\n",
        "\n",
        "1. Separe los datos en conjuntos de train (70%), validation (20%) y test (10%). Fije una semilla para controlar la aleatoriedad. [0.5 puntos]\n",
        "2. Implemente un `FunctionTransformer` para extraer el día, mes y año de la variable `date`. Guarde estas variables en el formato categorical de pandas. [1 punto]\n",
        "3. Implemente un `ColumnTransformer` para procesar de manera adecuada los datos numéricos y categóricos. Use `OneHotEncoder` para las variables categóricas. `Nota:` Utilice el método `.set_output(transform='pandas')` para obtener un DataFrame como salida del `ColumnTransformer` [1 punto]\n",
        "4. Guarde los pasos anteriores en un `Pipeline`, dejando como último paso el regresor `DummyRegressor` para generar predicciones en base a promedios. [0.5 punto]\n",
        "5. Entrene el pipeline anterior y reporte la métrica `mean_absolute_error` sobre los datos de validación. ¿Cómo se interpreta esta métrica para el contexto del negocio? [0.5 puntos]\n",
        "6. Finalmente, vuelva a entrenar el `Pipeline` pero esta vez usando `XGBRegressor` como modelo **utilizando los parámetros por default**. ¿Cómo cambia el MAE al implementar este algoritmo? ¿Es mejor o peor que el `DummyRegressor`? [1 punto]\n",
        "7. Guarde ambos modelos en un archivo .pkl (uno cada uno) [0.5 puntos]"
      ]
    },
    {
      "cell_type": "code",
      "execution_count": 2,
      "metadata": {
        "cell_id": "1482c992d9494e5582b23dbd3431dbfd",
        "deepnote_cell_type": "code",
        "id": "sfnN7HubI5v_"
      },
      "outputs": [
        {
          "name": "stdout",
          "output_type": "stream",
          "text": [
            "MAE DummyRegressor: 13395.95\n",
            "MAE XGBRegressor: 2425.82\n",
            "XGBRegressor mejora el desempeño respecto al baseline.\n"
          ]
        }
      ],
      "source": [
        "from sklearn import set_config\n",
        "set_config(transform_output=\"pandas\")\n",
        "\n",
        "# Inserte su código acá\n",
        "from sklearn.model_selection import train_test_split\n",
        "from sklearn.pipeline import Pipeline\n",
        "from sklearn.compose import ColumnTransformer\n",
        "from sklearn.preprocessing import FunctionTransformer, OneHotEncoder, StandardScaler\n",
        "from sklearn.dummy import DummyRegressor\n",
        "from sklearn.metrics import mean_absolute_error\n",
        "from xgboost import XGBRegressor\n",
        "import pickle\n",
        "\n",
        "set_config(transform_output=\"pandas\")\n",
        "\n",
        "#1\n",
        "y = df[\"quantity\"]\n",
        "X = df.drop(columns=[\"quantity\", \"id\"])\n",
        "\n",
        "RANDOM_STATE = 666\n",
        "\n",
        "X_temp, X_test, y_temp, y_test = train_test_split(X, y, test_size=0.1, random_state=RANDOM_STATE)\n",
        "X_train, X_val, y_train, y_val = train_test_split(X_temp, y_temp, test_size=2/9, random_state=RANDOM_STATE)\n",
        "\n",
        "#2\n",
        "def extract_date_features(df):\n",
        "    df = df.copy()\n",
        "    df[\"year\"] = df[\"date\"].dt.year.astype(\"category\")\n",
        "    df[\"month\"] = df[\"date\"].dt.month.astype(\"category\")\n",
        "    df[\"day\"] = df[\"date\"].dt.day.astype(\"category\")\n",
        "    return df.drop(columns=[\"date\"])\n",
        "\n",
        "date_transformer = FunctionTransformer(extract_date_features)\n",
        "\n",
        "#3\n",
        "X_train_transformed = extract_date_features(X_train)\n",
        "\n",
        "categorical_cols = X_train_transformed.select_dtypes(include=[\"category\", \"object\"]).columns.tolist()\n",
        "numerical_cols = X_train_transformed.select_dtypes(include=[\"int64\", \"float64\"]).columns.tolist()\n",
        "\n",
        "preprocessor = ColumnTransformer(transformers=[\n",
        "    (\"cat\", OneHotEncoder(handle_unknown=\"ignore\", sparse_output=False), categorical_cols),\n",
        "    (\"num\", StandardScaler(), numerical_cols)\n",
        "])\n",
        "\n",
        "#4\n",
        "pipeline_dummy = Pipeline(steps=[\n",
        "    (\"date_features\", date_transformer),\n",
        "    (\"preprocessing\", preprocessor),\n",
        "    (\"regressor\", DummyRegressor(strategy=\"mean\"))\n",
        "])\n",
        "\n",
        "#5\n",
        "pipeline_dummy.fit(X_train, y_train)\n",
        "y_val_pred_dummy = pipeline_dummy.predict(X_val)\n",
        "\n",
        "mae_dummy = mean_absolute_error(y_val, y_val_pred_dummy)\n",
        "print(f\"MAE DummyRegressor: {mae_dummy:.2f}\")\n",
        "\n",
        "#6\n",
        "pipeline_xgb = Pipeline(steps=[\n",
        "    (\"date_features\", date_transformer),\n",
        "    (\"preprocessing\", preprocessor),\n",
        "    (\"regressor\", XGBRegressor(random_state=RANDOM_STATE))\n",
        "])\n",
        "\n",
        "pipeline_xgb.fit(X_train, y_train)\n",
        "y_val_pred_xgb = pipeline_xgb.predict(X_val)\n",
        "\n",
        "mae_xgb = mean_absolute_error(y_val, y_val_pred_xgb)\n",
        "print(f\"MAE XGBRegressor: {mae_xgb:.2f}\")\n",
        "\n",
        "if mae_xgb < mae_dummy:\n",
        "    print(\"XGBRegressor mejora el desempeño respecto al baseline.\")\n",
        "else:\n",
        "    print(\"XGBRegressor no mejora respecto al DummyRegressor.\")\n",
        "\n",
        "#7\n",
        "with open(\"modelo_dummy.pkl\", \"wb\") as f:\n",
        "    pickle.dump(pipeline_dummy, f)\n",
        "\n",
        "with open(\"modelo_xgb.pkl\", \"wb\") as f:\n",
        "    pickle.dump(pipeline_xgb, f)"
      ]
    },
    {
      "attachments": {},
      "cell_type": "markdown",
      "metadata": {},
      "source": [
        "    ¿Cómo se interpreta esta métrica para el contexto del negocio?\n",
        "El mean_absolute_error obtenido con el DummyRegressor fue de 13,395.95, lo que significa que, en promedio, el modelo se equivoca por más de 13 mil unidades al predecir la demanda. En el contexto del negocio, esto representa una predicción extremadamente imprecisa, ya que el modelo no está utilizando ninguna información de los datos más allá del promedio histórico. Este resultado es útil como línea base mínima, pero inaceptable para decisiones comerciales reales.\n",
        "\n",
        "    ¿Cómo cambia el MAE al implementar este algoritmo? ¿Es mejor o peor que el DummyRegressor?\n",
        "El MAE bajó considerablemente al usar XGBRegressor, alcanzando un valor de 2425.82. Esto representa una mejora significativa respecto al DummyRegressor, que tuvo un MAE de 13,395.95. Por lo tanto, el modelo XGBoost es mucho mejor, ya que demuestra que puede capturar relaciones complejas entre las variables y predecir con mucha mayor precisión la cantidad de ventas.\n",
        "\n"
      ]
    },
    {
      "attachments": {},
      "cell_type": "markdown",
      "metadata": {
        "cell_id": "7e17e46063774ec28226fe300d42ffe0",
        "deepnote_cell_type": "markdown",
        "id": "wnyMINdKI5v_"
      },
      "source": [
        "## 2. Forzando relaciones entre parámetros con XGBoost (10 puntos)\n",
        "\n",
        "<p align=\"center\">\n",
        "  <img src=\"https://64.media.tumblr.com/14cc45f9610a6ee341a45fd0d68f4dde/20d11b36022bca7b-bf/s640x960/67ab1db12ff73a530f649ac455c000945d99c0d6.gif\">\n",
        "</p>\n",
        "\n",
        "Un colega aficionado a la economía le *sopla* que la demanda guarda una relación inversa con el precio del producto. Motivado para impresionar al querido corpóreo, se propone hacer uso de esta información para mejorar su modelo realizando las siguientes tareas:\n",
        "\n",
        "1. Vuelva a entrenar el `Pipeline` con `XGBRegressor`, pero esta vez forzando una relación monótona negativa entre el precio y la cantidad. Para aplicar esta restricción apóyese en la siguiente <a href = https://xgboost.readthedocs.io/en/stable/tutorials/monotonic.html>documentación</a>. [6 puntos]\n",
        "\n",
        ">Hint 1: Para implementar el constraint se le sugiere hacerlo especificando el nombre de la variable. De ser así, probablemente le sea útil **mantener el formato de pandas** antes del step de entrenamiento.\n",
        "\n",
        ">Hint 2: Puede obtener el nombre de las columnas en el paso anterior al modelo regresor mediante el método `.get_feature_names_out()`\n",
        "\n",
        "2. Luego, vuelva a reportar el `MAE` sobre el conjunto de validación. [1 puntos]\n",
        "\n",
        "3. ¿Cómo cambia el error al incluir esta relación? ¿Tenía razón su amigo? [2 puntos]\n",
        "\n",
        "4. Guarde su modelo en un archivo .pkl [1 punto]"
      ]
    },
    {
      "cell_type": "code",
      "execution_count": 3,
      "metadata": {
        "cell_id": "f469f3b572be434191d2d5c3f11b20d2",
        "deepnote_cell_type": "code",
        "id": "B7tMnkiAI5v_"
      },
      "outputs": [
        {
          "name": "stdout",
          "output_type": "stream",
          "text": [
            "MAE XGB con restricción monótona: 2454.15\n",
            "MAE sin restricción: 2425.82\n",
            "MAE con restricción: 2454.15\n",
            "Incluir la restricción empeoró el rendimiento\n"
          ]
        }
      ],
      "source": [
        "# Inserte su código acá\n",
        "#1\n",
        "X_train_transformed = extract_date_features(X_train)\n",
        "X_val_transformed = extract_date_features(X_val)\n",
        "\n",
        "preprocessor.fit(X_train_transformed)\n",
        "X_train_ready = preprocessor.transform(X_train_transformed)\n",
        "X_val_ready = preprocessor.transform(X_val_transformed)\n",
        "\n",
        "feature_names = preprocessor.get_feature_names_out()\n",
        "\n",
        "monotonic_constraints = dict(\n",
        "    zip(\n",
        "        feature_names,\n",
        "        map(lambda name: -1 if \"price\" in name else 0, feature_names)\n",
        "    )\n",
        ")\n",
        "\n",
        "xgb_mono = XGBRegressor(\n",
        "    monotone_constraints=monotonic_constraints,\n",
        "    random_state=RANDOM_STATE\n",
        ")\n",
        "xgb_mono.fit(X_train_ready, y_train)\n",
        "\n",
        "#2\n",
        "y_val_pred_mono = xgb_mono.predict(X_val_ready)\n",
        "mae_mono = mean_absolute_error(y_val, y_val_pred_mono)\n",
        "print(f\"MAE XGB con restricción monótona: {mae_mono:.2f}\")\n",
        "\n",
        "#3\n",
        "print(f\"MAE sin restricción: {mae_xgb:.2f}\")\n",
        "print(f\"MAE con restricción: {mae_mono:.2f}\")\n",
        "\n",
        "if mae_mono < mae_xgb:\n",
        "    print(\"Incluir la restricción ayudó a mejorar el modelo.\")\n",
        "elif mae_mono == mae_xgb:\n",
        "    print(\"La restricción no tuvo impacto en el rendimiento.\")\n",
        "else:\n",
        "    print(\"Incluir la restricción empeoró el rendimiento\")\n",
        "\n",
        "#4\n",
        "with open(\"modelo_xgb_monotono.pkl\", \"wb\") as f:\n",
        "    pickle.dump(xgb_mono, f)\n"
      ]
    },
    {
      "attachments": {},
      "cell_type": "markdown",
      "metadata": {},
      "source": [
        "    ¿Cómo cambia el error al incluir esta relación? ¿Tenía razón su amigo?\n",
        "Incluir la restricción monótona negativa entre el precio y la cantidad no mejoró el desempeño del modelo: el MAE aumentó de 2425.82 (sin restricción) a 2454.15 (con restricción). Aunque el colega tenía una intuición razonable al sugerir que el precio afecta negativamente la demanda, una idea válida desde la economía, en este caso el modelo sin restricciones ya capturaba esa relación de forma natural. Forzarla terminó reduciendo la flexibilidad del modelo para aprender patrones más complejos, lo que afectó su precisión. Por lo tanto, la sugerencia del colega, aunque bien intencionada, no resultó beneficiosa en la práctica."
      ]
    },
    {
      "attachments": {},
      "cell_type": "markdown",
      "metadata": {
        "cell_id": "e59ef80ed20b4de8921f24da74e87374",
        "deepnote_cell_type": "markdown",
        "id": "5D5-tX4dI5v_"
      },
      "source": [
        "## 1.3 Optimización de Hiperparámetros con Optuna (20 puntos)\n",
        "\n",
        "<p align=\"center\">\n",
        "  <img src=\"https://media.tenor.com/fmNdyGN4z5kAAAAi/hacking-lucy.gif\">\n",
        "</p>\n",
        "\n",
        "Luego de presentarle sus resultados, Fiu le pregunta si es posible mejorar *aun más* su modelo. En particular, le comenta de la optimización de hiperparámetros con metodologías bayesianas a través del paquete `optuna`. Como usted es un aficionado al entrenamiento de modelos de ML, se propone implementar la descabellada idea de su jefe.\n",
        "\n",
        "A partir de la mejor configuración obtenida en la sección anterior, utilice `optuna` para optimizar sus hiperparámetros. En particular, se pide que su optimización considere lo siguiente:\n",
        "\n",
        "- Fijar una semilla en las instancias necesarias para garantizar la reproducibilidad de resultados\n",
        "- Utilice `TPESampler` como método de muestreo\n",
        "- De `XGBRegressor`, optimice los siguientes hiperparámetros:\n",
        "    - `learning_rate` buscando valores flotantes en el rango (0.001, 0.1)\n",
        "    - `n_estimators` buscando valores enteros en el rango (50, 1000)\n",
        "    - `max_depth` buscando valores enteros en el rango (3, 10)\n",
        "    - `max_leaves` buscando valores enteros en el rango (0, 100)\n",
        "    - `min_child_weight` buscando valores enteros en el rango (1, 5)\n",
        "    - `reg_alpha` buscando valores flotantes en el rango (0, 1)\n",
        "    - `reg_lambda` buscando valores flotantes en el rango (0, 1)\n",
        "- De `OneHotEncoder`, optimice el hiperparámetro `min_frequency` buscando el mejor valor flotante en el rango (0.0, 1.0)\n",
        "\n",
        "Para ello se pide los siguientes pasos:\n",
        "1. Implemente una función `objective()` que permita minimizar el `MAE` en el conjunto de validación. Use el método `.set_user_attr()` para almacenar el mejor pipeline entrenado. [10 puntos]\n",
        "2. Fije el tiempo de entrenamiento a 5 minutos. [1 punto]\n",
        "3. Optimizar el modelo y reportar el número de *trials*, el `MAE` y los mejores hiperparámetros encontrados. ¿Cómo cambian sus resultados con respecto a la sección anterior? ¿A qué se puede deber esto? [3 puntos]\n",
        "4. Explique cada hiperparámetro y su rol en el modelo. ¿Hacen sentido los rangos de optimización indicados? [5 puntos]\n",
        "5. Guardar su modelo en un archivo .pkl [1 punto]"
      ]
    },
    {
      "cell_type": "code",
      "execution_count": 21,
      "metadata": {
        "cell_id": "de5914621cc64cb0b1bacb9ff565a97e",
        "deepnote_cell_type": "code",
        "id": "kMXXi1ckI5v_"
      },
      "outputs": [
        {
          "name": "stdout",
          "output_type": "stream",
          "text": [
            "Trials realizados: 136\n",
            "Mejor MAE obtenido: 2023.56\n",
            "Mejores hiperparámetros encontrados:\n",
            " - min_frequency: 0.07657763669377277\n",
            " - learning_rate: 0.059398216624166375\n",
            " - n_estimators: 999\n",
            " - max_depth: 8\n",
            " - max_leaves: 99\n",
            " - min_child_weight: 3\n",
            " - reg_alpha: 0.12231542722209077\n",
            " - reg_lambda: 0.7250731254278739\n"
          ]
        }
      ],
      "source": [
        "import optuna\n",
        "from optuna.samplers import TPESampler\n",
        "optuna.logging.set_verbosity(optuna.logging.WARNING)\n",
        "# Inserte su código acá\n",
        "X_train_transformed = extract_date_features(X_train)\n",
        "X_val_transformed = extract_date_features(X_val)\n",
        "\n",
        "categorical_cols = X_train_transformed.select_dtypes(include=[\"category\", \"object\"]).columns.tolist()\n",
        "numerical_cols = X_train_transformed.select_dtypes(include=[\"int64\", \"float64\"]).columns.tolist()\n",
        "\n",
        "def objective(trial):\n",
        "    # Inserte su código acá\n",
        "    pass\n",
        "\n",
        "    min_freq = trial.suggest_float(\"min_frequency\", 0.0, 1.0)\n",
        "    learning_rate = trial.suggest_float(\"learning_rate\", 0.001, 0.1)\n",
        "    n_estimators = trial.suggest_int(\"n_estimators\", 50, 1000)\n",
        "    max_depth = trial.suggest_int(\"max_depth\", 3, 10)\n",
        "    max_leaves = trial.suggest_int(\"max_leaves\", 0, 100)\n",
        "    min_child_weight = trial.suggest_int(\"min_child_weight\", 1, 5)\n",
        "    reg_alpha = trial.suggest_float(\"reg_alpha\", 0.0, 1.0)\n",
        "    reg_lambda = trial.suggest_float(\"reg_lambda\", 0.0, 1.0)\n",
        "\n",
        "    preprocessor = ColumnTransformer(transformers=[\n",
        "        (\"cat\", OneHotEncoder(handle_unknown=\"ignore\", sparse_output=False, min_frequency=min_freq), categorical_cols),\n",
        "        (\"num\", StandardScaler(), numerical_cols)\n",
        "    ])\n",
        "\n",
        "    pipeline = Pipeline(steps=[\n",
        "        (\"date_features\", date_transformer),\n",
        "        (\"preprocessing\", preprocessor),\n",
        "        (\"regressor\", XGBRegressor(\n",
        "            learning_rate=learning_rate,\n",
        "            n_estimators=n_estimators,\n",
        "            max_depth=max_depth,\n",
        "            max_leaves=max_leaves,\n",
        "            min_child_weight=min_child_weight,\n",
        "            reg_alpha=reg_alpha,\n",
        "            reg_lambda=reg_lambda,\n",
        "            random_state=RANDOM_STATE,\n",
        "            verbosity=0\n",
        "        ))\n",
        "    ])\n",
        "\n",
        "    pipeline.fit(X_train, y_train)\n",
        "    y_pred = pipeline.predict(X_val)\n",
        "    mae = mean_absolute_error(y_val, y_pred)\n",
        "\n",
        "    trial.set_user_attr(\"best_pipeline\", pipeline)\n",
        "\n",
        "    return mae\n",
        "\n",
        "# 2\n",
        "sampler = TPESampler(seed=RANDOM_STATE)\n",
        "study = optuna.create_study(direction=\"minimize\", sampler=sampler)\n",
        "\n",
        "study.optimize(objective, timeout=300) \n",
        "\n",
        "# 3\n",
        "print(f\"Trials realizados: {len(study.trials)}\")\n",
        "print(f\"Mejor MAE obtenido: {study.best_value:.2f}\")\n",
        "print(\"Mejores hiperparámetros encontrados:\")\n",
        "for k, v in study.best_params.items():\n",
        "    print(f\" - {k}: {v}\")\n",
        "\n",
        "# 4\n",
        "best_model = study.best_trial.user_attrs[\"best_pipeline\"]\n",
        "\n",
        "with open(\"modelo_xgb_optuna.pkl\", \"wb\") as f:\n",
        "    pickle.dump(best_model, f)\n"
      ]
    },
    {
      "attachments": {},
      "cell_type": "markdown",
      "metadata": {},
      "source": [
        "    ¿Cómo cambian sus resultados con respecto a la sección anterior? ¿A qué se puede deber esto?\n",
        "El mejor modelo obtenido con Optuna logró un MAE de 1999.37, mejorando significativamente el resultado anterior con XGBRegressor por defecto, que alcanzó un MAE de 2425.82. Esta mejora de aproximadamente 17.6% en el error absoluto medio sugiere que la configuración predeterminada del modelo no era óptima para este conjunto de datos. La optimización permitió encontrar una combinación más adecuada de parámetros que equilibra la profundidad, regularización, tasa de aprendizaje y complejidad del modelo, lo cual mejora su capacidad de generalizar patrones y ajustarse a las características específicas del problema. Además, ajustar min_frequency en OneHotEncoder ayudó a reducir ruido de categorías poco frecuentes, mejorando aún más la robustez del modelo.\n",
        "\n",
        "    Explique cada hiperparámetro y su rol en el modelo.\n",
        "* learning_rate: controla qué tan rápido aprende el modelo. Un valor moderado como 0.058 permite ajustes graduales, evitando sobreajuste. El rango (0.001, 0.1) es razonable para evitar valores extremos.\n",
        "* n_estimators: define la cantidad de árboles. Un valor alto como 999 es coherente con un learning_rate bajo, ya que se necesita más iteraciones para converger. El rango (50, 1000) es apropiado.\n",
        "* max_depth y max_leaves: controlan la complejidad del árbol. Valores altos como 9 y 96 permiten al modelo capturar interacciones complejas. Los rangos dados son lógicos para evitar tanto modelos muy simples como sobreajuste extremo.\n",
        "* min_child_weight: evita que nodos con poca información sean divididos. Un valor de 4 reduce el riesgo de overfitting. El rango (1, 5) es adecuado.\n",
        "* reg_alpha y reg_lambda: controlan la regularización L1 y L2 respectivamente. Ambos ayudan a prevenir el sobreajuste. Los valores encontrados (~0.03) sugieren que cierta penalización mejora la generalización. El rango (0, 1) es estándar y apropiado.\n",
        "* min_frequency en OneHotEncoder: filtra categorías poco frecuentes. Un valor bajo (0.02) permite mantener la mayor parte de la información sin introducir ruido. El rango (0.0, 1.0) ofrece flexibilidad para distintos niveles de cardinalidad.\n"
      ]
    },
    {
      "attachments": {},
      "cell_type": "markdown",
      "metadata": {},
      "source": [
        "    ¿Hacen sentido los rangos de optimización indicados?\n",
        "En conjunto, los rangos de optimización son adecuados, y los valores encontrados tienen sentido dado el problema y los resultados obtenidos."
      ]
    },
    {
      "attachments": {},
      "cell_type": "markdown",
      "metadata": {
        "cell_id": "5195ccfc37e044ad9453f6eb2754f631",
        "deepnote_cell_type": "markdown",
        "id": "ZglyD_QWI5wA"
      },
      "source": [
        "## 4. Optimización de Hiperparámetros con Optuna y Prunners (17 puntos)\n",
        "\n",
        "<p align=\"center\">\n",
        "  <img src=\"https://i.pinimg.com/originals/90/16/f9/9016f919c2259f3d0e8fe465049638a7.gif\">\n",
        "</p>\n",
        "\n",
        "Después de optimizar el rendimiento de su modelo varias veces, Fiu le pregunta si no es posible optimizar el entrenamiento del modelo en sí mismo. Después de leer un par de post de personas de dudosa reputación en la *deepweb*, usted llega a la conclusión que puede cumplir este objetivo mediante la implementación de **Prunning**.\n",
        "\n",
        "Vuelva a optimizar los mismos hiperparámetros que la sección pasada, pero esta vez utilizando **Prunning** en la optimización. En particular, usted debe:\n",
        "\n",
        "- Responder: ¿Qué es prunning? ¿De qué forma debería impactar en el entrenamiento? [2 puntos]\n",
        "- Redefinir la función `objective()` utilizando `optuna.integration.XGBoostPruningCallback` como método de **Prunning** [10 puntos]\n",
        "- Fijar nuevamente el tiempo de entrenamiento a 5 minutos [1 punto]\n",
        "- Reportar el número de *trials*, el `MAE` y los mejores hiperparámetros encontrados. ¿Cómo cambian sus resultados con respecto a la sección anterior? ¿A qué se puede deber esto? [3 puntos]\n",
        "- Guardar su modelo en un archivo .pkl [1 punto]\n",
        "\n",
        "Nota: Si quieren silenciar los prints obtenidos en el prunning, pueden hacerlo mediante el siguiente comando:\n",
        "\n",
        "```\n",
        "optuna.logging.set_verbosity(optuna.logging.WARNING)\n",
        "```\n",
        "\n",
        "De implementar la opción anterior, pueden especificar `show_progress_bar = True` en el método `optimize` para *más sabor*.\n",
        "\n",
        "Hint: Si quieren especificar parámetros del método .fit() del modelo a través del pipeline, pueden hacerlo por medio de la siguiente sintaxis: `pipeline.fit(stepmodelo__parametro = valor)`\n",
        "\n",
        "Hint2: Este <a href = https://stackoverflow.com/questions/40329576/sklearn-pass-fit-parameters-to-xgboost-in-pipeline>enlace</a> les puede ser de ayuda en su implementación"
      ]
    },
    {
      "cell_type": "code",
      "execution_count": null,
      "metadata": {
        "id": "5IEEZnb-cwP_"
      },
      "outputs": [
        {
          "name": "stdout",
          "output_type": "stream",
          "text": [
            "Trials realizados: 1370\n",
            "Mejor MAE obtenido: 1965.1433\n",
            "Mejores hiperparámetros:\n",
            " • learning_rate: 0.09810531964748925\n",
            " • n_estimators: 934\n",
            " • max_depth: 10\n",
            " • max_leaves: 96\n",
            " • min_child_weight: 5\n",
            " • reg_alpha: 0.14959753716422577\n",
            " • reg_lambda: 0.18783407333352017\n",
            " • min_frequency: 0.00033877180644573124\n",
            "Preprocesador guardado en preprocessor.pkl\n",
            "Booster guardado en xgb_booster.pkl\n"
          ]
        }
      ],
      "source": [
        "import optuna\n",
        "from optuna.samplers import TPESampler\n",
        "from optuna.integration import XGBoostPruningCallback\n",
        "\n",
        "from sklearn.compose import ColumnTransformer\n",
        "from sklearn.preprocessing import OneHotEncoder, StandardScaler\n",
        "from sklearn.metrics import mean_absolute_error\n",
        "\n",
        "import xgboost as xgb\n",
        "import joblib\n",
        "import pickle\n",
        "\n",
        "# Silenciar logs de Optuna\n",
        "optuna.logging.set_verbosity(optuna.logging.WARNING)\n",
        "\n",
        "X_train_transformed = extract_date_features(X_train)\n",
        "X_val_transformed   = extract_date_features(X_val)\n",
        "\n",
        "categorical_cols = X_train_transformed.select_dtypes(include=[\"category\", \"object\"]).columns.tolist()\n",
        "numerical_cols   = X_train_transformed.select_dtypes(include=[\"int64\", \"float64\"]).columns.tolist()\n",
        "\n",
        "def objective(trial):\n",
        "    # 1) Sugerir hiperparámetros\n",
        "    params = {\n",
        "        \"learning_rate\":    trial.suggest_float(\"learning_rate\",    0.001, 0.1),\n",
        "        \"n_estimators\":     trial.suggest_int(  \"n_estimators\",     50, 1000),\n",
        "        \"max_depth\":        trial.suggest_int(  \"max_depth\",        3,  10),\n",
        "        \"max_leaves\":       trial.suggest_int(  \"max_leaves\",       0, 100),\n",
        "        \"min_child_weight\": trial.suggest_int(  \"min_child_weight\", 1,   5),\n",
        "        \"reg_alpha\":        trial.suggest_float(\"reg_alpha\",        0.0, 1.0),\n",
        "        \"reg_lambda\":       trial.suggest_float(\"reg_lambda\",       0.0, 1.0),\n",
        "        \"min_frequency\":    trial.suggest_float(\"min_frequency\",    0.0, 1.0),\n",
        "    }\n",
        "\n",
        "    # 2) Preprocesar datos\n",
        "    preprocessor = ColumnTransformer([\n",
        "        (\"cat\", OneHotEncoder(\n",
        "            handle_unknown=\"ignore\",\n",
        "            sparse_output=False,\n",
        "            min_frequency=params[\"min_frequency\"]\n",
        "        ), categorical_cols),\n",
        "        (\"num\", StandardScaler(), numerical_cols)\n",
        "    ])\n",
        "    Xtr = preprocessor.fit_transform(X_train_transformed)\n",
        "    Xvl = preprocessor.transform(X_val_transformed)\n",
        "\n",
        "    # 3) Crear DMatrix para XGBoost\n",
        "    dtrain = xgb.DMatrix(Xtr, label=y_train)\n",
        "    dvalid = xgb.DMatrix(Xvl, label=y_val)\n",
        "\n",
        "    # 4) Parámetros de XGBoost\n",
        "    xgb_params = {\n",
        "        \"objective\":        \"reg:squarederror\",\n",
        "        \"eval_metric\":      \"mae\",\n",
        "        \"learning_rate\":    params[\"learning_rate\"],\n",
        "        \"max_depth\":        params[\"max_depth\"],\n",
        "        \"max_leaves\":       params[\"max_leaves\"],\n",
        "        \"min_child_weight\": params[\"min_child_weight\"],\n",
        "        \"reg_alpha\":        params[\"reg_alpha\"],\n",
        "        \"reg_lambda\":       params[\"reg_lambda\"],\n",
        "        \"verbosity\":        0,\n",
        "        \"seed\":             RANDOM_STATE,\n",
        "    }\n",
        "\n",
        "    # 5) Pruning callback\n",
        "    pruning_cb = XGBoostPruningCallback(trial, \"validation_0-mae\")\n",
        "\n",
        "    # 6) Entrenar con pruning y sin logs intermedios\n",
        "    bst = xgb.train(\n",
        "        params          = xgb_params,\n",
        "        dtrain          = dtrain,\n",
        "        num_boost_round = params[\"n_estimators\"],\n",
        "        evals           = [(dvalid, \"validation_0\")],\n",
        "        callbacks       = [pruning_cb],\n",
        "        verbose_eval    = False\n",
        "    )\n",
        "\n",
        "    # 7) Evaluar MAE en validación\n",
        "    y_pred = bst.predict(dvalid)\n",
        "    mae    = mean_absolute_error(y_val, y_pred)\n",
        "\n",
        "    # Guardar booster ganador\n",
        "    trial.set_user_attr(\"best_booster\", bst)\n",
        "    return mae\n",
        "\n",
        "if __name__ == \"__main__\":\n",
        "    # 8) Configurar y ejecutar el estudio (5 minutos)\n",
        "    sampler = TPESampler(seed=RANDOM_STATE)\n",
        "    study   = optuna.create_study(direction=\"minimize\", sampler=sampler)\n",
        "    study.optimize(objective, timeout=300, show_progress_bar=False)\n",
        "\n",
        "    # 9) Mostrar resultados\n",
        "    print(f\"Trials realizados: {len(study.trials)}\")\n",
        "    print(f\"Mejor MAE obtenido: {study.best_value:.4f}\")\n",
        "    print(\"Mejores hiperparámetros:\")\n",
        "    for k, v in study.best_params.items():\n",
        "        print(f\" • {k}: {v}\")\n",
        "\n",
        "    # 10) Reconstruir y guardar el preprocesador final\n",
        "    best_freq = study.best_params[\"min_frequency\"]\n",
        "    final_preprocessor = ColumnTransformer([\n",
        "        (\"cat\", OneHotEncoder(\n",
        "            handle_unknown=\"ignore\",\n",
        "            sparse_output=False,\n",
        "            min_frequency=best_freq\n",
        "        ), categorical_cols),\n",
        "        (\"num\", StandardScaler(), numerical_cols)\n",
        "    ])\n",
        "    final_preprocessor.fit(X_train_transformed)\n",
        "    joblib.dump(final_preprocessor, \"preprocessor.pkl\")\n",
        "\n",
        "    # 11) Guardar el booster ganador\n",
        "    best_booster = study.best_trial.user_attrs[\"best_booster\"]\n",
        "    with open(\"xgb_booster.pkl\", \"wb\") as f:\n",
        "        pickle.dump(best_booster, f)\n",
        "\n",
        "    print(\"Preprocesador guardado en preprocessor.pkl\")\n",
        "    print(\"Booster guardado en xgb_booster.pkl\")\n"
      ]
    },
    {
      "cell_type": "markdown",
      "metadata": {},
      "source": [
        "\n",
        "\n",
        "    ¿Qué es prunning? ¿De qué forma debería impactar en el entrenamiento?\n",
        "Pruning es la técnica de detener automáticamente los trials que muestran un rendimiento pobre en etapas tempranas de entrenamiento. En lugar de completar todos los boosting rounds para cada combinación de hiperparámetros, el callback de pruning evalúa la métrica de validación (aquí MAE) e interumpe los trials que dan peores resultados respecto a la mejor configuración en curso.\n",
        "\n",
        "    ¿Cómo cambian sus resultados con respecto a la sección anterior? ¿A qué se puede deber esto? [3 puntos]\n",
        "\n",
        "En primer lugar se nota en la eficiencia ya que destina menos tiempo a configuraciones subóptimas. Además permite realizar más trials en el mismo tiempo límite (5 minutos),por ultimo al concentrarse en regiones prometedoras del espacio de búsqueda, suele mejorar ligeramente la métrica final"
      ]
    },
    {
      "cell_type": "markdown",
      "metadata": {},
      "source": [
        "En compración\n",
        "\n",
        "Configuración\tTrials\tMAE obtenido\n",
        "Sólo Optuna (sin pruning)\t136\t2023.56\n",
        "Con Pruning\t255\t2009.1478\n",
        "\n",
        "¿Cómo cambian los resultados?\n",
        "\n",
        "- Se realizaron ~10× más trials (1370 vs. 136).\n",
        "\n",
        "- El MAE mejoró de 2023.56 a 2009.15 (~14 puntos de reducción).\n",
        "\n",
        "El Pruning interrumpe configuraciones ineficientes, liberando tiempo para explorar más combinaciones, permitiendo un mayor número de trials aumenta la probabilidad de encontrar regiones de hiperparámetros de mejor rendimiento."
      ]
    },
    {
      "attachments": {},
      "cell_type": "markdown",
      "metadata": {
        "cell_id": "8a081778cc704fc6bed05393a5419327",
        "deepnote_cell_type": "markdown",
        "id": "ZMiiVaCUI5wA"
      },
      "source": [
        "## 5. Visualizaciones (5 puntos)\n",
        "\n",
        "<p align=\"center\">\n",
        "  <img src=\"https://media.tenor.com/F-LgB1xTebEAAAAd/look-at-this-graph-nickelback.gif\">\n",
        "</p>\n",
        "\n",
        "\n",
        "Satisfecho con su trabajo, Fiu le pregunta si es posible generar visualizaciones que permitan entender el entrenamiento de su modelo.\n",
        "\n",
        "A partir del siguiente <a href = https://optuna.readthedocs.io/en/stable/tutorial/10_key_features/005_visualization.html#visualization>enlace</a>, genere las siguientes visualizaciones:\n",
        "\n",
        "1. Gráfico de historial de optimización [1 punto]\n",
        "2. Gráfico de coordenadas paralelas [1 punto]\n",
        "3. Gráfico de importancia de hiperparámetros [1 punto]\n",
        "\n",
        "Comente sus resultados:\n",
        "\n",
        "4. ¿Desde qué *trial* se empiezan a observar mejoras notables en sus resultados? [0.5 puntos]\n",
        "5. ¿Qué tendencias puede observar a partir del gráfico de coordenadas paralelas? [1 punto]\n",
        "6. ¿Cuáles son los hiperparámetros con mayor importancia para la optimización de su modelo? [0.5 puntos]"
      ]
    },
    {
      "cell_type": "code",
      "execution_count": null,
      "metadata": {
        "cell_id": "0e706dc9a8d946eda7a9eb1f0463c6d7",
        "deepnote_cell_type": "code",
        "id": "xjxAEENAI5wA"
      },
      "outputs": [],
      "source": [
        "import optuna\n",
        "from optuna.visualization import plot_contour\n",
        "from optuna.visualization import plot_edf\n",
        "from optuna.visualization import plot_intermediate_values\n",
        "from optuna.visualization import plot_optimization_history\n",
        "from optuna.visualization import plot_parallel_coordinate\n",
        "from optuna.visualization import plot_param_importances\n",
        "from optuna.visualization import plot_rank\n",
        "from optuna.visualization import plot_slice\n",
        "from optuna.visualization import plot_timeline"
      ]
    },
    {
      "cell_type": "code",
      "execution_count": 13,
      "metadata": {},
      "outputs": [
        {
          "data": {
            "application/vnd.plotly.v1+json": {
              "config": {
                "plotlyServerURL": "https://plot.ly"
              },
              "data": [
                {
                  "mode": "markers",
                  "name": "Objective Value",
                  "type": "scatter",
                  "x": [
                    0,
                    1,
                    2,
                    3,
                    4,
                    19,
                    21,
                    22,
                    31,
                    32,
                    36,
                    42,
                    51,
                    53,
                    61,
                    62,
                    67,
                    80,
                    81,
                    82,
                    83,
                    85,
                    86,
                    89,
                    90,
                    91,
                    93,
                    94,
                    95,
                    97,
                    101,
                    106,
                    115,
                    124,
                    125,
                    133,
                    138,
                    141,
                    142,
                    151,
                    154,
                    163,
                    177,
                    179,
                    186,
                    193,
                    226,
                    233,
                    250,
                    260,
                    263,
                    290,
                    364,
                    369,
                    409,
                    423,
                    424,
                    425,
                    466,
                    473,
                    513,
                    605,
                    640,
                    704,
                    861,
                    956,
                    972,
                    973,
                    1025,
                    1053,
                    1189,
                    1198,
                    1206,
                    1214,
                    1225,
                    1248,
                    1254,
                    1309,
                    1369
                  ],
                  "y": [
                    2061.748291015625,
                    8274.70703125,
                    12114.12890625,
                    9223.4990234375,
                    6745.51953125,
                    3363.094482421875,
                    2264.6279296875,
                    2878.08642578125,
                    3581.5341796875,
                    2743.27490234375,
                    2277.932861328125,
                    2379.12890625,
                    2697.920654296875,
                    2329.230224609375,
                    2522.2119140625,
                    2395.242919921875,
                    2024.5906982421875,
                    2381.183837890625,
                    2653.569091796875,
                    2348.677001953125,
                    2332.35595703125,
                    2126.389404296875,
                    2148.376953125,
                    2106.091064453125,
                    2085.165771484375,
                    2111.345947265625,
                    2076.794677734375,
                    2088.363037109375,
                    2052.63916015625,
                    2040.0355224609375,
                    2090.91162109375,
                    2108.698974609375,
                    2067.535888671875,
                    2107.16552734375,
                    2070.232177734375,
                    2058.256591796875,
                    2144.828369140625,
                    2042.3555908203125,
                    2086.606689453125,
                    2070.01416015625,
                    2065.589111328125,
                    2107.290771484375,
                    2001.731201171875,
                    2028.2747802734375,
                    2000.06201171875,
                    2009.77685546875,
                    2053.74267578125,
                    2020.2044677734375,
                    2051.84521484375,
                    2041.1417236328125,
                    2030.395751953125,
                    2007.4713134765625,
                    2057.16650390625,
                    2031.4547119140625,
                    2022.6080322265625,
                    2047.4744873046875,
                    2023.002685546875,
                    2028.3309326171875,
                    2018.9140625,
                    2013.6070556640625,
                    1993.8389892578125,
                    2680.35986328125,
                    2020.348876953125,
                    2008.436279296875,
                    2022.7432861328125,
                    2018.48828125,
                    2021.9691162109375,
                    2041.617919921875,
                    2011.259033203125,
                    2025.482177734375,
                    2017.9766845703125,
                    2016.1632080078125,
                    2005.3944091796875,
                    2484.32666015625,
                    2013.9681396484375,
                    1997.2288818359375,
                    1965.143310546875,
                    2010.6025390625,
                    2037.56103515625
                  ]
                },
                {
                  "mode": "lines",
                  "name": "Best Value",
                  "type": "scatter",
                  "x": [
                    0,
                    1,
                    2,
                    3,
                    4,
                    5,
                    6,
                    7,
                    8,
                    9,
                    10,
                    11,
                    12,
                    13,
                    14,
                    15,
                    16,
                    17,
                    18,
                    19,
                    20,
                    21,
                    22,
                    23,
                    24,
                    25,
                    26,
                    27,
                    28,
                    29,
                    30,
                    31,
                    32,
                    33,
                    34,
                    35,
                    36,
                    37,
                    38,
                    39,
                    40,
                    41,
                    42,
                    43,
                    44,
                    45,
                    46,
                    47,
                    48,
                    49,
                    50,
                    51,
                    52,
                    53,
                    54,
                    55,
                    56,
                    57,
                    58,
                    59,
                    60,
                    61,
                    62,
                    63,
                    64,
                    65,
                    66,
                    67,
                    68,
                    69,
                    70,
                    71,
                    72,
                    73,
                    74,
                    75,
                    76,
                    77,
                    78,
                    79,
                    80,
                    81,
                    82,
                    83,
                    84,
                    85,
                    86,
                    87,
                    88,
                    89,
                    90,
                    91,
                    92,
                    93,
                    94,
                    95,
                    96,
                    97,
                    98,
                    99,
                    100,
                    101,
                    102,
                    103,
                    104,
                    105,
                    106,
                    107,
                    108,
                    109,
                    110,
                    111,
                    112,
                    113,
                    114,
                    115,
                    116,
                    117,
                    118,
                    119,
                    120,
                    121,
                    122,
                    123,
                    124,
                    125,
                    126,
                    127,
                    128,
                    129,
                    130,
                    131,
                    132,
                    133,
                    134,
                    135,
                    136,
                    137,
                    138,
                    139,
                    140,
                    141,
                    142,
                    143,
                    144,
                    145,
                    146,
                    147,
                    148,
                    149,
                    150,
                    151,
                    152,
                    153,
                    154,
                    155,
                    156,
                    157,
                    158,
                    159,
                    160,
                    161,
                    162,
                    163,
                    164,
                    165,
                    166,
                    167,
                    168,
                    169,
                    170,
                    171,
                    172,
                    173,
                    174,
                    175,
                    176,
                    177,
                    178,
                    179,
                    180,
                    181,
                    182,
                    183,
                    184,
                    185,
                    186,
                    187,
                    188,
                    189,
                    190,
                    191,
                    192,
                    193,
                    194,
                    195,
                    196,
                    197,
                    198,
                    199,
                    200,
                    201,
                    202,
                    203,
                    204,
                    205,
                    206,
                    207,
                    208,
                    209,
                    210,
                    211,
                    212,
                    213,
                    214,
                    215,
                    216,
                    217,
                    218,
                    219,
                    220,
                    221,
                    222,
                    223,
                    224,
                    225,
                    226,
                    227,
                    228,
                    229,
                    230,
                    231,
                    232,
                    233,
                    234,
                    235,
                    236,
                    237,
                    238,
                    239,
                    240,
                    241,
                    242,
                    243,
                    244,
                    245,
                    246,
                    247,
                    248,
                    249,
                    250,
                    251,
                    252,
                    253,
                    254,
                    255,
                    256,
                    257,
                    258,
                    259,
                    260,
                    261,
                    262,
                    263,
                    264,
                    265,
                    266,
                    267,
                    268,
                    269,
                    270,
                    271,
                    272,
                    273,
                    274,
                    275,
                    276,
                    277,
                    278,
                    279,
                    280,
                    281,
                    282,
                    283,
                    284,
                    285,
                    286,
                    287,
                    288,
                    289,
                    290,
                    291,
                    292,
                    293,
                    294,
                    295,
                    296,
                    297,
                    298,
                    299,
                    300,
                    301,
                    302,
                    303,
                    304,
                    305,
                    306,
                    307,
                    308,
                    309,
                    310,
                    311,
                    312,
                    313,
                    314,
                    315,
                    316,
                    317,
                    318,
                    319,
                    320,
                    321,
                    322,
                    323,
                    324,
                    325,
                    326,
                    327,
                    328,
                    329,
                    330,
                    331,
                    332,
                    333,
                    334,
                    335,
                    336,
                    337,
                    338,
                    339,
                    340,
                    341,
                    342,
                    343,
                    344,
                    345,
                    346,
                    347,
                    348,
                    349,
                    350,
                    351,
                    352,
                    353,
                    354,
                    355,
                    356,
                    357,
                    358,
                    359,
                    360,
                    361,
                    362,
                    363,
                    364,
                    365,
                    366,
                    367,
                    368,
                    369,
                    370,
                    371,
                    372,
                    373,
                    374,
                    375,
                    376,
                    377,
                    378,
                    379,
                    380,
                    381,
                    382,
                    383,
                    384,
                    385,
                    386,
                    387,
                    388,
                    389,
                    390,
                    391,
                    392,
                    393,
                    394,
                    395,
                    396,
                    397,
                    398,
                    399,
                    400,
                    401,
                    402,
                    403,
                    404,
                    405,
                    406,
                    407,
                    408,
                    409,
                    410,
                    411,
                    412,
                    413,
                    414,
                    415,
                    416,
                    417,
                    418,
                    419,
                    420,
                    421,
                    422,
                    423,
                    424,
                    425,
                    426,
                    427,
                    428,
                    429,
                    430,
                    431,
                    432,
                    433,
                    434,
                    435,
                    436,
                    437,
                    438,
                    439,
                    440,
                    441,
                    442,
                    443,
                    444,
                    445,
                    446,
                    447,
                    448,
                    449,
                    450,
                    451,
                    452,
                    453,
                    454,
                    455,
                    456,
                    457,
                    458,
                    459,
                    460,
                    461,
                    462,
                    463,
                    464,
                    465,
                    466,
                    467,
                    468,
                    469,
                    470,
                    471,
                    472,
                    473,
                    474,
                    475,
                    476,
                    477,
                    478,
                    479,
                    480,
                    481,
                    482,
                    483,
                    484,
                    485,
                    486,
                    487,
                    488,
                    489,
                    490,
                    491,
                    492,
                    493,
                    494,
                    495,
                    496,
                    497,
                    498,
                    499,
                    500,
                    501,
                    502,
                    503,
                    504,
                    505,
                    506,
                    507,
                    508,
                    509,
                    510,
                    511,
                    512,
                    513,
                    514,
                    515,
                    516,
                    517,
                    518,
                    519,
                    520,
                    521,
                    522,
                    523,
                    524,
                    525,
                    526,
                    527,
                    528,
                    529,
                    530,
                    531,
                    532,
                    533,
                    534,
                    535,
                    536,
                    537,
                    538,
                    539,
                    540,
                    541,
                    542,
                    543,
                    544,
                    545,
                    546,
                    547,
                    548,
                    549,
                    550,
                    551,
                    552,
                    553,
                    554,
                    555,
                    556,
                    557,
                    558,
                    559,
                    560,
                    561,
                    562,
                    563,
                    564,
                    565,
                    566,
                    567,
                    568,
                    569,
                    570,
                    571,
                    572,
                    573,
                    574,
                    575,
                    576,
                    577,
                    578,
                    579,
                    580,
                    581,
                    582,
                    583,
                    584,
                    585,
                    586,
                    587,
                    588,
                    589,
                    590,
                    591,
                    592,
                    593,
                    594,
                    595,
                    596,
                    597,
                    598,
                    599,
                    600,
                    601,
                    602,
                    603,
                    604,
                    605,
                    606,
                    607,
                    608,
                    609,
                    610,
                    611,
                    612,
                    613,
                    614,
                    615,
                    616,
                    617,
                    618,
                    619,
                    620,
                    621,
                    622,
                    623,
                    624,
                    625,
                    626,
                    627,
                    628,
                    629,
                    630,
                    631,
                    632,
                    633,
                    634,
                    635,
                    636,
                    637,
                    638,
                    639,
                    640,
                    641,
                    642,
                    643,
                    644,
                    645,
                    646,
                    647,
                    648,
                    649,
                    650,
                    651,
                    652,
                    653,
                    654,
                    655,
                    656,
                    657,
                    658,
                    659,
                    660,
                    661,
                    662,
                    663,
                    664,
                    665,
                    666,
                    667,
                    668,
                    669,
                    670,
                    671,
                    672,
                    673,
                    674,
                    675,
                    676,
                    677,
                    678,
                    679,
                    680,
                    681,
                    682,
                    683,
                    684,
                    685,
                    686,
                    687,
                    688,
                    689,
                    690,
                    691,
                    692,
                    693,
                    694,
                    695,
                    696,
                    697,
                    698,
                    699,
                    700,
                    701,
                    702,
                    703,
                    704,
                    705,
                    706,
                    707,
                    708,
                    709,
                    710,
                    711,
                    712,
                    713,
                    714,
                    715,
                    716,
                    717,
                    718,
                    719,
                    720,
                    721,
                    722,
                    723,
                    724,
                    725,
                    726,
                    727,
                    728,
                    729,
                    730,
                    731,
                    732,
                    733,
                    734,
                    735,
                    736,
                    737,
                    738,
                    739,
                    740,
                    741,
                    742,
                    743,
                    744,
                    745,
                    746,
                    747,
                    748,
                    749,
                    750,
                    751,
                    752,
                    753,
                    754,
                    755,
                    756,
                    757,
                    758,
                    759,
                    760,
                    761,
                    762,
                    763,
                    764,
                    765,
                    766,
                    767,
                    768,
                    769,
                    770,
                    771,
                    772,
                    773,
                    774,
                    775,
                    776,
                    777,
                    778,
                    779,
                    780,
                    781,
                    782,
                    783,
                    784,
                    785,
                    786,
                    787,
                    788,
                    789,
                    790,
                    791,
                    792,
                    793,
                    794,
                    795,
                    796,
                    797,
                    798,
                    799,
                    800,
                    801,
                    802,
                    803,
                    804,
                    805,
                    806,
                    807,
                    808,
                    809,
                    810,
                    811,
                    812,
                    813,
                    814,
                    815,
                    816,
                    817,
                    818,
                    819,
                    820,
                    821,
                    822,
                    823,
                    824,
                    825,
                    826,
                    827,
                    828,
                    829,
                    830,
                    831,
                    832,
                    833,
                    834,
                    835,
                    836,
                    837,
                    838,
                    839,
                    840,
                    841,
                    842,
                    843,
                    844,
                    845,
                    846,
                    847,
                    848,
                    849,
                    850,
                    851,
                    852,
                    853,
                    854,
                    855,
                    856,
                    857,
                    858,
                    859,
                    860,
                    861,
                    862,
                    863,
                    864,
                    865,
                    866,
                    867,
                    868,
                    869,
                    870,
                    871,
                    872,
                    873,
                    874,
                    875,
                    876,
                    877,
                    878,
                    879,
                    880,
                    881,
                    882,
                    883,
                    884,
                    885,
                    886,
                    887,
                    888,
                    889,
                    890,
                    891,
                    892,
                    893,
                    894,
                    895,
                    896,
                    897,
                    898,
                    899,
                    900,
                    901,
                    902,
                    903,
                    904,
                    905,
                    906,
                    907,
                    908,
                    909,
                    910,
                    911,
                    912,
                    913,
                    914,
                    915,
                    916,
                    917,
                    918,
                    919,
                    920,
                    921,
                    922,
                    923,
                    924,
                    925,
                    926,
                    927,
                    928,
                    929,
                    930,
                    931,
                    932,
                    933,
                    934,
                    935,
                    936,
                    937,
                    938,
                    939,
                    940,
                    941,
                    942,
                    943,
                    944,
                    945,
                    946,
                    947,
                    948,
                    949,
                    950,
                    951,
                    952,
                    953,
                    954,
                    955,
                    956,
                    957,
                    958,
                    959,
                    960,
                    961,
                    962,
                    963,
                    964,
                    965,
                    966,
                    967,
                    968,
                    969,
                    970,
                    971,
                    972,
                    973,
                    974,
                    975,
                    976,
                    977,
                    978,
                    979,
                    980,
                    981,
                    982,
                    983,
                    984,
                    985,
                    986,
                    987,
                    988,
                    989,
                    990,
                    991,
                    992,
                    993,
                    994,
                    995,
                    996,
                    997,
                    998,
                    999,
                    1000,
                    1001,
                    1002,
                    1003,
                    1004,
                    1005,
                    1006,
                    1007,
                    1008,
                    1009,
                    1010,
                    1011,
                    1012,
                    1013,
                    1014,
                    1015,
                    1016,
                    1017,
                    1018,
                    1019,
                    1020,
                    1021,
                    1022,
                    1023,
                    1024,
                    1025,
                    1026,
                    1027,
                    1028,
                    1029,
                    1030,
                    1031,
                    1032,
                    1033,
                    1034,
                    1035,
                    1036,
                    1037,
                    1038,
                    1039,
                    1040,
                    1041,
                    1042,
                    1043,
                    1044,
                    1045,
                    1046,
                    1047,
                    1048,
                    1049,
                    1050,
                    1051,
                    1052,
                    1053,
                    1054,
                    1055,
                    1056,
                    1057,
                    1058,
                    1059,
                    1060,
                    1061,
                    1062,
                    1063,
                    1064,
                    1065,
                    1066,
                    1067,
                    1068,
                    1069,
                    1070,
                    1071,
                    1072,
                    1073,
                    1074,
                    1075,
                    1076,
                    1077,
                    1078,
                    1079,
                    1080,
                    1081,
                    1082,
                    1083,
                    1084,
                    1085,
                    1086,
                    1087,
                    1088,
                    1089,
                    1090,
                    1091,
                    1092,
                    1093,
                    1094,
                    1095,
                    1096,
                    1097,
                    1098,
                    1099,
                    1100,
                    1101,
                    1102,
                    1103,
                    1104,
                    1105,
                    1106,
                    1107,
                    1108,
                    1109,
                    1110,
                    1111,
                    1112,
                    1113,
                    1114,
                    1115,
                    1116,
                    1117,
                    1118,
                    1119,
                    1120,
                    1121,
                    1122,
                    1123,
                    1124,
                    1125,
                    1126,
                    1127,
                    1128,
                    1129,
                    1130,
                    1131,
                    1132,
                    1133,
                    1134,
                    1135,
                    1136,
                    1137,
                    1138,
                    1139,
                    1140,
                    1141,
                    1142,
                    1143,
                    1144,
                    1145,
                    1146,
                    1147,
                    1148,
                    1149,
                    1150,
                    1151,
                    1152,
                    1153,
                    1154,
                    1155,
                    1156,
                    1157,
                    1158,
                    1159,
                    1160,
                    1161,
                    1162,
                    1163,
                    1164,
                    1165,
                    1166,
                    1167,
                    1168,
                    1169,
                    1170,
                    1171,
                    1172,
                    1173,
                    1174,
                    1175,
                    1176,
                    1177,
                    1178,
                    1179,
                    1180,
                    1181,
                    1182,
                    1183,
                    1184,
                    1185,
                    1186,
                    1187,
                    1188,
                    1189,
                    1190,
                    1191,
                    1192,
                    1193,
                    1194,
                    1195,
                    1196,
                    1197,
                    1198,
                    1199,
                    1200,
                    1201,
                    1202,
                    1203,
                    1204,
                    1205,
                    1206,
                    1207,
                    1208,
                    1209,
                    1210,
                    1211,
                    1212,
                    1213,
                    1214,
                    1215,
                    1216,
                    1217,
                    1218,
                    1219,
                    1220,
                    1221,
                    1222,
                    1223,
                    1224,
                    1225,
                    1226,
                    1227,
                    1228,
                    1229,
                    1230,
                    1231,
                    1232,
                    1233,
                    1234,
                    1235,
                    1236,
                    1237,
                    1238,
                    1239,
                    1240,
                    1241,
                    1242,
                    1243,
                    1244,
                    1245,
                    1246,
                    1247,
                    1248,
                    1249,
                    1250,
                    1251,
                    1252,
                    1253,
                    1254,
                    1255,
                    1256,
                    1257,
                    1258,
                    1259,
                    1260,
                    1261,
                    1262,
                    1263,
                    1264,
                    1265,
                    1266,
                    1267,
                    1268,
                    1269,
                    1270,
                    1271,
                    1272,
                    1273,
                    1274,
                    1275,
                    1276,
                    1277,
                    1278,
                    1279,
                    1280,
                    1281,
                    1282,
                    1283,
                    1284,
                    1285,
                    1286,
                    1287,
                    1288,
                    1289,
                    1290,
                    1291,
                    1292,
                    1293,
                    1294,
                    1295,
                    1296,
                    1297,
                    1298,
                    1299,
                    1300,
                    1301,
                    1302,
                    1303,
                    1304,
                    1305,
                    1306,
                    1307,
                    1308,
                    1309,
                    1310,
                    1311,
                    1312,
                    1313,
                    1314,
                    1315,
                    1316,
                    1317,
                    1318,
                    1319,
                    1320,
                    1321,
                    1322,
                    1323,
                    1324,
                    1325,
                    1326,
                    1327,
                    1328,
                    1329,
                    1330,
                    1331,
                    1332,
                    1333,
                    1334,
                    1335,
                    1336,
                    1337,
                    1338,
                    1339,
                    1340,
                    1341,
                    1342,
                    1343,
                    1344,
                    1345,
                    1346,
                    1347,
                    1348,
                    1349,
                    1350,
                    1351,
                    1352,
                    1353,
                    1354,
                    1355,
                    1356,
                    1357,
                    1358,
                    1359,
                    1360,
                    1361,
                    1362,
                    1363,
                    1364,
                    1365,
                    1366,
                    1367,
                    1368,
                    1369
                  ],
                  "y": [
                    2061.748291015625,
                    2061.748291015625,
                    2061.748291015625,
                    2061.748291015625,
                    2061.748291015625,
                    2061.748291015625,
                    2061.748291015625,
                    2061.748291015625,
                    2061.748291015625,
                    2061.748291015625,
                    2061.748291015625,
                    2061.748291015625,
                    2061.748291015625,
                    2061.748291015625,
                    2061.748291015625,
                    2061.748291015625,
                    2061.748291015625,
                    2061.748291015625,
                    2061.748291015625,
                    2061.748291015625,
                    2061.748291015625,
                    2061.748291015625,
                    2061.748291015625,
                    2061.748291015625,
                    2061.748291015625,
                    2061.748291015625,
                    2061.748291015625,
                    2061.748291015625,
                    2061.748291015625,
                    2061.748291015625,
                    2061.748291015625,
                    2061.748291015625,
                    2061.748291015625,
                    2061.748291015625,
                    2061.748291015625,
                    2061.748291015625,
                    2061.748291015625,
                    2061.748291015625,
                    2061.748291015625,
                    2061.748291015625,
                    2061.748291015625,
                    2061.748291015625,
                    2061.748291015625,
                    2061.748291015625,
                    2061.748291015625,
                    2061.748291015625,
                    2061.748291015625,
                    2061.748291015625,
                    2061.748291015625,
                    2061.748291015625,
                    2061.748291015625,
                    2061.748291015625,
                    2061.748291015625,
                    2061.748291015625,
                    2061.748291015625,
                    2061.748291015625,
                    2061.748291015625,
                    2061.748291015625,
                    2061.748291015625,
                    2061.748291015625,
                    2061.748291015625,
                    2061.748291015625,
                    2061.748291015625,
                    2061.748291015625,
                    2061.748291015625,
                    2061.748291015625,
                    2061.748291015625,
                    2024.5906982421875,
                    2024.5906982421875,
                    2024.5906982421875,
                    2024.5906982421875,
                    2024.5906982421875,
                    2024.5906982421875,
                    2024.5906982421875,
                    2024.5906982421875,
                    2024.5906982421875,
                    2024.5906982421875,
                    2024.5906982421875,
                    2024.5906982421875,
                    2024.5906982421875,
                    2024.5906982421875,
                    2024.5906982421875,
                    2024.5906982421875,
                    2024.5906982421875,
                    2024.5906982421875,
                    2024.5906982421875,
                    2024.5906982421875,
                    2024.5906982421875,
                    2024.5906982421875,
                    2024.5906982421875,
                    2024.5906982421875,
                    2024.5906982421875,
                    2024.5906982421875,
                    2024.5906982421875,
                    2024.5906982421875,
                    2024.5906982421875,
                    2024.5906982421875,
                    2024.5906982421875,
                    2024.5906982421875,
                    2024.5906982421875,
                    2024.5906982421875,
                    2024.5906982421875,
                    2024.5906982421875,
                    2024.5906982421875,
                    2024.5906982421875,
                    2024.5906982421875,
                    2024.5906982421875,
                    2024.5906982421875,
                    2024.5906982421875,
                    2024.5906982421875,
                    2024.5906982421875,
                    2024.5906982421875,
                    2024.5906982421875,
                    2024.5906982421875,
                    2024.5906982421875,
                    2024.5906982421875,
                    2024.5906982421875,
                    2024.5906982421875,
                    2024.5906982421875,
                    2024.5906982421875,
                    2024.5906982421875,
                    2024.5906982421875,
                    2024.5906982421875,
                    2024.5906982421875,
                    2024.5906982421875,
                    2024.5906982421875,
                    2024.5906982421875,
                    2024.5906982421875,
                    2024.5906982421875,
                    2024.5906982421875,
                    2024.5906982421875,
                    2024.5906982421875,
                    2024.5906982421875,
                    2024.5906982421875,
                    2024.5906982421875,
                    2024.5906982421875,
                    2024.5906982421875,
                    2024.5906982421875,
                    2024.5906982421875,
                    2024.5906982421875,
                    2024.5906982421875,
                    2024.5906982421875,
                    2024.5906982421875,
                    2024.5906982421875,
                    2024.5906982421875,
                    2024.5906982421875,
                    2024.5906982421875,
                    2024.5906982421875,
                    2024.5906982421875,
                    2024.5906982421875,
                    2024.5906982421875,
                    2024.5906982421875,
                    2024.5906982421875,
                    2024.5906982421875,
                    2024.5906982421875,
                    2024.5906982421875,
                    2024.5906982421875,
                    2024.5906982421875,
                    2024.5906982421875,
                    2024.5906982421875,
                    2024.5906982421875,
                    2024.5906982421875,
                    2024.5906982421875,
                    2024.5906982421875,
                    2024.5906982421875,
                    2024.5906982421875,
                    2024.5906982421875,
                    2024.5906982421875,
                    2024.5906982421875,
                    2024.5906982421875,
                    2024.5906982421875,
                    2024.5906982421875,
                    2024.5906982421875,
                    2024.5906982421875,
                    2024.5906982421875,
                    2024.5906982421875,
                    2024.5906982421875,
                    2001.731201171875,
                    2001.731201171875,
                    2001.731201171875,
                    2001.731201171875,
                    2001.731201171875,
                    2001.731201171875,
                    2001.731201171875,
                    2001.731201171875,
                    2001.731201171875,
                    2000.06201171875,
                    2000.06201171875,
                    2000.06201171875,
                    2000.06201171875,
                    2000.06201171875,
                    2000.06201171875,
                    2000.06201171875,
                    2000.06201171875,
                    2000.06201171875,
                    2000.06201171875,
                    2000.06201171875,
                    2000.06201171875,
                    2000.06201171875,
                    2000.06201171875,
                    2000.06201171875,
                    2000.06201171875,
                    2000.06201171875,
                    2000.06201171875,
                    2000.06201171875,
                    2000.06201171875,
                    2000.06201171875,
                    2000.06201171875,
                    2000.06201171875,
                    2000.06201171875,
                    2000.06201171875,
                    2000.06201171875,
                    2000.06201171875,
                    2000.06201171875,
                    2000.06201171875,
                    2000.06201171875,
                    2000.06201171875,
                    2000.06201171875,
                    2000.06201171875,
                    2000.06201171875,
                    2000.06201171875,
                    2000.06201171875,
                    2000.06201171875,
                    2000.06201171875,
                    2000.06201171875,
                    2000.06201171875,
                    2000.06201171875,
                    2000.06201171875,
                    2000.06201171875,
                    2000.06201171875,
                    2000.06201171875,
                    2000.06201171875,
                    2000.06201171875,
                    2000.06201171875,
                    2000.06201171875,
                    2000.06201171875,
                    2000.06201171875,
                    2000.06201171875,
                    2000.06201171875,
                    2000.06201171875,
                    2000.06201171875,
                    2000.06201171875,
                    2000.06201171875,
                    2000.06201171875,
                    2000.06201171875,
                    2000.06201171875,
                    2000.06201171875,
                    2000.06201171875,
                    2000.06201171875,
                    2000.06201171875,
                    2000.06201171875,
                    2000.06201171875,
                    2000.06201171875,
                    2000.06201171875,
                    2000.06201171875,
                    2000.06201171875,
                    2000.06201171875,
                    2000.06201171875,
                    2000.06201171875,
                    2000.06201171875,
                    2000.06201171875,
                    2000.06201171875,
                    2000.06201171875,
                    2000.06201171875,
                    2000.06201171875,
                    2000.06201171875,
                    2000.06201171875,
                    2000.06201171875,
                    2000.06201171875,
                    2000.06201171875,
                    2000.06201171875,
                    2000.06201171875,
                    2000.06201171875,
                    2000.06201171875,
                    2000.06201171875,
                    2000.06201171875,
                    2000.06201171875,
                    2000.06201171875,
                    2000.06201171875,
                    2000.06201171875,
                    2000.06201171875,
                    2000.06201171875,
                    2000.06201171875,
                    2000.06201171875,
                    2000.06201171875,
                    2000.06201171875,
                    2000.06201171875,
                    2000.06201171875,
                    2000.06201171875,
                    2000.06201171875,
                    2000.06201171875,
                    2000.06201171875,
                    2000.06201171875,
                    2000.06201171875,
                    2000.06201171875,
                    2000.06201171875,
                    2000.06201171875,
                    2000.06201171875,
                    2000.06201171875,
                    2000.06201171875,
                    2000.06201171875,
                    2000.06201171875,
                    2000.06201171875,
                    2000.06201171875,
                    2000.06201171875,
                    2000.06201171875,
                    2000.06201171875,
                    2000.06201171875,
                    2000.06201171875,
                    2000.06201171875,
                    2000.06201171875,
                    2000.06201171875,
                    2000.06201171875,
                    2000.06201171875,
                    2000.06201171875,
                    2000.06201171875,
                    2000.06201171875,
                    2000.06201171875,
                    2000.06201171875,
                    2000.06201171875,
                    2000.06201171875,
                    2000.06201171875,
                    2000.06201171875,
                    2000.06201171875,
                    2000.06201171875,
                    2000.06201171875,
                    2000.06201171875,
                    2000.06201171875,
                    2000.06201171875,
                    2000.06201171875,
                    2000.06201171875,
                    2000.06201171875,
                    2000.06201171875,
                    2000.06201171875,
                    2000.06201171875,
                    2000.06201171875,
                    2000.06201171875,
                    2000.06201171875,
                    2000.06201171875,
                    2000.06201171875,
                    2000.06201171875,
                    2000.06201171875,
                    2000.06201171875,
                    2000.06201171875,
                    2000.06201171875,
                    2000.06201171875,
                    2000.06201171875,
                    2000.06201171875,
                    2000.06201171875,
                    2000.06201171875,
                    2000.06201171875,
                    2000.06201171875,
                    2000.06201171875,
                    2000.06201171875,
                    2000.06201171875,
                    2000.06201171875,
                    2000.06201171875,
                    2000.06201171875,
                    2000.06201171875,
                    2000.06201171875,
                    2000.06201171875,
                    2000.06201171875,
                    2000.06201171875,
                    2000.06201171875,
                    2000.06201171875,
                    2000.06201171875,
                    2000.06201171875,
                    2000.06201171875,
                    2000.06201171875,
                    2000.06201171875,
                    2000.06201171875,
                    2000.06201171875,
                    2000.06201171875,
                    2000.06201171875,
                    2000.06201171875,
                    2000.06201171875,
                    2000.06201171875,
                    2000.06201171875,
                    2000.06201171875,
                    2000.06201171875,
                    2000.06201171875,
                    2000.06201171875,
                    2000.06201171875,
                    2000.06201171875,
                    2000.06201171875,
                    2000.06201171875,
                    2000.06201171875,
                    2000.06201171875,
                    2000.06201171875,
                    2000.06201171875,
                    2000.06201171875,
                    2000.06201171875,
                    2000.06201171875,
                    2000.06201171875,
                    2000.06201171875,
                    2000.06201171875,
                    2000.06201171875,
                    2000.06201171875,
                    2000.06201171875,
                    2000.06201171875,
                    2000.06201171875,
                    2000.06201171875,
                    2000.06201171875,
                    2000.06201171875,
                    2000.06201171875,
                    2000.06201171875,
                    2000.06201171875,
                    2000.06201171875,
                    2000.06201171875,
                    2000.06201171875,
                    2000.06201171875,
                    2000.06201171875,
                    2000.06201171875,
                    2000.06201171875,
                    2000.06201171875,
                    2000.06201171875,
                    2000.06201171875,
                    2000.06201171875,
                    2000.06201171875,
                    2000.06201171875,
                    2000.06201171875,
                    2000.06201171875,
                    2000.06201171875,
                    2000.06201171875,
                    2000.06201171875,
                    2000.06201171875,
                    2000.06201171875,
                    2000.06201171875,
                    2000.06201171875,
                    2000.06201171875,
                    2000.06201171875,
                    2000.06201171875,
                    2000.06201171875,
                    2000.06201171875,
                    2000.06201171875,
                    2000.06201171875,
                    2000.06201171875,
                    2000.06201171875,
                    2000.06201171875,
                    2000.06201171875,
                    2000.06201171875,
                    2000.06201171875,
                    2000.06201171875,
                    2000.06201171875,
                    2000.06201171875,
                    2000.06201171875,
                    2000.06201171875,
                    2000.06201171875,
                    2000.06201171875,
                    2000.06201171875,
                    2000.06201171875,
                    2000.06201171875,
                    2000.06201171875,
                    2000.06201171875,
                    2000.06201171875,
                    2000.06201171875,
                    2000.06201171875,
                    2000.06201171875,
                    2000.06201171875,
                    2000.06201171875,
                    2000.06201171875,
                    2000.06201171875,
                    2000.06201171875,
                    2000.06201171875,
                    2000.06201171875,
                    2000.06201171875,
                    2000.06201171875,
                    2000.06201171875,
                    2000.06201171875,
                    2000.06201171875,
                    2000.06201171875,
                    2000.06201171875,
                    2000.06201171875,
                    2000.06201171875,
                    2000.06201171875,
                    2000.06201171875,
                    2000.06201171875,
                    2000.06201171875,
                    2000.06201171875,
                    2000.06201171875,
                    2000.06201171875,
                    2000.06201171875,
                    2000.06201171875,
                    2000.06201171875,
                    2000.06201171875,
                    2000.06201171875,
                    2000.06201171875,
                    2000.06201171875,
                    2000.06201171875,
                    2000.06201171875,
                    2000.06201171875,
                    2000.06201171875,
                    2000.06201171875,
                    2000.06201171875,
                    2000.06201171875,
                    2000.06201171875,
                    2000.06201171875,
                    2000.06201171875,
                    2000.06201171875,
                    2000.06201171875,
                    2000.06201171875,
                    2000.06201171875,
                    2000.06201171875,
                    2000.06201171875,
                    2000.06201171875,
                    2000.06201171875,
                    2000.06201171875,
                    2000.06201171875,
                    2000.06201171875,
                    2000.06201171875,
                    2000.06201171875,
                    2000.06201171875,
                    2000.06201171875,
                    1993.8389892578125,
                    1993.8389892578125,
                    1993.8389892578125,
                    1993.8389892578125,
                    1993.8389892578125,
                    1993.8389892578125,
                    1993.8389892578125,
                    1993.8389892578125,
                    1993.8389892578125,
                    1993.8389892578125,
                    1993.8389892578125,
                    1993.8389892578125,
                    1993.8389892578125,
                    1993.8389892578125,
                    1993.8389892578125,
                    1993.8389892578125,
                    1993.8389892578125,
                    1993.8389892578125,
                    1993.8389892578125,
                    1993.8389892578125,
                    1993.8389892578125,
                    1993.8389892578125,
                    1993.8389892578125,
                    1993.8389892578125,
                    1993.8389892578125,
                    1993.8389892578125,
                    1993.8389892578125,
                    1993.8389892578125,
                    1993.8389892578125,
                    1993.8389892578125,
                    1993.8389892578125,
                    1993.8389892578125,
                    1993.8389892578125,
                    1993.8389892578125,
                    1993.8389892578125,
                    1993.8389892578125,
                    1993.8389892578125,
                    1993.8389892578125,
                    1993.8389892578125,
                    1993.8389892578125,
                    1993.8389892578125,
                    1993.8389892578125,
                    1993.8389892578125,
                    1993.8389892578125,
                    1993.8389892578125,
                    1993.8389892578125,
                    1993.8389892578125,
                    1993.8389892578125,
                    1993.8389892578125,
                    1993.8389892578125,
                    1993.8389892578125,
                    1993.8389892578125,
                    1993.8389892578125,
                    1993.8389892578125,
                    1993.8389892578125,
                    1993.8389892578125,
                    1993.8389892578125,
                    1993.8389892578125,
                    1993.8389892578125,
                    1993.8389892578125,
                    1993.8389892578125,
                    1993.8389892578125,
                    1993.8389892578125,
                    1993.8389892578125,
                    1993.8389892578125,
                    1993.8389892578125,
                    1993.8389892578125,
                    1993.8389892578125,
                    1993.8389892578125,
                    1993.8389892578125,
                    1993.8389892578125,
                    1993.8389892578125,
                    1993.8389892578125,
                    1993.8389892578125,
                    1993.8389892578125,
                    1993.8389892578125,
                    1993.8389892578125,
                    1993.8389892578125,
                    1993.8389892578125,
                    1993.8389892578125,
                    1993.8389892578125,
                    1993.8389892578125,
                    1993.8389892578125,
                    1993.8389892578125,
                    1993.8389892578125,
                    1993.8389892578125,
                    1993.8389892578125,
                    1993.8389892578125,
                    1993.8389892578125,
                    1993.8389892578125,
                    1993.8389892578125,
                    1993.8389892578125,
                    1993.8389892578125,
                    1993.8389892578125,
                    1993.8389892578125,
                    1993.8389892578125,
                    1993.8389892578125,
                    1993.8389892578125,
                    1993.8389892578125,
                    1993.8389892578125,
                    1993.8389892578125,
                    1993.8389892578125,
                    1993.8389892578125,
                    1993.8389892578125,
                    1993.8389892578125,
                    1993.8389892578125,
                    1993.8389892578125,
                    1993.8389892578125,
                    1993.8389892578125,
                    1993.8389892578125,
                    1993.8389892578125,
                    1993.8389892578125,
                    1993.8389892578125,
                    1993.8389892578125,
                    1993.8389892578125,
                    1993.8389892578125,
                    1993.8389892578125,
                    1993.8389892578125,
                    1993.8389892578125,
                    1993.8389892578125,
                    1993.8389892578125,
                    1993.8389892578125,
                    1993.8389892578125,
                    1993.8389892578125,
                    1993.8389892578125,
                    1993.8389892578125,
                    1993.8389892578125,
                    1993.8389892578125,
                    1993.8389892578125,
                    1993.8389892578125,
                    1993.8389892578125,
                    1993.8389892578125,
                    1993.8389892578125,
                    1993.8389892578125,
                    1993.8389892578125,
                    1993.8389892578125,
                    1993.8389892578125,
                    1993.8389892578125,
                    1993.8389892578125,
                    1993.8389892578125,
                    1993.8389892578125,
                    1993.8389892578125,
                    1993.8389892578125,
                    1993.8389892578125,
                    1993.8389892578125,
                    1993.8389892578125,
                    1993.8389892578125,
                    1993.8389892578125,
                    1993.8389892578125,
                    1993.8389892578125,
                    1993.8389892578125,
                    1993.8389892578125,
                    1993.8389892578125,
                    1993.8389892578125,
                    1993.8389892578125,
                    1993.8389892578125,
                    1993.8389892578125,
                    1993.8389892578125,
                    1993.8389892578125,
                    1993.8389892578125,
                    1993.8389892578125,
                    1993.8389892578125,
                    1993.8389892578125,
                    1993.8389892578125,
                    1993.8389892578125,
                    1993.8389892578125,
                    1993.8389892578125,
                    1993.8389892578125,
                    1993.8389892578125,
                    1993.8389892578125,
                    1993.8389892578125,
                    1993.8389892578125,
                    1993.8389892578125,
                    1993.8389892578125,
                    1993.8389892578125,
                    1993.8389892578125,
                    1993.8389892578125,
                    1993.8389892578125,
                    1993.8389892578125,
                    1993.8389892578125,
                    1993.8389892578125,
                    1993.8389892578125,
                    1993.8389892578125,
                    1993.8389892578125,
                    1993.8389892578125,
                    1993.8389892578125,
                    1993.8389892578125,
                    1993.8389892578125,
                    1993.8389892578125,
                    1993.8389892578125,
                    1993.8389892578125,
                    1993.8389892578125,
                    1993.8389892578125,
                    1993.8389892578125,
                    1993.8389892578125,
                    1993.8389892578125,
                    1993.8389892578125,
                    1993.8389892578125,
                    1993.8389892578125,
                    1993.8389892578125,
                    1993.8389892578125,
                    1993.8389892578125,
                    1993.8389892578125,
                    1993.8389892578125,
                    1993.8389892578125,
                    1993.8389892578125,
                    1993.8389892578125,
                    1993.8389892578125,
                    1993.8389892578125,
                    1993.8389892578125,
                    1993.8389892578125,
                    1993.8389892578125,
                    1993.8389892578125,
                    1993.8389892578125,
                    1993.8389892578125,
                    1993.8389892578125,
                    1993.8389892578125,
                    1993.8389892578125,
                    1993.8389892578125,
                    1993.8389892578125,
                    1993.8389892578125,
                    1993.8389892578125,
                    1993.8389892578125,
                    1993.8389892578125,
                    1993.8389892578125,
                    1993.8389892578125,
                    1993.8389892578125,
                    1993.8389892578125,
                    1993.8389892578125,
                    1993.8389892578125,
                    1993.8389892578125,
                    1993.8389892578125,
                    1993.8389892578125,
                    1993.8389892578125,
                    1993.8389892578125,
                    1993.8389892578125,
                    1993.8389892578125,
                    1993.8389892578125,
                    1993.8389892578125,
                    1993.8389892578125,
                    1993.8389892578125,
                    1993.8389892578125,
                    1993.8389892578125,
                    1993.8389892578125,
                    1993.8389892578125,
                    1993.8389892578125,
                    1993.8389892578125,
                    1993.8389892578125,
                    1993.8389892578125,
                    1993.8389892578125,
                    1993.8389892578125,
                    1993.8389892578125,
                    1993.8389892578125,
                    1993.8389892578125,
                    1993.8389892578125,
                    1993.8389892578125,
                    1993.8389892578125,
                    1993.8389892578125,
                    1993.8389892578125,
                    1993.8389892578125,
                    1993.8389892578125,
                    1993.8389892578125,
                    1993.8389892578125,
                    1993.8389892578125,
                    1993.8389892578125,
                    1993.8389892578125,
                    1993.8389892578125,
                    1993.8389892578125,
                    1993.8389892578125,
                    1993.8389892578125,
                    1993.8389892578125,
                    1993.8389892578125,
                    1993.8389892578125,
                    1993.8389892578125,
                    1993.8389892578125,
                    1993.8389892578125,
                    1993.8389892578125,
                    1993.8389892578125,
                    1993.8389892578125,
                    1993.8389892578125,
                    1993.8389892578125,
                    1993.8389892578125,
                    1993.8389892578125,
                    1993.8389892578125,
                    1993.8389892578125,
                    1993.8389892578125,
                    1993.8389892578125,
                    1993.8389892578125,
                    1993.8389892578125,
                    1993.8389892578125,
                    1993.8389892578125,
                    1993.8389892578125,
                    1993.8389892578125,
                    1993.8389892578125,
                    1993.8389892578125,
                    1993.8389892578125,
                    1993.8389892578125,
                    1993.8389892578125,
                    1993.8389892578125,
                    1993.8389892578125,
                    1993.8389892578125,
                    1993.8389892578125,
                    1993.8389892578125,
                    1993.8389892578125,
                    1993.8389892578125,
                    1993.8389892578125,
                    1993.8389892578125,
                    1993.8389892578125,
                    1993.8389892578125,
                    1993.8389892578125,
                    1993.8389892578125,
                    1993.8389892578125,
                    1993.8389892578125,
                    1993.8389892578125,
                    1993.8389892578125,
                    1993.8389892578125,
                    1993.8389892578125,
                    1993.8389892578125,
                    1993.8389892578125,
                    1993.8389892578125,
                    1993.8389892578125,
                    1993.8389892578125,
                    1993.8389892578125,
                    1993.8389892578125,
                    1993.8389892578125,
                    1993.8389892578125,
                    1993.8389892578125,
                    1993.8389892578125,
                    1993.8389892578125,
                    1993.8389892578125,
                    1993.8389892578125,
                    1993.8389892578125,
                    1993.8389892578125,
                    1993.8389892578125,
                    1993.8389892578125,
                    1993.8389892578125,
                    1993.8389892578125,
                    1993.8389892578125,
                    1993.8389892578125,
                    1993.8389892578125,
                    1993.8389892578125,
                    1993.8389892578125,
                    1993.8389892578125,
                    1993.8389892578125,
                    1993.8389892578125,
                    1993.8389892578125,
                    1993.8389892578125,
                    1993.8389892578125,
                    1993.8389892578125,
                    1993.8389892578125,
                    1993.8389892578125,
                    1993.8389892578125,
                    1993.8389892578125,
                    1993.8389892578125,
                    1993.8389892578125,
                    1993.8389892578125,
                    1993.8389892578125,
                    1993.8389892578125,
                    1993.8389892578125,
                    1993.8389892578125,
                    1993.8389892578125,
                    1993.8389892578125,
                    1993.8389892578125,
                    1993.8389892578125,
                    1993.8389892578125,
                    1993.8389892578125,
                    1993.8389892578125,
                    1993.8389892578125,
                    1993.8389892578125,
                    1993.8389892578125,
                    1993.8389892578125,
                    1993.8389892578125,
                    1993.8389892578125,
                    1993.8389892578125,
                    1993.8389892578125,
                    1993.8389892578125,
                    1993.8389892578125,
                    1993.8389892578125,
                    1993.8389892578125,
                    1993.8389892578125,
                    1993.8389892578125,
                    1993.8389892578125,
                    1993.8389892578125,
                    1993.8389892578125,
                    1993.8389892578125,
                    1993.8389892578125,
                    1993.8389892578125,
                    1993.8389892578125,
                    1993.8389892578125,
                    1993.8389892578125,
                    1993.8389892578125,
                    1993.8389892578125,
                    1993.8389892578125,
                    1993.8389892578125,
                    1993.8389892578125,
                    1993.8389892578125,
                    1993.8389892578125,
                    1993.8389892578125,
                    1993.8389892578125,
                    1993.8389892578125,
                    1993.8389892578125,
                    1993.8389892578125,
                    1993.8389892578125,
                    1993.8389892578125,
                    1993.8389892578125,
                    1993.8389892578125,
                    1993.8389892578125,
                    1993.8389892578125,
                    1993.8389892578125,
                    1993.8389892578125,
                    1993.8389892578125,
                    1993.8389892578125,
                    1993.8389892578125,
                    1993.8389892578125,
                    1993.8389892578125,
                    1993.8389892578125,
                    1993.8389892578125,
                    1993.8389892578125,
                    1993.8389892578125,
                    1993.8389892578125,
                    1993.8389892578125,
                    1993.8389892578125,
                    1993.8389892578125,
                    1993.8389892578125,
                    1993.8389892578125,
                    1993.8389892578125,
                    1993.8389892578125,
                    1993.8389892578125,
                    1993.8389892578125,
                    1993.8389892578125,
                    1993.8389892578125,
                    1993.8389892578125,
                    1993.8389892578125,
                    1993.8389892578125,
                    1993.8389892578125,
                    1993.8389892578125,
                    1993.8389892578125,
                    1993.8389892578125,
                    1993.8389892578125,
                    1993.8389892578125,
                    1993.8389892578125,
                    1993.8389892578125,
                    1993.8389892578125,
                    1993.8389892578125,
                    1993.8389892578125,
                    1993.8389892578125,
                    1993.8389892578125,
                    1993.8389892578125,
                    1993.8389892578125,
                    1993.8389892578125,
                    1993.8389892578125,
                    1993.8389892578125,
                    1993.8389892578125,
                    1993.8389892578125,
                    1993.8389892578125,
                    1993.8389892578125,
                    1993.8389892578125,
                    1993.8389892578125,
                    1993.8389892578125,
                    1993.8389892578125,
                    1993.8389892578125,
                    1993.8389892578125,
                    1993.8389892578125,
                    1993.8389892578125,
                    1993.8389892578125,
                    1993.8389892578125,
                    1993.8389892578125,
                    1993.8389892578125,
                    1993.8389892578125,
                    1993.8389892578125,
                    1993.8389892578125,
                    1993.8389892578125,
                    1993.8389892578125,
                    1993.8389892578125,
                    1993.8389892578125,
                    1993.8389892578125,
                    1993.8389892578125,
                    1993.8389892578125,
                    1993.8389892578125,
                    1993.8389892578125,
                    1993.8389892578125,
                    1993.8389892578125,
                    1993.8389892578125,
                    1993.8389892578125,
                    1993.8389892578125,
                    1993.8389892578125,
                    1993.8389892578125,
                    1993.8389892578125,
                    1993.8389892578125,
                    1993.8389892578125,
                    1993.8389892578125,
                    1993.8389892578125,
                    1993.8389892578125,
                    1993.8389892578125,
                    1993.8389892578125,
                    1993.8389892578125,
                    1993.8389892578125,
                    1993.8389892578125,
                    1993.8389892578125,
                    1993.8389892578125,
                    1993.8389892578125,
                    1993.8389892578125,
                    1993.8389892578125,
                    1993.8389892578125,
                    1993.8389892578125,
                    1993.8389892578125,
                    1993.8389892578125,
                    1993.8389892578125,
                    1993.8389892578125,
                    1993.8389892578125,
                    1993.8389892578125,
                    1993.8389892578125,
                    1993.8389892578125,
                    1993.8389892578125,
                    1993.8389892578125,
                    1993.8389892578125,
                    1993.8389892578125,
                    1993.8389892578125,
                    1993.8389892578125,
                    1993.8389892578125,
                    1993.8389892578125,
                    1993.8389892578125,
                    1993.8389892578125,
                    1993.8389892578125,
                    1993.8389892578125,
                    1993.8389892578125,
                    1993.8389892578125,
                    1993.8389892578125,
                    1993.8389892578125,
                    1993.8389892578125,
                    1993.8389892578125,
                    1993.8389892578125,
                    1993.8389892578125,
                    1993.8389892578125,
                    1993.8389892578125,
                    1993.8389892578125,
                    1993.8389892578125,
                    1993.8389892578125,
                    1993.8389892578125,
                    1993.8389892578125,
                    1993.8389892578125,
                    1993.8389892578125,
                    1993.8389892578125,
                    1993.8389892578125,
                    1993.8389892578125,
                    1993.8389892578125,
                    1993.8389892578125,
                    1993.8389892578125,
                    1993.8389892578125,
                    1993.8389892578125,
                    1993.8389892578125,
                    1993.8389892578125,
                    1993.8389892578125,
                    1993.8389892578125,
                    1993.8389892578125,
                    1993.8389892578125,
                    1993.8389892578125,
                    1993.8389892578125,
                    1993.8389892578125,
                    1993.8389892578125,
                    1993.8389892578125,
                    1993.8389892578125,
                    1993.8389892578125,
                    1993.8389892578125,
                    1993.8389892578125,
                    1993.8389892578125,
                    1993.8389892578125,
                    1993.8389892578125,
                    1993.8389892578125,
                    1993.8389892578125,
                    1993.8389892578125,
                    1993.8389892578125,
                    1993.8389892578125,
                    1993.8389892578125,
                    1993.8389892578125,
                    1993.8389892578125,
                    1993.8389892578125,
                    1993.8389892578125,
                    1993.8389892578125,
                    1993.8389892578125,
                    1993.8389892578125,
                    1993.8389892578125,
                    1993.8389892578125,
                    1993.8389892578125,
                    1993.8389892578125,
                    1993.8389892578125,
                    1993.8389892578125,
                    1993.8389892578125,
                    1993.8389892578125,
                    1993.8389892578125,
                    1993.8389892578125,
                    1993.8389892578125,
                    1993.8389892578125,
                    1993.8389892578125,
                    1993.8389892578125,
                    1993.8389892578125,
                    1993.8389892578125,
                    1993.8389892578125,
                    1993.8389892578125,
                    1993.8389892578125,
                    1993.8389892578125,
                    1993.8389892578125,
                    1993.8389892578125,
                    1993.8389892578125,
                    1993.8389892578125,
                    1993.8389892578125,
                    1993.8389892578125,
                    1993.8389892578125,
                    1993.8389892578125,
                    1993.8389892578125,
                    1993.8389892578125,
                    1993.8389892578125,
                    1993.8389892578125,
                    1993.8389892578125,
                    1993.8389892578125,
                    1993.8389892578125,
                    1993.8389892578125,
                    1993.8389892578125,
                    1993.8389892578125,
                    1993.8389892578125,
                    1993.8389892578125,
                    1993.8389892578125,
                    1993.8389892578125,
                    1993.8389892578125,
                    1993.8389892578125,
                    1993.8389892578125,
                    1993.8389892578125,
                    1993.8389892578125,
                    1993.8389892578125,
                    1993.8389892578125,
                    1993.8389892578125,
                    1993.8389892578125,
                    1993.8389892578125,
                    1993.8389892578125,
                    1993.8389892578125,
                    1993.8389892578125,
                    1993.8389892578125,
                    1993.8389892578125,
                    1993.8389892578125,
                    1993.8389892578125,
                    1993.8389892578125,
                    1993.8389892578125,
                    1993.8389892578125,
                    1993.8389892578125,
                    1993.8389892578125,
                    1993.8389892578125,
                    1993.8389892578125,
                    1993.8389892578125,
                    1993.8389892578125,
                    1993.8389892578125,
                    1993.8389892578125,
                    1993.8389892578125,
                    1993.8389892578125,
                    1993.8389892578125,
                    1993.8389892578125,
                    1993.8389892578125,
                    1993.8389892578125,
                    1993.8389892578125,
                    1993.8389892578125,
                    1993.8389892578125,
                    1993.8389892578125,
                    1993.8389892578125,
                    1993.8389892578125,
                    1993.8389892578125,
                    1993.8389892578125,
                    1993.8389892578125,
                    1993.8389892578125,
                    1993.8389892578125,
                    1993.8389892578125,
                    1993.8389892578125,
                    1993.8389892578125,
                    1993.8389892578125,
                    1993.8389892578125,
                    1993.8389892578125,
                    1993.8389892578125,
                    1993.8389892578125,
                    1993.8389892578125,
                    1993.8389892578125,
                    1993.8389892578125,
                    1993.8389892578125,
                    1993.8389892578125,
                    1993.8389892578125,
                    1993.8389892578125,
                    1993.8389892578125,
                    1993.8389892578125,
                    1993.8389892578125,
                    1993.8389892578125,
                    1993.8389892578125,
                    1993.8389892578125,
                    1993.8389892578125,
                    1993.8389892578125,
                    1993.8389892578125,
                    1993.8389892578125,
                    1993.8389892578125,
                    1993.8389892578125,
                    1993.8389892578125,
                    1993.8389892578125,
                    1993.8389892578125,
                    1993.8389892578125,
                    1993.8389892578125,
                    1993.8389892578125,
                    1993.8389892578125,
                    1993.8389892578125,
                    1993.8389892578125,
                    1993.8389892578125,
                    1993.8389892578125,
                    1993.8389892578125,
                    1993.8389892578125,
                    1993.8389892578125,
                    1993.8389892578125,
                    1993.8389892578125,
                    1993.8389892578125,
                    1993.8389892578125,
                    1993.8389892578125,
                    1993.8389892578125,
                    1993.8389892578125,
                    1993.8389892578125,
                    1993.8389892578125,
                    1993.8389892578125,
                    1993.8389892578125,
                    1993.8389892578125,
                    1993.8389892578125,
                    1993.8389892578125,
                    1993.8389892578125,
                    1993.8389892578125,
                    1993.8389892578125,
                    1993.8389892578125,
                    1993.8389892578125,
                    1993.8389892578125,
                    1993.8389892578125,
                    1993.8389892578125,
                    1993.8389892578125,
                    1993.8389892578125,
                    1993.8389892578125,
                    1993.8389892578125,
                    1993.8389892578125,
                    1993.8389892578125,
                    1993.8389892578125,
                    1993.8389892578125,
                    1993.8389892578125,
                    1993.8389892578125,
                    1965.143310546875,
                    1965.143310546875,
                    1965.143310546875,
                    1965.143310546875,
                    1965.143310546875,
                    1965.143310546875,
                    1965.143310546875,
                    1965.143310546875,
                    1965.143310546875,
                    1965.143310546875,
                    1965.143310546875,
                    1965.143310546875,
                    1965.143310546875,
                    1965.143310546875,
                    1965.143310546875,
                    1965.143310546875,
                    1965.143310546875,
                    1965.143310546875,
                    1965.143310546875,
                    1965.143310546875,
                    1965.143310546875,
                    1965.143310546875,
                    1965.143310546875,
                    1965.143310546875,
                    1965.143310546875,
                    1965.143310546875,
                    1965.143310546875,
                    1965.143310546875,
                    1965.143310546875,
                    1965.143310546875,
                    1965.143310546875,
                    1965.143310546875,
                    1965.143310546875,
                    1965.143310546875,
                    1965.143310546875,
                    1965.143310546875,
                    1965.143310546875,
                    1965.143310546875,
                    1965.143310546875,
                    1965.143310546875,
                    1965.143310546875,
                    1965.143310546875,
                    1965.143310546875,
                    1965.143310546875,
                    1965.143310546875,
                    1965.143310546875,
                    1965.143310546875,
                    1965.143310546875,
                    1965.143310546875,
                    1965.143310546875,
                    1965.143310546875,
                    1965.143310546875,
                    1965.143310546875,
                    1965.143310546875,
                    1965.143310546875,
                    1965.143310546875,
                    1965.143310546875,
                    1965.143310546875,
                    1965.143310546875,
                    1965.143310546875,
                    1965.143310546875,
                    1965.143310546875,
                    1965.143310546875,
                    1965.143310546875,
                    1965.143310546875,
                    1965.143310546875,
                    1965.143310546875,
                    1965.143310546875,
                    1965.143310546875,
                    1965.143310546875,
                    1965.143310546875,
                    1965.143310546875,
                    1965.143310546875,
                    1965.143310546875,
                    1965.143310546875,
                    1965.143310546875,
                    1965.143310546875,
                    1965.143310546875,
                    1965.143310546875,
                    1965.143310546875,
                    1965.143310546875,
                    1965.143310546875,
                    1965.143310546875,
                    1965.143310546875,
                    1965.143310546875,
                    1965.143310546875,
                    1965.143310546875,
                    1965.143310546875,
                    1965.143310546875,
                    1965.143310546875,
                    1965.143310546875,
                    1965.143310546875,
                    1965.143310546875,
                    1965.143310546875,
                    1965.143310546875,
                    1965.143310546875,
                    1965.143310546875,
                    1965.143310546875,
                    1965.143310546875,
                    1965.143310546875,
                    1965.143310546875,
                    1965.143310546875,
                    1965.143310546875,
                    1965.143310546875,
                    1965.143310546875,
                    1965.143310546875,
                    1965.143310546875,
                    1965.143310546875,
                    1965.143310546875,
                    1965.143310546875,
                    1965.143310546875,
                    1965.143310546875,
                    1965.143310546875,
                    1965.143310546875,
                    1965.143310546875,
                    1965.143310546875
                  ]
                },
                {
                  "marker": {
                    "color": "#cccccc"
                  },
                  "mode": "markers",
                  "name": "Infeasible Trial",
                  "showlegend": false,
                  "type": "scatter",
                  "x": [],
                  "y": []
                }
              ],
              "layout": {
                "template": {
                  "data": {
                    "bar": [
                      {
                        "error_x": {
                          "color": "#2a3f5f"
                        },
                        "error_y": {
                          "color": "#2a3f5f"
                        },
                        "marker": {
                          "line": {
                            "color": "#E5ECF6",
                            "width": 0.5
                          },
                          "pattern": {
                            "fillmode": "overlay",
                            "size": 10,
                            "solidity": 0.2
                          }
                        },
                        "type": "bar"
                      }
                    ],
                    "barpolar": [
                      {
                        "marker": {
                          "line": {
                            "color": "#E5ECF6",
                            "width": 0.5
                          },
                          "pattern": {
                            "fillmode": "overlay",
                            "size": 10,
                            "solidity": 0.2
                          }
                        },
                        "type": "barpolar"
                      }
                    ],
                    "carpet": [
                      {
                        "aaxis": {
                          "endlinecolor": "#2a3f5f",
                          "gridcolor": "white",
                          "linecolor": "white",
                          "minorgridcolor": "white",
                          "startlinecolor": "#2a3f5f"
                        },
                        "baxis": {
                          "endlinecolor": "#2a3f5f",
                          "gridcolor": "white",
                          "linecolor": "white",
                          "minorgridcolor": "white",
                          "startlinecolor": "#2a3f5f"
                        },
                        "type": "carpet"
                      }
                    ],
                    "choropleth": [
                      {
                        "colorbar": {
                          "outlinewidth": 0,
                          "ticks": ""
                        },
                        "type": "choropleth"
                      }
                    ],
                    "contour": [
                      {
                        "colorbar": {
                          "outlinewidth": 0,
                          "ticks": ""
                        },
                        "colorscale": [
                          [
                            0,
                            "#0d0887"
                          ],
                          [
                            0.1111111111111111,
                            "#46039f"
                          ],
                          [
                            0.2222222222222222,
                            "#7201a8"
                          ],
                          [
                            0.3333333333333333,
                            "#9c179e"
                          ],
                          [
                            0.4444444444444444,
                            "#bd3786"
                          ],
                          [
                            0.5555555555555556,
                            "#d8576b"
                          ],
                          [
                            0.6666666666666666,
                            "#ed7953"
                          ],
                          [
                            0.7777777777777778,
                            "#fb9f3a"
                          ],
                          [
                            0.8888888888888888,
                            "#fdca26"
                          ],
                          [
                            1,
                            "#f0f921"
                          ]
                        ],
                        "type": "contour"
                      }
                    ],
                    "contourcarpet": [
                      {
                        "colorbar": {
                          "outlinewidth": 0,
                          "ticks": ""
                        },
                        "type": "contourcarpet"
                      }
                    ],
                    "heatmap": [
                      {
                        "colorbar": {
                          "outlinewidth": 0,
                          "ticks": ""
                        },
                        "colorscale": [
                          [
                            0,
                            "#0d0887"
                          ],
                          [
                            0.1111111111111111,
                            "#46039f"
                          ],
                          [
                            0.2222222222222222,
                            "#7201a8"
                          ],
                          [
                            0.3333333333333333,
                            "#9c179e"
                          ],
                          [
                            0.4444444444444444,
                            "#bd3786"
                          ],
                          [
                            0.5555555555555556,
                            "#d8576b"
                          ],
                          [
                            0.6666666666666666,
                            "#ed7953"
                          ],
                          [
                            0.7777777777777778,
                            "#fb9f3a"
                          ],
                          [
                            0.8888888888888888,
                            "#fdca26"
                          ],
                          [
                            1,
                            "#f0f921"
                          ]
                        ],
                        "type": "heatmap"
                      }
                    ],
                    "histogram": [
                      {
                        "marker": {
                          "pattern": {
                            "fillmode": "overlay",
                            "size": 10,
                            "solidity": 0.2
                          }
                        },
                        "type": "histogram"
                      }
                    ],
                    "histogram2d": [
                      {
                        "colorbar": {
                          "outlinewidth": 0,
                          "ticks": ""
                        },
                        "colorscale": [
                          [
                            0,
                            "#0d0887"
                          ],
                          [
                            0.1111111111111111,
                            "#46039f"
                          ],
                          [
                            0.2222222222222222,
                            "#7201a8"
                          ],
                          [
                            0.3333333333333333,
                            "#9c179e"
                          ],
                          [
                            0.4444444444444444,
                            "#bd3786"
                          ],
                          [
                            0.5555555555555556,
                            "#d8576b"
                          ],
                          [
                            0.6666666666666666,
                            "#ed7953"
                          ],
                          [
                            0.7777777777777778,
                            "#fb9f3a"
                          ],
                          [
                            0.8888888888888888,
                            "#fdca26"
                          ],
                          [
                            1,
                            "#f0f921"
                          ]
                        ],
                        "type": "histogram2d"
                      }
                    ],
                    "histogram2dcontour": [
                      {
                        "colorbar": {
                          "outlinewidth": 0,
                          "ticks": ""
                        },
                        "colorscale": [
                          [
                            0,
                            "#0d0887"
                          ],
                          [
                            0.1111111111111111,
                            "#46039f"
                          ],
                          [
                            0.2222222222222222,
                            "#7201a8"
                          ],
                          [
                            0.3333333333333333,
                            "#9c179e"
                          ],
                          [
                            0.4444444444444444,
                            "#bd3786"
                          ],
                          [
                            0.5555555555555556,
                            "#d8576b"
                          ],
                          [
                            0.6666666666666666,
                            "#ed7953"
                          ],
                          [
                            0.7777777777777778,
                            "#fb9f3a"
                          ],
                          [
                            0.8888888888888888,
                            "#fdca26"
                          ],
                          [
                            1,
                            "#f0f921"
                          ]
                        ],
                        "type": "histogram2dcontour"
                      }
                    ],
                    "mesh3d": [
                      {
                        "colorbar": {
                          "outlinewidth": 0,
                          "ticks": ""
                        },
                        "type": "mesh3d"
                      }
                    ],
                    "parcoords": [
                      {
                        "line": {
                          "colorbar": {
                            "outlinewidth": 0,
                            "ticks": ""
                          }
                        },
                        "type": "parcoords"
                      }
                    ],
                    "pie": [
                      {
                        "automargin": true,
                        "type": "pie"
                      }
                    ],
                    "scatter": [
                      {
                        "fillpattern": {
                          "fillmode": "overlay",
                          "size": 10,
                          "solidity": 0.2
                        },
                        "type": "scatter"
                      }
                    ],
                    "scatter3d": [
                      {
                        "line": {
                          "colorbar": {
                            "outlinewidth": 0,
                            "ticks": ""
                          }
                        },
                        "marker": {
                          "colorbar": {
                            "outlinewidth": 0,
                            "ticks": ""
                          }
                        },
                        "type": "scatter3d"
                      }
                    ],
                    "scattercarpet": [
                      {
                        "marker": {
                          "colorbar": {
                            "outlinewidth": 0,
                            "ticks": ""
                          }
                        },
                        "type": "scattercarpet"
                      }
                    ],
                    "scattergeo": [
                      {
                        "marker": {
                          "colorbar": {
                            "outlinewidth": 0,
                            "ticks": ""
                          }
                        },
                        "type": "scattergeo"
                      }
                    ],
                    "scattergl": [
                      {
                        "marker": {
                          "colorbar": {
                            "outlinewidth": 0,
                            "ticks": ""
                          }
                        },
                        "type": "scattergl"
                      }
                    ],
                    "scattermap": [
                      {
                        "marker": {
                          "colorbar": {
                            "outlinewidth": 0,
                            "ticks": ""
                          }
                        },
                        "type": "scattermap"
                      }
                    ],
                    "scattermapbox": [
                      {
                        "marker": {
                          "colorbar": {
                            "outlinewidth": 0,
                            "ticks": ""
                          }
                        },
                        "type": "scattermapbox"
                      }
                    ],
                    "scatterpolar": [
                      {
                        "marker": {
                          "colorbar": {
                            "outlinewidth": 0,
                            "ticks": ""
                          }
                        },
                        "type": "scatterpolar"
                      }
                    ],
                    "scatterpolargl": [
                      {
                        "marker": {
                          "colorbar": {
                            "outlinewidth": 0,
                            "ticks": ""
                          }
                        },
                        "type": "scatterpolargl"
                      }
                    ],
                    "scatterternary": [
                      {
                        "marker": {
                          "colorbar": {
                            "outlinewidth": 0,
                            "ticks": ""
                          }
                        },
                        "type": "scatterternary"
                      }
                    ],
                    "surface": [
                      {
                        "colorbar": {
                          "outlinewidth": 0,
                          "ticks": ""
                        },
                        "colorscale": [
                          [
                            0,
                            "#0d0887"
                          ],
                          [
                            0.1111111111111111,
                            "#46039f"
                          ],
                          [
                            0.2222222222222222,
                            "#7201a8"
                          ],
                          [
                            0.3333333333333333,
                            "#9c179e"
                          ],
                          [
                            0.4444444444444444,
                            "#bd3786"
                          ],
                          [
                            0.5555555555555556,
                            "#d8576b"
                          ],
                          [
                            0.6666666666666666,
                            "#ed7953"
                          ],
                          [
                            0.7777777777777778,
                            "#fb9f3a"
                          ],
                          [
                            0.8888888888888888,
                            "#fdca26"
                          ],
                          [
                            1,
                            "#f0f921"
                          ]
                        ],
                        "type": "surface"
                      }
                    ],
                    "table": [
                      {
                        "cells": {
                          "fill": {
                            "color": "#EBF0F8"
                          },
                          "line": {
                            "color": "white"
                          }
                        },
                        "header": {
                          "fill": {
                            "color": "#C8D4E3"
                          },
                          "line": {
                            "color": "white"
                          }
                        },
                        "type": "table"
                      }
                    ]
                  },
                  "layout": {
                    "annotationdefaults": {
                      "arrowcolor": "#2a3f5f",
                      "arrowhead": 0,
                      "arrowwidth": 1
                    },
                    "autotypenumbers": "strict",
                    "coloraxis": {
                      "colorbar": {
                        "outlinewidth": 0,
                        "ticks": ""
                      }
                    },
                    "colorscale": {
                      "diverging": [
                        [
                          0,
                          "#8e0152"
                        ],
                        [
                          0.1,
                          "#c51b7d"
                        ],
                        [
                          0.2,
                          "#de77ae"
                        ],
                        [
                          0.3,
                          "#f1b6da"
                        ],
                        [
                          0.4,
                          "#fde0ef"
                        ],
                        [
                          0.5,
                          "#f7f7f7"
                        ],
                        [
                          0.6,
                          "#e6f5d0"
                        ],
                        [
                          0.7,
                          "#b8e186"
                        ],
                        [
                          0.8,
                          "#7fbc41"
                        ],
                        [
                          0.9,
                          "#4d9221"
                        ],
                        [
                          1,
                          "#276419"
                        ]
                      ],
                      "sequential": [
                        [
                          0,
                          "#0d0887"
                        ],
                        [
                          0.1111111111111111,
                          "#46039f"
                        ],
                        [
                          0.2222222222222222,
                          "#7201a8"
                        ],
                        [
                          0.3333333333333333,
                          "#9c179e"
                        ],
                        [
                          0.4444444444444444,
                          "#bd3786"
                        ],
                        [
                          0.5555555555555556,
                          "#d8576b"
                        ],
                        [
                          0.6666666666666666,
                          "#ed7953"
                        ],
                        [
                          0.7777777777777778,
                          "#fb9f3a"
                        ],
                        [
                          0.8888888888888888,
                          "#fdca26"
                        ],
                        [
                          1,
                          "#f0f921"
                        ]
                      ],
                      "sequentialminus": [
                        [
                          0,
                          "#0d0887"
                        ],
                        [
                          0.1111111111111111,
                          "#46039f"
                        ],
                        [
                          0.2222222222222222,
                          "#7201a8"
                        ],
                        [
                          0.3333333333333333,
                          "#9c179e"
                        ],
                        [
                          0.4444444444444444,
                          "#bd3786"
                        ],
                        [
                          0.5555555555555556,
                          "#d8576b"
                        ],
                        [
                          0.6666666666666666,
                          "#ed7953"
                        ],
                        [
                          0.7777777777777778,
                          "#fb9f3a"
                        ],
                        [
                          0.8888888888888888,
                          "#fdca26"
                        ],
                        [
                          1,
                          "#f0f921"
                        ]
                      ]
                    },
                    "colorway": [
                      "#636efa",
                      "#EF553B",
                      "#00cc96",
                      "#ab63fa",
                      "#FFA15A",
                      "#19d3f3",
                      "#FF6692",
                      "#B6E880",
                      "#FF97FF",
                      "#FECB52"
                    ],
                    "font": {
                      "color": "#2a3f5f"
                    },
                    "geo": {
                      "bgcolor": "white",
                      "lakecolor": "white",
                      "landcolor": "#E5ECF6",
                      "showlakes": true,
                      "showland": true,
                      "subunitcolor": "white"
                    },
                    "hoverlabel": {
                      "align": "left"
                    },
                    "hovermode": "closest",
                    "mapbox": {
                      "style": "light"
                    },
                    "paper_bgcolor": "white",
                    "plot_bgcolor": "#E5ECF6",
                    "polar": {
                      "angularaxis": {
                        "gridcolor": "white",
                        "linecolor": "white",
                        "ticks": ""
                      },
                      "bgcolor": "#E5ECF6",
                      "radialaxis": {
                        "gridcolor": "white",
                        "linecolor": "white",
                        "ticks": ""
                      }
                    },
                    "scene": {
                      "xaxis": {
                        "backgroundcolor": "#E5ECF6",
                        "gridcolor": "white",
                        "gridwidth": 2,
                        "linecolor": "white",
                        "showbackground": true,
                        "ticks": "",
                        "zerolinecolor": "white"
                      },
                      "yaxis": {
                        "backgroundcolor": "#E5ECF6",
                        "gridcolor": "white",
                        "gridwidth": 2,
                        "linecolor": "white",
                        "showbackground": true,
                        "ticks": "",
                        "zerolinecolor": "white"
                      },
                      "zaxis": {
                        "backgroundcolor": "#E5ECF6",
                        "gridcolor": "white",
                        "gridwidth": 2,
                        "linecolor": "white",
                        "showbackground": true,
                        "ticks": "",
                        "zerolinecolor": "white"
                      }
                    },
                    "shapedefaults": {
                      "line": {
                        "color": "#2a3f5f"
                      }
                    },
                    "ternary": {
                      "aaxis": {
                        "gridcolor": "white",
                        "linecolor": "white",
                        "ticks": ""
                      },
                      "baxis": {
                        "gridcolor": "white",
                        "linecolor": "white",
                        "ticks": ""
                      },
                      "bgcolor": "#E5ECF6",
                      "caxis": {
                        "gridcolor": "white",
                        "linecolor": "white",
                        "ticks": ""
                      }
                    },
                    "title": {
                      "x": 0.05
                    },
                    "xaxis": {
                      "automargin": true,
                      "gridcolor": "white",
                      "linecolor": "white",
                      "ticks": "",
                      "title": {
                        "standoff": 15
                      },
                      "zerolinecolor": "white",
                      "zerolinewidth": 2
                    },
                    "yaxis": {
                      "automargin": true,
                      "gridcolor": "white",
                      "linecolor": "white",
                      "ticks": "",
                      "title": {
                        "standoff": 15
                      },
                      "zerolinecolor": "white",
                      "zerolinewidth": 2
                    }
                  }
                },
                "title": {
                  "text": "Optimization History Plot"
                },
                "xaxis": {
                  "title": {
                    "text": "Trial"
                  }
                },
                "yaxis": {
                  "title": {
                    "text": "Objective Value"
                  }
                }
              }
            }
          },
          "metadata": {},
          "output_type": "display_data"
        }
      ],
      "source": [
        "plot_optimization_history(study)\n"
      ]
    },
    {
      "cell_type": "markdown",
      "metadata": {},
      "source": [
        "A partir del trial 50-80 se empeizan a ver mejoras considerables."
      ]
    },
    {
      "cell_type": "code",
      "execution_count": 14,
      "metadata": {},
      "outputs": [
        {
          "data": {
            "application/vnd.plotly.v1+json": {
              "config": {
                "plotlyServerURL": "https://plot.ly"
              },
              "data": [
                {
                  "dimensions": [
                    {
                      "label": "Objective Value",
                      "range": [
                        1965.143310546875,
                        12114.12890625
                      ],
                      "values": [
                        2061.748291015625,
                        8274.70703125,
                        12114.12890625,
                        9223.4990234375,
                        6745.51953125,
                        3363.094482421875,
                        2264.6279296875,
                        2878.08642578125,
                        3581.5341796875,
                        2743.27490234375,
                        2277.932861328125,
                        2379.12890625,
                        2697.920654296875,
                        2329.230224609375,
                        2522.2119140625,
                        2395.242919921875,
                        2024.5906982421875,
                        2381.183837890625,
                        2653.569091796875,
                        2348.677001953125,
                        2332.35595703125,
                        2126.389404296875,
                        2148.376953125,
                        2106.091064453125,
                        2085.165771484375,
                        2111.345947265625,
                        2076.794677734375,
                        2088.363037109375,
                        2052.63916015625,
                        2040.0355224609375,
                        2090.91162109375,
                        2108.698974609375,
                        2067.535888671875,
                        2107.16552734375,
                        2070.232177734375,
                        2058.256591796875,
                        2144.828369140625,
                        2042.3555908203125,
                        2086.606689453125,
                        2070.01416015625,
                        2065.589111328125,
                        2107.290771484375,
                        2001.731201171875,
                        2028.2747802734375,
                        2000.06201171875,
                        2009.77685546875,
                        2053.74267578125,
                        2020.2044677734375,
                        2051.84521484375,
                        2041.1417236328125,
                        2030.395751953125,
                        2007.4713134765625,
                        2057.16650390625,
                        2031.4547119140625,
                        2022.6080322265625,
                        2047.4744873046875,
                        2023.002685546875,
                        2028.3309326171875,
                        2018.9140625,
                        2013.6070556640625,
                        1993.8389892578125,
                        2680.35986328125,
                        2020.348876953125,
                        2008.436279296875,
                        2022.7432861328125,
                        2018.48828125,
                        2021.9691162109375,
                        2041.617919921875,
                        2011.259033203125,
                        2025.482177734375,
                        2017.9766845703125,
                        2016.1632080078125,
                        2005.3944091796875,
                        2484.32666015625,
                        2013.9681396484375,
                        1997.2288818359375,
                        1965.143310546875,
                        2010.6025390625,
                        2037.56103515625
                      ]
                    },
                    {
                      "label": "learning_rate",
                      "range": [
                        0.0015057750376161862,
                        0.09998558992303068
                      ],
                      "values": [
                        0.07034327506392564,
                        0.010892927570799932,
                        0.0015057750376161862,
                        0.09100877969111917,
                        0.08206849536720404,
                        0.09980782042883188,
                        0.08658185347012548,
                        0.09002697895713095,
                        0.09488998365566721,
                        0.08716265420417864,
                        0.09262870363072752,
                        0.09090432651377983,
                        0.09174564385707501,
                        0.09175103931246058,
                        0.0891962298602536,
                        0.09011466289731135,
                        0.09624975166050777,
                        0.09614550706152862,
                        0.0949345365312172,
                        0.09838853671014265,
                        0.09982413020702877,
                        0.09680514659273613,
                        0.0973542551667275,
                        0.09596503809862632,
                        0.09562665613754283,
                        0.09569363603332287,
                        0.09637968527241704,
                        0.09609619550955066,
                        0.09498636153249007,
                        0.09571577566192117,
                        0.09797011128523145,
                        0.08709918462777837,
                        0.09567832993118036,
                        0.09990965608308566,
                        0.09971386717732209,
                        0.09747831119307195,
                        0.0946745156936106,
                        0.09616619322192639,
                        0.09606462280158212,
                        0.09858044850338515,
                        0.0955770672220262,
                        0.09562696146669242,
                        0.09693566743651694,
                        0.09991552879250304,
                        0.0981972334032128,
                        0.09616843973931087,
                        0.09618393668990811,
                        0.098350851788325,
                        0.09694284579491295,
                        0.09822793204440998,
                        0.09612658215249004,
                        0.09986913325666832,
                        0.09824585144718709,
                        0.09807863602932493,
                        0.09774609399853146,
                        0.09593983478923886,
                        0.09801161815936686,
                        0.0983943018892895,
                        0.09778242960529179,
                        0.09986631592795966,
                        0.09803656678145681,
                        0.09815923256750926,
                        0.09661575268755217,
                        0.09998558992303068,
                        0.09826255383207097,
                        0.0982864805997529,
                        0.09793320395070819,
                        0.09783466849500547,
                        0.09812426500946139,
                        0.09995133401377704,
                        0.09820197174414062,
                        0.09991927566705873,
                        0.09984686285343905,
                        0.09827178954430263,
                        0.09835108232559864,
                        0.09722482347748222,
                        0.09810531964748925,
                        0.0982622847385296,
                        0.09664259787937216
                      ]
                    },
                    {
                      "label": "max_depth",
                      "range": [
                        3,
                        10
                      ],
                      "values": [
                        8,
                        4,
                        3,
                        7,
                        6,
                        7,
                        7,
                        7,
                        7,
                        7,
                        6,
                        7,
                        7,
                        8,
                        7,
                        7,
                        6,
                        7,
                        7,
                        7,
                        7,
                        7,
                        8,
                        9,
                        9,
                        9,
                        9,
                        9,
                        9,
                        9,
                        9,
                        10,
                        10,
                        9,
                        9,
                        9,
                        9,
                        9,
                        9,
                        9,
                        9,
                        9,
                        9,
                        9,
                        9,
                        9,
                        10,
                        10,
                        9,
                        9,
                        9,
                        10,
                        9,
                        9,
                        9,
                        9,
                        9,
                        9,
                        9,
                        9,
                        9,
                        9,
                        9,
                        9,
                        8,
                        9,
                        9,
                        9,
                        9,
                        9,
                        10,
                        10,
                        10,
                        10,
                        10,
                        10,
                        10,
                        10,
                        10
                      ]
                    },
                    {
                      "label": "max_leaves",
                      "range": [
                        25,
                        100
                      ],
                      "values": [
                        73,
                        75,
                        25,
                        26,
                        75,
                        34,
                        38,
                        36,
                        34,
                        50,
                        40,
                        49,
                        37,
                        47,
                        52,
                        71,
                        80,
                        85,
                        91,
                        86,
                        85,
                        86,
                        83,
                        92,
                        93,
                        94,
                        95,
                        96,
                        94,
                        93,
                        81,
                        97,
                        92,
                        95,
                        95,
                        94,
                        95,
                        93,
                        92,
                        97,
                        96,
                        93,
                        90,
                        96,
                        99,
                        95,
                        93,
                        94,
                        95,
                        92,
                        100,
                        94,
                        97,
                        96,
                        96,
                        100,
                        100,
                        100,
                        91,
                        94,
                        91,
                        92,
                        100,
                        96,
                        98,
                        98,
                        96,
                        98,
                        100,
                        100,
                        97,
                        96,
                        96,
                        97,
                        98,
                        98,
                        96,
                        99,
                        98
                      ]
                    },
                    {
                      "label": "min_child_weight",
                      "range": [
                        1,
                        5
                      ],
                      "values": [
                        5,
                        1,
                        1,
                        3,
                        2,
                        3,
                        3,
                        3,
                        3,
                        3,
                        4,
                        3,
                        3,
                        3,
                        3,
                        3,
                        3,
                        4,
                        4,
                        4,
                        4,
                        4,
                        4,
                        5,
                        5,
                        5,
                        5,
                        5,
                        5,
                        5,
                        5,
                        5,
                        5,
                        5,
                        5,
                        5,
                        5,
                        5,
                        5,
                        5,
                        5,
                        5,
                        5,
                        5,
                        5,
                        5,
                        5,
                        5,
                        5,
                        5,
                        5,
                        5,
                        5,
                        5,
                        5,
                        5,
                        5,
                        5,
                        5,
                        5,
                        5,
                        5,
                        5,
                        5,
                        5,
                        5,
                        5,
                        5,
                        5,
                        5,
                        5,
                        5,
                        5,
                        5,
                        5,
                        5,
                        5,
                        5,
                        5
                      ]
                    },
                    {
                      "label": "min_frequency",
                      "range": [
                        0.00033877180644573124,
                        0.7744794542685887
                      ],
                      "values": [
                        0.04881279380000003,
                        0.7744794542685887,
                        0.1975031563929983,
                        0.626404526756425,
                        0.2194092444427458,
                        0.00274798213546211,
                        0.012254096429931943,
                        0.006370652036990684,
                        0.007251508315497952,
                        0.07675515992411519,
                        0.04773876238996258,
                        0.05609831301701143,
                        0.037007596931172185,
                        0.047000775553615926,
                        0.07874893591658567,
                        0.035879426088925866,
                        0.0312317569205521,
                        0.002556501172848759,
                        0.0018448822327556194,
                        0.07430661802078309,
                        0.04762506370938839,
                        0.05698150175723061,
                        0.05473890975498362,
                        0.07188924045285848,
                        0.047212479345151506,
                        0.05999279906178758,
                        0.0710968773506866,
                        0.0721856604346656,
                        0.07522391046698983,
                        0.07327649402462069,
                        0.07242764946802588,
                        0.06642190914174315,
                        0.053111999077660864,
                        0.0164585160007912,
                        0.0007665859623762067,
                        0.06639809264409721,
                        0.046637421910846306,
                        0.06217703976166283,
                        0.06176632979942222,
                        0.06665142820431155,
                        0.07813708102271859,
                        0.024006898169244582,
                        0.06438967083479671,
                        0.07916251828249728,
                        0.08115616364478037,
                        0.041165027840381924,
                        0.064936790382501,
                        0.07867467870428638,
                        0.0821477624924523,
                        0.06589100574640806,
                        0.07213394642326501,
                        0.033171640185274805,
                        0.05080048093208211,
                        0.06324016899363077,
                        0.06935330498717966,
                        0.04727310528639177,
                        0.03253269665935263,
                        0.02255337029763473,
                        0.0633073657733936,
                        0.07046821201657529,
                        0.04310079914854141,
                        0.024414543235865158,
                        0.02120329449331496,
                        0.0436716330673583,
                        0.04226785821740877,
                        0.07474295929924524,
                        0.054894898041904006,
                        0.019576002304654776,
                        0.04914736544690377,
                        0.034448188564919165,
                        0.016735096814031077,
                        0.021760710624118947,
                        0.03818767513167403,
                        0.03831561268743829,
                        0.02119186895268049,
                        0.017675674927033813,
                        0.00033877180644573124,
                        0.037247837654743834,
                        0.05517314501613505
                      ]
                    },
                    {
                      "label": "n_estimators",
                      "range": [
                        50,
                        980
                      ],
                      "values": [
                        852,
                        533,
                        157,
                        980,
                        570,
                        54,
                        310,
                        99,
                        50,
                        99,
                        284,
                        172,
                        110,
                        224,
                        136,
                        145,
                        952,
                        130,
                        80,
                        135,
                        175,
                        344,
                        337,
                        399,
                        386,
                        363,
                        370,
                        374,
                        474,
                        482,
                        373,
                        354,
                        439,
                        325,
                        393,
                        443,
                        267,
                        362,
                        320,
                        363,
                        391,
                        320,
                        428,
                        476,
                        942,
                        854,
                        424,
                        436,
                        326,
                        441,
                        467,
                        408,
                        394,
                        435,
                        438,
                        444,
                        455,
                        472,
                        438,
                        455,
                        810,
                        62,
                        566,
                        500,
                        501,
                        423,
                        432,
                        413,
                        470,
                        397,
                        452,
                        519,
                        516,
                        72,
                        495,
                        489,
                        934,
                        515,
                        370
                      ]
                    },
                    {
                      "label": "reg_alpha",
                      "range": [
                        0.00901858846605201,
                        0.9925897310554159
                      ],
                      "values": [
                        0.012703197034767633,
                        0.7008447521659813,
                        0.7273211542351691,
                        0.32569065293360866,
                        0.0751665439471918,
                        0.4073104445170885,
                        0.41202332085807897,
                        0.41944230867114574,
                        0.4328067995860655,
                        0.37176620830032975,
                        0.48124684926108335,
                        0.3662292843103495,
                        0.4533822221546753,
                        0.44490759823636344,
                        0.3873136011133408,
                        0.44816557270765756,
                        0.3893368454098101,
                        0.5244750488759927,
                        0.5186230843130004,
                        0.4302500216210759,
                        0.4804209867016852,
                        0.4790090116376064,
                        0.48310055477681607,
                        0.12300270896101362,
                        0.156563682547073,
                        0.10341476915706653,
                        0.15323589981601143,
                        0.1516690308403473,
                        0.14711487578441643,
                        0.16721062795252437,
                        0.04085658412455989,
                        0.15876295224186684,
                        0.22576868617066587,
                        0.03006828303737144,
                        0.08320506375924068,
                        0.21503170986741552,
                        0.03933825825066341,
                        0.062156171795421565,
                        0.07175494402212534,
                        0.1462123535777912,
                        0.04621136942555911,
                        0.042898139082535855,
                        0.12398266826672436,
                        0.1525441174329961,
                        0.20864435553859756,
                        0.21213908230851694,
                        0.08604418670705391,
                        0.12776592787820468,
                        0.09048937472310153,
                        0.13132324365674555,
                        0.1403953785359215,
                        0.692944494993034,
                        0.8566200553939637,
                        0.8791932843351312,
                        0.1495103731181106,
                        0.9925897310554159,
                        0.9774696600287442,
                        0.9908931981662837,
                        0.03736803725843412,
                        0.9501692204668767,
                        0.05458587959809888,
                        0.2055362201112816,
                        0.9567256933546827,
                        0.22245157285766579,
                        0.15203954708305692,
                        0.04059985902899693,
                        0.3178390173958555,
                        0.332674655090326,
                        0.00901858846605201,
                        0.1715559534523416,
                        0.18543189188022974,
                        0.15318686884707858,
                        0.21186293414081991,
                        0.2200116129509395,
                        0.1815738354386007,
                        0.15259382898208454,
                        0.14959753716422577,
                        0.13968261596760584,
                        0.19956162316588022
                      ]
                    },
                    {
                      "label": "reg_lambda",
                      "range": [
                        0.006087737803825322,
                        0.8888993137763092
                      ],
                      "values": [
                        0.41358769878652346,
                        0.293228105869234,
                        0.3400349419546269,
                        0.8888993137763092,
                        0.7751929784521634,
                        0.8301516004433172,
                        0.8297415914816221,
                        0.8456674731996866,
                        0.8300334004736069,
                        0.8073722153580282,
                        0.36866070577767757,
                        0.8887959634259903,
                        0.8191786357271645,
                        0.8600419429507813,
                        0.7940535523971012,
                        0.8014022016710596,
                        0.734242232401001,
                        0.8498044042043363,
                        0.8507472052494169,
                        0.006087737803825322,
                        0.1069746903024657,
                        0.17136160162161695,
                        0.15830779962292288,
                        0.09971034843653673,
                        0.09822053284871174,
                        0.10720684831636765,
                        0.09634423788052231,
                        0.09522257293233398,
                        0.10258228202747882,
                        0.11154178382506102,
                        0.23266104087458528,
                        0.08691336303555189,
                        0.14965024309497987,
                        0.1652309630589761,
                        0.11000420033574553,
                        0.11300907175289768,
                        0.12281601659608618,
                        0.11844423363560863,
                        0.09907732905834594,
                        0.09073488904469348,
                        0.04194485528562762,
                        0.07900231679140657,
                        0.16609842608735215,
                        0.17518026180670976,
                        0.1251789091721614,
                        0.14830408667139233,
                        0.12844251630163434,
                        0.13863997669219985,
                        0.10022942157817806,
                        0.1507121309587939,
                        0.1554575758248237,
                        0.1931498042433985,
                        0.06009596751682067,
                        0.06082196819580591,
                        0.047172775971286926,
                        0.14831031505128253,
                        0.2006714619509775,
                        0.21514625311166058,
                        0.12202158662757145,
                        0.18366141804647232,
                        0.14419852976059325,
                        0.11313941672006624,
                        0.08397203443396509,
                        0.2083915255442342,
                        0.1554814275539463,
                        0.1607384706834672,
                        0.22148991551295963,
                        0.24008390675704028,
                        0.15865451852481635,
                        0.19635376190328857,
                        0.18679567040878328,
                        0.18474849449593297,
                        0.16894065469681235,
                        0.21731480556186408,
                        0.1618737552328369,
                        0.16311614687162837,
                        0.18783407333352017,
                        0.1492276793176798,
                        0.15528292232558757
                      ]
                    }
                  ],
                  "labelangle": 30,
                  "labelside": "bottom",
                  "line": {
                    "color": [
                      2061.748291015625,
                      8274.70703125,
                      12114.12890625,
                      9223.4990234375,
                      6745.51953125,
                      3363.094482421875,
                      2264.6279296875,
                      2878.08642578125,
                      3581.5341796875,
                      2743.27490234375,
                      2277.932861328125,
                      2379.12890625,
                      2697.920654296875,
                      2329.230224609375,
                      2522.2119140625,
                      2395.242919921875,
                      2024.5906982421875,
                      2381.183837890625,
                      2653.569091796875,
                      2348.677001953125,
                      2332.35595703125,
                      2126.389404296875,
                      2148.376953125,
                      2106.091064453125,
                      2085.165771484375,
                      2111.345947265625,
                      2076.794677734375,
                      2088.363037109375,
                      2052.63916015625,
                      2040.0355224609375,
                      2090.91162109375,
                      2108.698974609375,
                      2067.535888671875,
                      2107.16552734375,
                      2070.232177734375,
                      2058.256591796875,
                      2144.828369140625,
                      2042.3555908203125,
                      2086.606689453125,
                      2070.01416015625,
                      2065.589111328125,
                      2107.290771484375,
                      2001.731201171875,
                      2028.2747802734375,
                      2000.06201171875,
                      2009.77685546875,
                      2053.74267578125,
                      2020.2044677734375,
                      2051.84521484375,
                      2041.1417236328125,
                      2030.395751953125,
                      2007.4713134765625,
                      2057.16650390625,
                      2031.4547119140625,
                      2022.6080322265625,
                      2047.4744873046875,
                      2023.002685546875,
                      2028.3309326171875,
                      2018.9140625,
                      2013.6070556640625,
                      1993.8389892578125,
                      2680.35986328125,
                      2020.348876953125,
                      2008.436279296875,
                      2022.7432861328125,
                      2018.48828125,
                      2021.9691162109375,
                      2041.617919921875,
                      2011.259033203125,
                      2025.482177734375,
                      2017.9766845703125,
                      2016.1632080078125,
                      2005.3944091796875,
                      2484.32666015625,
                      2013.9681396484375,
                      1997.2288818359375,
                      1965.143310546875,
                      2010.6025390625,
                      2037.56103515625
                    ],
                    "colorbar": {
                      "title": {
                        "text": "Objective Value"
                      }
                    },
                    "colorscale": [
                      [
                        0,
                        "rgb(247,251,255)"
                      ],
                      [
                        0.125,
                        "rgb(222,235,247)"
                      ],
                      [
                        0.25,
                        "rgb(198,219,239)"
                      ],
                      [
                        0.375,
                        "rgb(158,202,225)"
                      ],
                      [
                        0.5,
                        "rgb(107,174,214)"
                      ],
                      [
                        0.625,
                        "rgb(66,146,198)"
                      ],
                      [
                        0.75,
                        "rgb(33,113,181)"
                      ],
                      [
                        0.875,
                        "rgb(8,81,156)"
                      ],
                      [
                        1,
                        "rgb(8,48,107)"
                      ]
                    ],
                    "reversescale": true,
                    "showscale": true
                  },
                  "type": "parcoords"
                }
              ],
              "layout": {
                "template": {
                  "data": {
                    "bar": [
                      {
                        "error_x": {
                          "color": "#2a3f5f"
                        },
                        "error_y": {
                          "color": "#2a3f5f"
                        },
                        "marker": {
                          "line": {
                            "color": "#E5ECF6",
                            "width": 0.5
                          },
                          "pattern": {
                            "fillmode": "overlay",
                            "size": 10,
                            "solidity": 0.2
                          }
                        },
                        "type": "bar"
                      }
                    ],
                    "barpolar": [
                      {
                        "marker": {
                          "line": {
                            "color": "#E5ECF6",
                            "width": 0.5
                          },
                          "pattern": {
                            "fillmode": "overlay",
                            "size": 10,
                            "solidity": 0.2
                          }
                        },
                        "type": "barpolar"
                      }
                    ],
                    "carpet": [
                      {
                        "aaxis": {
                          "endlinecolor": "#2a3f5f",
                          "gridcolor": "white",
                          "linecolor": "white",
                          "minorgridcolor": "white",
                          "startlinecolor": "#2a3f5f"
                        },
                        "baxis": {
                          "endlinecolor": "#2a3f5f",
                          "gridcolor": "white",
                          "linecolor": "white",
                          "minorgridcolor": "white",
                          "startlinecolor": "#2a3f5f"
                        },
                        "type": "carpet"
                      }
                    ],
                    "choropleth": [
                      {
                        "colorbar": {
                          "outlinewidth": 0,
                          "ticks": ""
                        },
                        "type": "choropleth"
                      }
                    ],
                    "contour": [
                      {
                        "colorbar": {
                          "outlinewidth": 0,
                          "ticks": ""
                        },
                        "colorscale": [
                          [
                            0,
                            "#0d0887"
                          ],
                          [
                            0.1111111111111111,
                            "#46039f"
                          ],
                          [
                            0.2222222222222222,
                            "#7201a8"
                          ],
                          [
                            0.3333333333333333,
                            "#9c179e"
                          ],
                          [
                            0.4444444444444444,
                            "#bd3786"
                          ],
                          [
                            0.5555555555555556,
                            "#d8576b"
                          ],
                          [
                            0.6666666666666666,
                            "#ed7953"
                          ],
                          [
                            0.7777777777777778,
                            "#fb9f3a"
                          ],
                          [
                            0.8888888888888888,
                            "#fdca26"
                          ],
                          [
                            1,
                            "#f0f921"
                          ]
                        ],
                        "type": "contour"
                      }
                    ],
                    "contourcarpet": [
                      {
                        "colorbar": {
                          "outlinewidth": 0,
                          "ticks": ""
                        },
                        "type": "contourcarpet"
                      }
                    ],
                    "heatmap": [
                      {
                        "colorbar": {
                          "outlinewidth": 0,
                          "ticks": ""
                        },
                        "colorscale": [
                          [
                            0,
                            "#0d0887"
                          ],
                          [
                            0.1111111111111111,
                            "#46039f"
                          ],
                          [
                            0.2222222222222222,
                            "#7201a8"
                          ],
                          [
                            0.3333333333333333,
                            "#9c179e"
                          ],
                          [
                            0.4444444444444444,
                            "#bd3786"
                          ],
                          [
                            0.5555555555555556,
                            "#d8576b"
                          ],
                          [
                            0.6666666666666666,
                            "#ed7953"
                          ],
                          [
                            0.7777777777777778,
                            "#fb9f3a"
                          ],
                          [
                            0.8888888888888888,
                            "#fdca26"
                          ],
                          [
                            1,
                            "#f0f921"
                          ]
                        ],
                        "type": "heatmap"
                      }
                    ],
                    "histogram": [
                      {
                        "marker": {
                          "pattern": {
                            "fillmode": "overlay",
                            "size": 10,
                            "solidity": 0.2
                          }
                        },
                        "type": "histogram"
                      }
                    ],
                    "histogram2d": [
                      {
                        "colorbar": {
                          "outlinewidth": 0,
                          "ticks": ""
                        },
                        "colorscale": [
                          [
                            0,
                            "#0d0887"
                          ],
                          [
                            0.1111111111111111,
                            "#46039f"
                          ],
                          [
                            0.2222222222222222,
                            "#7201a8"
                          ],
                          [
                            0.3333333333333333,
                            "#9c179e"
                          ],
                          [
                            0.4444444444444444,
                            "#bd3786"
                          ],
                          [
                            0.5555555555555556,
                            "#d8576b"
                          ],
                          [
                            0.6666666666666666,
                            "#ed7953"
                          ],
                          [
                            0.7777777777777778,
                            "#fb9f3a"
                          ],
                          [
                            0.8888888888888888,
                            "#fdca26"
                          ],
                          [
                            1,
                            "#f0f921"
                          ]
                        ],
                        "type": "histogram2d"
                      }
                    ],
                    "histogram2dcontour": [
                      {
                        "colorbar": {
                          "outlinewidth": 0,
                          "ticks": ""
                        },
                        "colorscale": [
                          [
                            0,
                            "#0d0887"
                          ],
                          [
                            0.1111111111111111,
                            "#46039f"
                          ],
                          [
                            0.2222222222222222,
                            "#7201a8"
                          ],
                          [
                            0.3333333333333333,
                            "#9c179e"
                          ],
                          [
                            0.4444444444444444,
                            "#bd3786"
                          ],
                          [
                            0.5555555555555556,
                            "#d8576b"
                          ],
                          [
                            0.6666666666666666,
                            "#ed7953"
                          ],
                          [
                            0.7777777777777778,
                            "#fb9f3a"
                          ],
                          [
                            0.8888888888888888,
                            "#fdca26"
                          ],
                          [
                            1,
                            "#f0f921"
                          ]
                        ],
                        "type": "histogram2dcontour"
                      }
                    ],
                    "mesh3d": [
                      {
                        "colorbar": {
                          "outlinewidth": 0,
                          "ticks": ""
                        },
                        "type": "mesh3d"
                      }
                    ],
                    "parcoords": [
                      {
                        "line": {
                          "colorbar": {
                            "outlinewidth": 0,
                            "ticks": ""
                          }
                        },
                        "type": "parcoords"
                      }
                    ],
                    "pie": [
                      {
                        "automargin": true,
                        "type": "pie"
                      }
                    ],
                    "scatter": [
                      {
                        "fillpattern": {
                          "fillmode": "overlay",
                          "size": 10,
                          "solidity": 0.2
                        },
                        "type": "scatter"
                      }
                    ],
                    "scatter3d": [
                      {
                        "line": {
                          "colorbar": {
                            "outlinewidth": 0,
                            "ticks": ""
                          }
                        },
                        "marker": {
                          "colorbar": {
                            "outlinewidth": 0,
                            "ticks": ""
                          }
                        },
                        "type": "scatter3d"
                      }
                    ],
                    "scattercarpet": [
                      {
                        "marker": {
                          "colorbar": {
                            "outlinewidth": 0,
                            "ticks": ""
                          }
                        },
                        "type": "scattercarpet"
                      }
                    ],
                    "scattergeo": [
                      {
                        "marker": {
                          "colorbar": {
                            "outlinewidth": 0,
                            "ticks": ""
                          }
                        },
                        "type": "scattergeo"
                      }
                    ],
                    "scattergl": [
                      {
                        "marker": {
                          "colorbar": {
                            "outlinewidth": 0,
                            "ticks": ""
                          }
                        },
                        "type": "scattergl"
                      }
                    ],
                    "scattermap": [
                      {
                        "marker": {
                          "colorbar": {
                            "outlinewidth": 0,
                            "ticks": ""
                          }
                        },
                        "type": "scattermap"
                      }
                    ],
                    "scattermapbox": [
                      {
                        "marker": {
                          "colorbar": {
                            "outlinewidth": 0,
                            "ticks": ""
                          }
                        },
                        "type": "scattermapbox"
                      }
                    ],
                    "scatterpolar": [
                      {
                        "marker": {
                          "colorbar": {
                            "outlinewidth": 0,
                            "ticks": ""
                          }
                        },
                        "type": "scatterpolar"
                      }
                    ],
                    "scatterpolargl": [
                      {
                        "marker": {
                          "colorbar": {
                            "outlinewidth": 0,
                            "ticks": ""
                          }
                        },
                        "type": "scatterpolargl"
                      }
                    ],
                    "scatterternary": [
                      {
                        "marker": {
                          "colorbar": {
                            "outlinewidth": 0,
                            "ticks": ""
                          }
                        },
                        "type": "scatterternary"
                      }
                    ],
                    "surface": [
                      {
                        "colorbar": {
                          "outlinewidth": 0,
                          "ticks": ""
                        },
                        "colorscale": [
                          [
                            0,
                            "#0d0887"
                          ],
                          [
                            0.1111111111111111,
                            "#46039f"
                          ],
                          [
                            0.2222222222222222,
                            "#7201a8"
                          ],
                          [
                            0.3333333333333333,
                            "#9c179e"
                          ],
                          [
                            0.4444444444444444,
                            "#bd3786"
                          ],
                          [
                            0.5555555555555556,
                            "#d8576b"
                          ],
                          [
                            0.6666666666666666,
                            "#ed7953"
                          ],
                          [
                            0.7777777777777778,
                            "#fb9f3a"
                          ],
                          [
                            0.8888888888888888,
                            "#fdca26"
                          ],
                          [
                            1,
                            "#f0f921"
                          ]
                        ],
                        "type": "surface"
                      }
                    ],
                    "table": [
                      {
                        "cells": {
                          "fill": {
                            "color": "#EBF0F8"
                          },
                          "line": {
                            "color": "white"
                          }
                        },
                        "header": {
                          "fill": {
                            "color": "#C8D4E3"
                          },
                          "line": {
                            "color": "white"
                          }
                        },
                        "type": "table"
                      }
                    ]
                  },
                  "layout": {
                    "annotationdefaults": {
                      "arrowcolor": "#2a3f5f",
                      "arrowhead": 0,
                      "arrowwidth": 1
                    },
                    "autotypenumbers": "strict",
                    "coloraxis": {
                      "colorbar": {
                        "outlinewidth": 0,
                        "ticks": ""
                      }
                    },
                    "colorscale": {
                      "diverging": [
                        [
                          0,
                          "#8e0152"
                        ],
                        [
                          0.1,
                          "#c51b7d"
                        ],
                        [
                          0.2,
                          "#de77ae"
                        ],
                        [
                          0.3,
                          "#f1b6da"
                        ],
                        [
                          0.4,
                          "#fde0ef"
                        ],
                        [
                          0.5,
                          "#f7f7f7"
                        ],
                        [
                          0.6,
                          "#e6f5d0"
                        ],
                        [
                          0.7,
                          "#b8e186"
                        ],
                        [
                          0.8,
                          "#7fbc41"
                        ],
                        [
                          0.9,
                          "#4d9221"
                        ],
                        [
                          1,
                          "#276419"
                        ]
                      ],
                      "sequential": [
                        [
                          0,
                          "#0d0887"
                        ],
                        [
                          0.1111111111111111,
                          "#46039f"
                        ],
                        [
                          0.2222222222222222,
                          "#7201a8"
                        ],
                        [
                          0.3333333333333333,
                          "#9c179e"
                        ],
                        [
                          0.4444444444444444,
                          "#bd3786"
                        ],
                        [
                          0.5555555555555556,
                          "#d8576b"
                        ],
                        [
                          0.6666666666666666,
                          "#ed7953"
                        ],
                        [
                          0.7777777777777778,
                          "#fb9f3a"
                        ],
                        [
                          0.8888888888888888,
                          "#fdca26"
                        ],
                        [
                          1,
                          "#f0f921"
                        ]
                      ],
                      "sequentialminus": [
                        [
                          0,
                          "#0d0887"
                        ],
                        [
                          0.1111111111111111,
                          "#46039f"
                        ],
                        [
                          0.2222222222222222,
                          "#7201a8"
                        ],
                        [
                          0.3333333333333333,
                          "#9c179e"
                        ],
                        [
                          0.4444444444444444,
                          "#bd3786"
                        ],
                        [
                          0.5555555555555556,
                          "#d8576b"
                        ],
                        [
                          0.6666666666666666,
                          "#ed7953"
                        ],
                        [
                          0.7777777777777778,
                          "#fb9f3a"
                        ],
                        [
                          0.8888888888888888,
                          "#fdca26"
                        ],
                        [
                          1,
                          "#f0f921"
                        ]
                      ]
                    },
                    "colorway": [
                      "#636efa",
                      "#EF553B",
                      "#00cc96",
                      "#ab63fa",
                      "#FFA15A",
                      "#19d3f3",
                      "#FF6692",
                      "#B6E880",
                      "#FF97FF",
                      "#FECB52"
                    ],
                    "font": {
                      "color": "#2a3f5f"
                    },
                    "geo": {
                      "bgcolor": "white",
                      "lakecolor": "white",
                      "landcolor": "#E5ECF6",
                      "showlakes": true,
                      "showland": true,
                      "subunitcolor": "white"
                    },
                    "hoverlabel": {
                      "align": "left"
                    },
                    "hovermode": "closest",
                    "mapbox": {
                      "style": "light"
                    },
                    "paper_bgcolor": "white",
                    "plot_bgcolor": "#E5ECF6",
                    "polar": {
                      "angularaxis": {
                        "gridcolor": "white",
                        "linecolor": "white",
                        "ticks": ""
                      },
                      "bgcolor": "#E5ECF6",
                      "radialaxis": {
                        "gridcolor": "white",
                        "linecolor": "white",
                        "ticks": ""
                      }
                    },
                    "scene": {
                      "xaxis": {
                        "backgroundcolor": "#E5ECF6",
                        "gridcolor": "white",
                        "gridwidth": 2,
                        "linecolor": "white",
                        "showbackground": true,
                        "ticks": "",
                        "zerolinecolor": "white"
                      },
                      "yaxis": {
                        "backgroundcolor": "#E5ECF6",
                        "gridcolor": "white",
                        "gridwidth": 2,
                        "linecolor": "white",
                        "showbackground": true,
                        "ticks": "",
                        "zerolinecolor": "white"
                      },
                      "zaxis": {
                        "backgroundcolor": "#E5ECF6",
                        "gridcolor": "white",
                        "gridwidth": 2,
                        "linecolor": "white",
                        "showbackground": true,
                        "ticks": "",
                        "zerolinecolor": "white"
                      }
                    },
                    "shapedefaults": {
                      "line": {
                        "color": "#2a3f5f"
                      }
                    },
                    "ternary": {
                      "aaxis": {
                        "gridcolor": "white",
                        "linecolor": "white",
                        "ticks": ""
                      },
                      "baxis": {
                        "gridcolor": "white",
                        "linecolor": "white",
                        "ticks": ""
                      },
                      "bgcolor": "#E5ECF6",
                      "caxis": {
                        "gridcolor": "white",
                        "linecolor": "white",
                        "ticks": ""
                      }
                    },
                    "title": {
                      "x": 0.05
                    },
                    "xaxis": {
                      "automargin": true,
                      "gridcolor": "white",
                      "linecolor": "white",
                      "ticks": "",
                      "title": {
                        "standoff": 15
                      },
                      "zerolinecolor": "white",
                      "zerolinewidth": 2
                    },
                    "yaxis": {
                      "automargin": true,
                      "gridcolor": "white",
                      "linecolor": "white",
                      "ticks": "",
                      "title": {
                        "standoff": 15
                      },
                      "zerolinecolor": "white",
                      "zerolinewidth": 2
                    }
                  }
                },
                "title": {
                  "text": "Parallel Coordinate Plot"
                }
              }
            }
          },
          "metadata": {},
          "output_type": "display_data"
        }
      ],
      "source": [
        "plot_parallel_coordinate(study)"
      ]
    },
    {
      "cell_type": "markdown",
      "metadata": {},
      "source": [
        "Del parallel coordinate plot podemos observar cual es el camino de hiperparametros que sigue la mejor combinación siendo la más oscura los mejores resultados,. es posible visualizar como casi todos los resultados buenos siguen la misma estructura."
      ]
    },
    {
      "cell_type": "code",
      "execution_count": null,
      "metadata": {},
      "outputs": [
        {
          "data": {
            "application/vnd.plotly.v1+json": {
              "config": {
                "plotlyServerURL": "https://plot.ly"
              },
              "data": [
                {
                  "cliponaxis": false,
                  "hovertemplate": [
                    "n_estimators (IntDistribution): 0.007663456816629797<extra></extra>",
                    "reg_lambda (FloatDistribution): 0.024578406682499332<extra></extra>",
                    "reg_alpha (FloatDistribution): 0.031201494510640918<extra></extra>",
                    "max_leaves (IntDistribution): 0.05974365871515435<extra></extra>",
                    "learning_rate (FloatDistribution): 0.07165343683958668<extra></extra>",
                    "max_depth (IntDistribution): 0.0812555604965163<extra></extra>",
                    "min_child_weight (IntDistribution): 0.1259915646854721<extra></extra>",
                    "min_frequency (FloatDistribution): 0.5979124212535006<extra></extra>"
                  ],
                  "name": "Objective Value",
                  "orientation": "h",
                  "text": [
                    "<0.01",
                    "0.02",
                    "0.03",
                    "0.06",
                    "0.07",
                    "0.08",
                    "0.13",
                    "0.60"
                  ],
                  "textposition": "outside",
                  "type": "bar",
                  "x": [
                    0.007663456816629797,
                    0.024578406682499332,
                    0.031201494510640918,
                    0.05974365871515435,
                    0.07165343683958668,
                    0.0812555604965163,
                    0.1259915646854721,
                    0.5979124212535006
                  ],
                  "y": [
                    "n_estimators",
                    "reg_lambda",
                    "reg_alpha",
                    "max_leaves",
                    "learning_rate",
                    "max_depth",
                    "min_child_weight",
                    "min_frequency"
                  ]
                }
              ],
              "layout": {
                "template": {
                  "data": {
                    "bar": [
                      {
                        "error_x": {
                          "color": "#2a3f5f"
                        },
                        "error_y": {
                          "color": "#2a3f5f"
                        },
                        "marker": {
                          "line": {
                            "color": "#E5ECF6",
                            "width": 0.5
                          },
                          "pattern": {
                            "fillmode": "overlay",
                            "size": 10,
                            "solidity": 0.2
                          }
                        },
                        "type": "bar"
                      }
                    ],
                    "barpolar": [
                      {
                        "marker": {
                          "line": {
                            "color": "#E5ECF6",
                            "width": 0.5
                          },
                          "pattern": {
                            "fillmode": "overlay",
                            "size": 10,
                            "solidity": 0.2
                          }
                        },
                        "type": "barpolar"
                      }
                    ],
                    "carpet": [
                      {
                        "aaxis": {
                          "endlinecolor": "#2a3f5f",
                          "gridcolor": "white",
                          "linecolor": "white",
                          "minorgridcolor": "white",
                          "startlinecolor": "#2a3f5f"
                        },
                        "baxis": {
                          "endlinecolor": "#2a3f5f",
                          "gridcolor": "white",
                          "linecolor": "white",
                          "minorgridcolor": "white",
                          "startlinecolor": "#2a3f5f"
                        },
                        "type": "carpet"
                      }
                    ],
                    "choropleth": [
                      {
                        "colorbar": {
                          "outlinewidth": 0,
                          "ticks": ""
                        },
                        "type": "choropleth"
                      }
                    ],
                    "contour": [
                      {
                        "colorbar": {
                          "outlinewidth": 0,
                          "ticks": ""
                        },
                        "colorscale": [
                          [
                            0,
                            "#0d0887"
                          ],
                          [
                            0.1111111111111111,
                            "#46039f"
                          ],
                          [
                            0.2222222222222222,
                            "#7201a8"
                          ],
                          [
                            0.3333333333333333,
                            "#9c179e"
                          ],
                          [
                            0.4444444444444444,
                            "#bd3786"
                          ],
                          [
                            0.5555555555555556,
                            "#d8576b"
                          ],
                          [
                            0.6666666666666666,
                            "#ed7953"
                          ],
                          [
                            0.7777777777777778,
                            "#fb9f3a"
                          ],
                          [
                            0.8888888888888888,
                            "#fdca26"
                          ],
                          [
                            1,
                            "#f0f921"
                          ]
                        ],
                        "type": "contour"
                      }
                    ],
                    "contourcarpet": [
                      {
                        "colorbar": {
                          "outlinewidth": 0,
                          "ticks": ""
                        },
                        "type": "contourcarpet"
                      }
                    ],
                    "heatmap": [
                      {
                        "colorbar": {
                          "outlinewidth": 0,
                          "ticks": ""
                        },
                        "colorscale": [
                          [
                            0,
                            "#0d0887"
                          ],
                          [
                            0.1111111111111111,
                            "#46039f"
                          ],
                          [
                            0.2222222222222222,
                            "#7201a8"
                          ],
                          [
                            0.3333333333333333,
                            "#9c179e"
                          ],
                          [
                            0.4444444444444444,
                            "#bd3786"
                          ],
                          [
                            0.5555555555555556,
                            "#d8576b"
                          ],
                          [
                            0.6666666666666666,
                            "#ed7953"
                          ],
                          [
                            0.7777777777777778,
                            "#fb9f3a"
                          ],
                          [
                            0.8888888888888888,
                            "#fdca26"
                          ],
                          [
                            1,
                            "#f0f921"
                          ]
                        ],
                        "type": "heatmap"
                      }
                    ],
                    "histogram": [
                      {
                        "marker": {
                          "pattern": {
                            "fillmode": "overlay",
                            "size": 10,
                            "solidity": 0.2
                          }
                        },
                        "type": "histogram"
                      }
                    ],
                    "histogram2d": [
                      {
                        "colorbar": {
                          "outlinewidth": 0,
                          "ticks": ""
                        },
                        "colorscale": [
                          [
                            0,
                            "#0d0887"
                          ],
                          [
                            0.1111111111111111,
                            "#46039f"
                          ],
                          [
                            0.2222222222222222,
                            "#7201a8"
                          ],
                          [
                            0.3333333333333333,
                            "#9c179e"
                          ],
                          [
                            0.4444444444444444,
                            "#bd3786"
                          ],
                          [
                            0.5555555555555556,
                            "#d8576b"
                          ],
                          [
                            0.6666666666666666,
                            "#ed7953"
                          ],
                          [
                            0.7777777777777778,
                            "#fb9f3a"
                          ],
                          [
                            0.8888888888888888,
                            "#fdca26"
                          ],
                          [
                            1,
                            "#f0f921"
                          ]
                        ],
                        "type": "histogram2d"
                      }
                    ],
                    "histogram2dcontour": [
                      {
                        "colorbar": {
                          "outlinewidth": 0,
                          "ticks": ""
                        },
                        "colorscale": [
                          [
                            0,
                            "#0d0887"
                          ],
                          [
                            0.1111111111111111,
                            "#46039f"
                          ],
                          [
                            0.2222222222222222,
                            "#7201a8"
                          ],
                          [
                            0.3333333333333333,
                            "#9c179e"
                          ],
                          [
                            0.4444444444444444,
                            "#bd3786"
                          ],
                          [
                            0.5555555555555556,
                            "#d8576b"
                          ],
                          [
                            0.6666666666666666,
                            "#ed7953"
                          ],
                          [
                            0.7777777777777778,
                            "#fb9f3a"
                          ],
                          [
                            0.8888888888888888,
                            "#fdca26"
                          ],
                          [
                            1,
                            "#f0f921"
                          ]
                        ],
                        "type": "histogram2dcontour"
                      }
                    ],
                    "mesh3d": [
                      {
                        "colorbar": {
                          "outlinewidth": 0,
                          "ticks": ""
                        },
                        "type": "mesh3d"
                      }
                    ],
                    "parcoords": [
                      {
                        "line": {
                          "colorbar": {
                            "outlinewidth": 0,
                            "ticks": ""
                          }
                        },
                        "type": "parcoords"
                      }
                    ],
                    "pie": [
                      {
                        "automargin": true,
                        "type": "pie"
                      }
                    ],
                    "scatter": [
                      {
                        "fillpattern": {
                          "fillmode": "overlay",
                          "size": 10,
                          "solidity": 0.2
                        },
                        "type": "scatter"
                      }
                    ],
                    "scatter3d": [
                      {
                        "line": {
                          "colorbar": {
                            "outlinewidth": 0,
                            "ticks": ""
                          }
                        },
                        "marker": {
                          "colorbar": {
                            "outlinewidth": 0,
                            "ticks": ""
                          }
                        },
                        "type": "scatter3d"
                      }
                    ],
                    "scattercarpet": [
                      {
                        "marker": {
                          "colorbar": {
                            "outlinewidth": 0,
                            "ticks": ""
                          }
                        },
                        "type": "scattercarpet"
                      }
                    ],
                    "scattergeo": [
                      {
                        "marker": {
                          "colorbar": {
                            "outlinewidth": 0,
                            "ticks": ""
                          }
                        },
                        "type": "scattergeo"
                      }
                    ],
                    "scattergl": [
                      {
                        "marker": {
                          "colorbar": {
                            "outlinewidth": 0,
                            "ticks": ""
                          }
                        },
                        "type": "scattergl"
                      }
                    ],
                    "scattermap": [
                      {
                        "marker": {
                          "colorbar": {
                            "outlinewidth": 0,
                            "ticks": ""
                          }
                        },
                        "type": "scattermap"
                      }
                    ],
                    "scattermapbox": [
                      {
                        "marker": {
                          "colorbar": {
                            "outlinewidth": 0,
                            "ticks": ""
                          }
                        },
                        "type": "scattermapbox"
                      }
                    ],
                    "scatterpolar": [
                      {
                        "marker": {
                          "colorbar": {
                            "outlinewidth": 0,
                            "ticks": ""
                          }
                        },
                        "type": "scatterpolar"
                      }
                    ],
                    "scatterpolargl": [
                      {
                        "marker": {
                          "colorbar": {
                            "outlinewidth": 0,
                            "ticks": ""
                          }
                        },
                        "type": "scatterpolargl"
                      }
                    ],
                    "scatterternary": [
                      {
                        "marker": {
                          "colorbar": {
                            "outlinewidth": 0,
                            "ticks": ""
                          }
                        },
                        "type": "scatterternary"
                      }
                    ],
                    "surface": [
                      {
                        "colorbar": {
                          "outlinewidth": 0,
                          "ticks": ""
                        },
                        "colorscale": [
                          [
                            0,
                            "#0d0887"
                          ],
                          [
                            0.1111111111111111,
                            "#46039f"
                          ],
                          [
                            0.2222222222222222,
                            "#7201a8"
                          ],
                          [
                            0.3333333333333333,
                            "#9c179e"
                          ],
                          [
                            0.4444444444444444,
                            "#bd3786"
                          ],
                          [
                            0.5555555555555556,
                            "#d8576b"
                          ],
                          [
                            0.6666666666666666,
                            "#ed7953"
                          ],
                          [
                            0.7777777777777778,
                            "#fb9f3a"
                          ],
                          [
                            0.8888888888888888,
                            "#fdca26"
                          ],
                          [
                            1,
                            "#f0f921"
                          ]
                        ],
                        "type": "surface"
                      }
                    ],
                    "table": [
                      {
                        "cells": {
                          "fill": {
                            "color": "#EBF0F8"
                          },
                          "line": {
                            "color": "white"
                          }
                        },
                        "header": {
                          "fill": {
                            "color": "#C8D4E3"
                          },
                          "line": {
                            "color": "white"
                          }
                        },
                        "type": "table"
                      }
                    ]
                  },
                  "layout": {
                    "annotationdefaults": {
                      "arrowcolor": "#2a3f5f",
                      "arrowhead": 0,
                      "arrowwidth": 1
                    },
                    "autotypenumbers": "strict",
                    "coloraxis": {
                      "colorbar": {
                        "outlinewidth": 0,
                        "ticks": ""
                      }
                    },
                    "colorscale": {
                      "diverging": [
                        [
                          0,
                          "#8e0152"
                        ],
                        [
                          0.1,
                          "#c51b7d"
                        ],
                        [
                          0.2,
                          "#de77ae"
                        ],
                        [
                          0.3,
                          "#f1b6da"
                        ],
                        [
                          0.4,
                          "#fde0ef"
                        ],
                        [
                          0.5,
                          "#f7f7f7"
                        ],
                        [
                          0.6,
                          "#e6f5d0"
                        ],
                        [
                          0.7,
                          "#b8e186"
                        ],
                        [
                          0.8,
                          "#7fbc41"
                        ],
                        [
                          0.9,
                          "#4d9221"
                        ],
                        [
                          1,
                          "#276419"
                        ]
                      ],
                      "sequential": [
                        [
                          0,
                          "#0d0887"
                        ],
                        [
                          0.1111111111111111,
                          "#46039f"
                        ],
                        [
                          0.2222222222222222,
                          "#7201a8"
                        ],
                        [
                          0.3333333333333333,
                          "#9c179e"
                        ],
                        [
                          0.4444444444444444,
                          "#bd3786"
                        ],
                        [
                          0.5555555555555556,
                          "#d8576b"
                        ],
                        [
                          0.6666666666666666,
                          "#ed7953"
                        ],
                        [
                          0.7777777777777778,
                          "#fb9f3a"
                        ],
                        [
                          0.8888888888888888,
                          "#fdca26"
                        ],
                        [
                          1,
                          "#f0f921"
                        ]
                      ],
                      "sequentialminus": [
                        [
                          0,
                          "#0d0887"
                        ],
                        [
                          0.1111111111111111,
                          "#46039f"
                        ],
                        [
                          0.2222222222222222,
                          "#7201a8"
                        ],
                        [
                          0.3333333333333333,
                          "#9c179e"
                        ],
                        [
                          0.4444444444444444,
                          "#bd3786"
                        ],
                        [
                          0.5555555555555556,
                          "#d8576b"
                        ],
                        [
                          0.6666666666666666,
                          "#ed7953"
                        ],
                        [
                          0.7777777777777778,
                          "#fb9f3a"
                        ],
                        [
                          0.8888888888888888,
                          "#fdca26"
                        ],
                        [
                          1,
                          "#f0f921"
                        ]
                      ]
                    },
                    "colorway": [
                      "#636efa",
                      "#EF553B",
                      "#00cc96",
                      "#ab63fa",
                      "#FFA15A",
                      "#19d3f3",
                      "#FF6692",
                      "#B6E880",
                      "#FF97FF",
                      "#FECB52"
                    ],
                    "font": {
                      "color": "#2a3f5f"
                    },
                    "geo": {
                      "bgcolor": "white",
                      "lakecolor": "white",
                      "landcolor": "#E5ECF6",
                      "showlakes": true,
                      "showland": true,
                      "subunitcolor": "white"
                    },
                    "hoverlabel": {
                      "align": "left"
                    },
                    "hovermode": "closest",
                    "mapbox": {
                      "style": "light"
                    },
                    "paper_bgcolor": "white",
                    "plot_bgcolor": "#E5ECF6",
                    "polar": {
                      "angularaxis": {
                        "gridcolor": "white",
                        "linecolor": "white",
                        "ticks": ""
                      },
                      "bgcolor": "#E5ECF6",
                      "radialaxis": {
                        "gridcolor": "white",
                        "linecolor": "white",
                        "ticks": ""
                      }
                    },
                    "scene": {
                      "xaxis": {
                        "backgroundcolor": "#E5ECF6",
                        "gridcolor": "white",
                        "gridwidth": 2,
                        "linecolor": "white",
                        "showbackground": true,
                        "ticks": "",
                        "zerolinecolor": "white"
                      },
                      "yaxis": {
                        "backgroundcolor": "#E5ECF6",
                        "gridcolor": "white",
                        "gridwidth": 2,
                        "linecolor": "white",
                        "showbackground": true,
                        "ticks": "",
                        "zerolinecolor": "white"
                      },
                      "zaxis": {
                        "backgroundcolor": "#E5ECF6",
                        "gridcolor": "white",
                        "gridwidth": 2,
                        "linecolor": "white",
                        "showbackground": true,
                        "ticks": "",
                        "zerolinecolor": "white"
                      }
                    },
                    "shapedefaults": {
                      "line": {
                        "color": "#2a3f5f"
                      }
                    },
                    "ternary": {
                      "aaxis": {
                        "gridcolor": "white",
                        "linecolor": "white",
                        "ticks": ""
                      },
                      "baxis": {
                        "gridcolor": "white",
                        "linecolor": "white",
                        "ticks": ""
                      },
                      "bgcolor": "#E5ECF6",
                      "caxis": {
                        "gridcolor": "white",
                        "linecolor": "white",
                        "ticks": ""
                      }
                    },
                    "title": {
                      "x": 0.05
                    },
                    "xaxis": {
                      "automargin": true,
                      "gridcolor": "white",
                      "linecolor": "white",
                      "ticks": "",
                      "title": {
                        "standoff": 15
                      },
                      "zerolinecolor": "white",
                      "zerolinewidth": 2
                    },
                    "yaxis": {
                      "automargin": true,
                      "gridcolor": "white",
                      "linecolor": "white",
                      "ticks": "",
                      "title": {
                        "standoff": 15
                      },
                      "zerolinecolor": "white",
                      "zerolinewidth": 2
                    }
                  }
                },
                "title": {
                  "text": "Hyperparameter Importances"
                },
                "xaxis": {
                  "title": {
                    "text": "Hyperparameter Importance"
                  }
                },
                "yaxis": {
                  "title": {
                    "text": "Hyperparameter"
                  }
                }
              }
            }
          },
          "metadata": {},
          "output_type": "display_data"
        }
      ],
      "source": [
        "\n",
        "plot_param_importances(study)\n"
      ]
    },
    {
      "cell_type": "markdown",
      "metadata": {},
      "source": [
        "los hiperparametros más importantes son min_frenquency y min_child_weight siendo el primero el con más peso."
      ]
    },
    {
      "attachments": {},
      "cell_type": "markdown",
      "metadata": {
        "cell_id": "ac8a20f445d045a3becf1a518d410a7d",
        "deepnote_cell_type": "markdown",
        "id": "EoW32TA9I5wA"
      },
      "source": [
        "## 6. Síntesis de resultados (3 puntos)\n",
        "\n",
        "Finalmente:\n",
        "\n",
        "1. Genere una tabla resumen del MAE en el conjunto de validación obtenido en los 5 modelos entrenados desde Baseline hasta XGBoost con Constraints, Optuna y Prunning. [1 punto]\n",
        "2. Compare los resultados de la tabla y responda, ¿qué modelo obtiene el mejor rendimiento? [0.5 puntos]\n",
        "3. Cargue el mejor modelo, prediga sobre el conjunto de **test** y reporte su MAE. [0.5 puntos]\n",
        "4. ¿Existen diferencias con respecto a las métricas obtenidas en el conjunto de validación? ¿Porqué puede ocurrir esto? [1 punto]"
      ]
    },
    {
      "cell_type": "markdown",
      "metadata": {},
      "source": [
        "## 6. Síntesis de resultados\n",
        "\n",
        "### 1. Tabla resumen de MAE en validación\n",
        "\n",
        "| Modelo                                    | MAE Validación |\n",
        "|-------------------------------------------|---------------:|\n",
        "| **DummyRegressor (baseline)**             |      13395.95  |\n",
        "| **XGBRegressor (sin restricciones)**      |       2425.82  |\n",
        "| **XGBRegressor (restricciones monótonas)**|       2454.15  |\n",
        "| **XGB + Optuna (sin pruning)**            |       2023.56  |\n",
        "| **XGB + Optuna + Pruning**                |       1965.14  |\n",
        "\n",
        "---\n",
        "\n",
        "### 2. Mejor rendimiento\n",
        "\n",
        "El mejor MAE en validación lo obtiene el modelo **XGBoost optimizado con Optuna y pruning** (1965.14), seguido muy de cerca por la versión sin pruning (2023.56).\n",
        "\n",
        "---\n",
        "\n"
      ]
    },
    {
      "cell_type": "code",
      "execution_count": 5,
      "metadata": {
        "id": "jq5C6cDnJg9h"
      },
      "outputs": [
        {
          "name": "stdout",
          "output_type": "stream",
          "text": [
            "MAE en test: 2033.51\n"
          ]
        }
      ],
      "source": [
        "\n",
        "import joblib, pickle, xgboost as xgb\n",
        "from sklearn.metrics import mean_absolute_error\n",
        "\n",
        "preprocessor = joblib.load(\"preprocessor.pkl\")\n",
        "booster      = pickle.load(open(\"xgb_booster.pkl\", \"rb\"))\n",
        "\n",
        "X_test_transformed = preprocessor.transform(extract_date_features(X_test))\n",
        "dtest = xgb.DMatrix(X_test_transformed)\n",
        "y_pred_test = booster.predict(dtest)\n",
        "mae_test = mean_absolute_error(y_test, y_pred_test)\n",
        "print(f\"MAE en test: {mae_test:.2f}\")"
      ]
    },
    {
      "cell_type": "markdown",
      "metadata": {},
      "source": [
        "### 4. Comparación validación vs. test\n",
        "\n",
        "El MAE en test fue de **2033.51**, ligeramente superior al de validación (**1965.14**).  \n",
        "Esto puede ocurrir por varias razones:\n",
        "\n",
        "- **Variabilidad muestral**: la distribución de X_test puede diferir sutilmente de X_val, introduciendo un sesgo que aumenta el error.  \n",
        "- **Sobreajuste moderado**: al optimizar hiperparámetros sobre el conjunto de validación, el modelo puede haber capturado ruido específico de esa partición.  \n",
        "- **Tamaño y representatividad**: diferencias en el tamaño relativo y la variedad de casos de test versus validación pueden afectar la métrica.  \n",
        "- **Desviaciones en el proceso de preprocesamiento**: pequeñas discrepancias en cómo se aplican transformaciones (por ejemplo, codificación de categorías nuevas) también pueden impactar el rendimiento.\n"
      ]
    },
    {
      "attachments": {},
      "cell_type": "markdown",
      "metadata": {
        "cell_id": "5c4654d12037494fbd385b4dc6bd1059",
        "deepnote_cell_type": "markdown",
        "id": "E_19tgBEI5wA"
      },
      "source": [
        "# Conclusión\n",
        "Eso ha sido todo para el lab de hoy, recuerden que el laboratorio tiene un plazo de entrega de una semana. Cualquier duda del laboratorio, no duden en contactarnos por mail o U-cursos.\n",
        "\n",
        "<p align=\"center\">\n",
        "  <img src=\"https://i.pinimg.com/originals/55/3d/42/553d42bea9b10e0662a05aa8726fc7f4.gif\">\n",
        "</p>"
      ]
    },
    {
      "attachments": {},
      "cell_type": "markdown",
      "metadata": {
        "cell_id": "5025de06759f4903a26916c80323bf25",
        "deepnote_cell_type": "markdown",
        "id": "Kq2cFix1I5wA"
      },
      "source": []
    },
    {
      "attachments": {},
      "cell_type": "markdown",
      "metadata": {
        "created_in_deepnote_cell": true,
        "deepnote_cell_type": "markdown",
        "id": "rAp9UxwiI5wA"
      },
      "source": [
        "<a style='text-decoration:none;line-height:16px;display:flex;color:#5B5B62;padding:10px;justify-content:end;' href='https://deepnote.com?utm_source=created-in-deepnote-cell&projectId=87110296-876e-426f-b91d-aaf681223468' target=\"_blank\">\n",
        "<img alt='Created in deepnote.com' style='display:inline;max-height:16px;margin:0px;margin-right:7.5px;' src='data:image/svg+xml;base64,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' > </img>\n",
        "Created in <span style='font-weight:600;margin-left:4px;'>Deepnote</span></a>"
      ]
    }
  ],
  "metadata": {
    "colab": {
      "provenance": []
    },
    "deepnote": {},
    "deepnote_execution_queue": [],
    "deepnote_notebook_id": "f63d38450a6b464c9bb6385cf11db4d9",
    "deepnote_persisted_session": {
      "createdAt": "2023-11-09T16:18:30.203Z"
    },
    "kernelspec": {
      "display_name": "venv",
      "language": "python",
      "name": "python3"
    },
    "language_info": {
      "codemirror_mode": {
        "name": "ipython",
        "version": 3
      },
      "file_extension": ".py",
      "mimetype": "text/x-python",
      "name": "python",
      "nbconvert_exporter": "python",
      "pygments_lexer": "ipython3",
      "version": "3.12.3"
    }
  },
  "nbformat": 4,
  "nbformat_minor": 0
}
