{
 "cells": [
  {
   "cell_type": "markdown",
   "metadata": {
    "id": "_Tgm8mCA9Dp3"
   },
   "source": [
    "# Laboratorio 5: Clasificación 🤗\n",
    "\n",
    "<center><strong>MDS7202: Laboratorio de Programación Científica para Ciencia de Datos - Primavera 2024</strong></center>\n"
   ]
  },
  {
   "cell_type": "markdown",
   "metadata": {
    "id": "11Kc_ibM9GXH"
   },
   "source": [
    "### Cuerpo Docente:\n",
    "\n",
    "- Profesores: Stefano Schiappacasse, Sebastián Tinoco\n",
    "- Auxiliares: Melanie Peña, Valentina Rojas\n",
    "- Ayudantes: Angelo Muñoz, Valentina Zúñiga"
   ]
  },
  {
   "cell_type": "markdown",
   "metadata": {
    "id": "u9dUSltr9JrN"
   },
   "source": [
    "### Equipo: SUPER IMPORTANTE - notebooks sin nombre no serán revisados\n",
    "\n",
    "- Nombre de alumno 1: Sasha Oyanadel \n",
    "- Nombre de alumno 2: Pablo Vergara"
   ]
  },
  {
   "cell_type": "markdown",
   "metadata": {
    "id": "pC1IloytrsAx"
   },
   "source": [
    "### **Link de repositorio de GitHub:** [Insertar Repositorio](https://github.com/...../)"
   ]
  },
  {
   "cell_type": "markdown",
   "metadata": {
    "id": "YBa48PDF9OHw"
   },
   "source": [
    "### Temas a tratar\n",
    "- Clasificación en problemas desbalanceados\n",
    "- Lightgbm y xgboost\n",
    "- Pipelines"
   ]
  },
  {
   "cell_type": "markdown",
   "metadata": {
    "id": "mkhnnMx49Qrh"
   },
   "source": [
    "## Reglas:\n",
    "\n",
    "- **Grupos de 2 personas**\n",
    "- Fecha de entrega: 6 días de plazo con descuento de 1 punto por día. Entregas Martes a las 23:59.\n",
    "- Instrucciones del lab el viernes a las 16:15 en formato online. Asistencia no es obligatoria, pero se recomienda fuertemente asistir.\n",
    "- <u>Prohibidas las copias</u>. Cualquier intento de copia será debidamente penalizado con el reglamento de la escuela.\n",
    "- Tienen que subir el laboratorio a u-cursos y a su repositorio de github. Labs que no estén en u-cursos no serán revisados. Recuerden que el repositorio también tiene nota.\n",
    "- Cualquier duda fuera del horario de clases al foro. Mensajes al equipo docente serán respondidos por este medio.\n",
    "- Pueden usar cualquier material del curso que estimen conveniente.\n"
   ]
  },
  {
   "cell_type": "markdown",
   "metadata": {
    "id": "sxzJ48Vv8quO"
   },
   "source": [
    "\n",
    "\n",
    "### Objetivos principales del laboratorio\n",
    "- Comprender cómo trabajar con problemas de clasificación con clases desbalanceadas.\n",
    "- Aplicar los modelos lightgbm y xgboost.\n",
    "- Practicar Pipelines"
   ]
  },
  {
   "cell_type": "markdown",
   "metadata": {
    "id": "k-ao0mOU64Ru"
   },
   "source": [
    "# Parte Teórica [12 puntos]\n",
    "\n",
    "\n"
   ]
  },
  {
   "cell_type": "markdown",
   "metadata": {
    "id": "ApXKwPDmxcEV"
   },
   "source": [
    "1. Explique cuál es la diferencia entre los datos de entrenamiento y validación. [1 punto]\n",
    "\n",
    "2. Explique cuál es el principal desafío al trabajar problemas de clasificación con data no supervisada. [1 punto]\n",
    "\n",
    "3. Explique en **sus palabras** qué es la matriz de confusión y para qué se utiliza. [1 puntos]\n",
    "\n",
    "4. Escriba la fórmula de las siguientes métricas y explique con **sus palabras** cómo se interpretan. [1 punto cada uno]\n",
    "\n",
    "  * Accuracy\n",
    "  * Precision\n",
    "  * Recall\n",
    "  * F1 score\n",
    "\n",
    "5. Explique qué métrica recomendaría para los siguientes contextos de clasificación. [1 punto cada uno]\n",
    "\n",
    "  * Mantenimiento predictivo de fallas de maquinaria pesada en la industria minera.  \n",
    "  * Detección de enfermedades altamente contagiosas.\n",
    "  * Aprobación de créditos de alto riesgo.\n",
    "  * Detección de crímenes.\n",
    "\n",
    "6. Explique qué es la calibración de modelos y para qué se usa. [1 punto]\n",
    "La calibración de un modelo consiste en ajustar las probabilidades de salida $\\hat{P} = f(X)$ para que reflejen correctamente la frecuencia real de la clase positiva. Un modelo está perfectamente calibrado si, para cualquier valor $p \\in [0,1]$, se cumple que $\\mathbb{P}(\\hat{Y}=1 | \\hat{P}=p) = p$.\n",
    "\n",
    "Se utiliza para que las probabilidades predichas puedan interpretarse como verdaderas frecuencias de ocurrencia de la clase positiva. Así, si un conjunto de muestras tiene probabilidad predicha $p$, aproximadamente un $p \\times 100%$ de ellas debería realmente pertenecer a la clase positiva.\n",
    "La calibración es importante porque los modelos de machine learning suelen tener sesgos en su distribución de salidas. Aplicar calibración ayuda a mejorar la toma de decisiones y a interpretar de manera más confiable los scores generados por el modelo."
   ]
  },
  {
   "cell_type": "markdown",
   "metadata": {
    "id": "Yy4QMWD8-FPk"
   },
   "source": [
    "**Respuesta:**"
   ]
  },
  {
   "cell_type": "markdown",
   "metadata": {
    "id": "QYFdD1aK-ICa"
   },
   "source": [
    "# 1. Diferencia entre datos de entrenamiento y validación\n",
    "\n",
    "Los datos de entrenamiento son el conjunto que se utiliza para ajustar los parámetros del modelo, mientras que los datos de validación sirven para evaluar el rendimiento del modelo durante el entrenamiento y ayudar a ajustar hiperparámetros, detectando posibles problemas como el sobreajuste.\n",
    "\n",
    "---\n",
    "\n",
    "# 2. Principal desafío en clasificación no supervisada\n",
    "\n",
    "El principal desafío es la ausencia de etiquetas verdaderas. Sin etiquetas, el modelo debe inferir patrones o estructuras sin saber de antemano qué clases existen ni cuántas son. Esto dificulta validar la calidad de las agrupaciones encontradas y puede hacer complicada la interpretación de los resultados.\n",
    "\n",
    "---\n",
    "\n",
    "# 3. Matriz de confusión\n",
    "\n",
    "La matriz de confusión es una tabla que resume el desempeño de un modelo de clasificación mostrando las cantidades de verdaderos positivos (TP), falsos positivos (FP), verdaderos negativos (TN) y falsos negativos (FN). Se utiliza para entender en detalle dónde está acertando o fallando el modelo, más allá de una simple medida como la accuracy.\n",
    "\n",
    "---\n",
    "\n",
    "# 4. Métricas de Clasificación\n",
    "\n",
    "## Accuracy\n",
    "**Fórmula:**\n",
    "$$\n",
    "Accuracy = \\frac{TP + TN}{TP + TN + FP + FN}\n",
    "$$\n",
    "**Interpretación:**  \n",
    "Mide el porcentaje de predicciones correctas sobre el total de casos. Es útil en datasets balanceados.\n",
    "\n",
    "## Precision\n",
    "**Fórmula:**\n",
    "$$\n",
    "Precision = \\frac{TP}{TP + FP}\n",
    "$$\n",
    "**Interpretación:**  \n",
    "De todas las predicciones positivas realizadas por el modelo, mide qué proporción eran realmente positivas.\n",
    "\n",
    "## Recall\n",
    "**Fórmula:**\n",
    "$$\n",
    "Recall = \\frac{TP}{TP + FN}\n",
    "$$\n",
    "**Interpretación:**  \n",
    "De todas las instancias realmente positivas, mide qué porcentaje fue correctamente identificado por el modelo.\n",
    "\n",
    "## F1 Score\n",
    "**Fórmula:**\n",
    "$$\n",
    "F1\\ Score = 2 \\times \\frac{Precision \\times Recall}{Precision + Recall}\n",
    "$$\n",
    "**Interpretación:**  \n",
    "Es la media armónica entre precision y recall. Es útil cuando se busca un balance entre ambos, especialmente en problemas con clases desbalanceadas.\n",
    "\n",
    "---\n",
    "\n",
    "# 5. Métrica recomendada por contexto\n",
    "\n",
    "## Mantenimiento predictivo de fallas de maquinaria pesada\n",
    "**Métrica recomendada:** Recall  \n",
    "**Justificación:** Es crítico detectar todas las fallas posibles para evitar fallas catastróficas.\n",
    "\n",
    "## Detección de enfermedades altamente contagiosas\n",
    "**Métrica recomendada:** Recall  \n",
    "**Justificación:** Es fundamental identificar todos los casos positivos para controlar la propagación.\n",
    "\n",
    "## Aprobación de créditos de alto riesgo\n",
    "**Métrica recomendada:** Precision  \n",
    "**Justificación:** Se busca asegurar que los aprobados realmente representen un bajo riesgo financiero.\n",
    "\n",
    "## Detección de crímenes\n",
    "**Métrica recomendada:** Recall  \n",
    "**Justificación:** Es importante detectar la mayor cantidad posible de crímenes, aunque haya algunos falsos positivos.\n",
    "\n",
    "---\n",
    "\n",
    "# 6. Calibración de modelos\n",
    "\n",
    "La calibración de un modelo consiste en ajustar las probabilidades de salida $\\hat{P} = f(X)$ para que reflejen correctamente la frecuencia real de la clase positiva.  \n",
    "Un modelo está perfectamente calibrado si, para cualquier valor $p \\in [0,1]$, se cumple que:\n",
    "$$\n",
    "\\mathbb{P}(\\hat{Y}=1 | \\hat{P}=p) = p\n",
    "$$\n",
    "\n",
    "Se utiliza para que las probabilidades predichas puedan interpretarse como verdaderas frecuencias de ocurrencia de la clase positiva. Así, si un conjunto de muestras tiene probabilidad predicha $p$, aproximadamente un $p \\times 100\\%$ de ellas debería realmente pertenecer a la clase positiva.  \n",
    "La calibración es importante porque los modelos de machine learning suelen tener sesgos en su distribución de salidas. Aplicar calibración ayuda a mejorar la toma de decisiones y a interpretar de manera más confiable los scores generados por el modelo.\n",
    "\n",
    "---\n"
   ]
  },
  {
   "cell_type": "markdown",
   "metadata": {
    "id": "Jg_9jBqtgRDO"
   },
   "source": [
    "# Parte práctica [48 puntos]"
   ]
  },
  {
   "cell_type": "markdown",
   "metadata": {
    "id": "slm6yRfdfZwS"
   },
   "source": [
    "<p align=\"center\">\n",
    "  <img src=\"https://drive.google.com/uc?export=view&id=1BnO4tyh3vM2P199Ec9s3JjngQ4qQ9seP\"\n",
    "\" width=\"300\">\n",
    "</p>\n",
    "\n",
    "\n",
    "Tras el trágico despido de la mítica mascota de Maipú, Renacín decide adentrarse como consultor en el mercado futbolero, el cuál (para variar...) está cargado en especulaciones.\n",
    "\n",
    "Como su principal tarea será asesorar a los directivos de los clubes sobre cuál jugador comprar y cuál no, Renacín desea generar modelos predictivos que evaluén distintas características de los jugadores; todo con el fin de tomar decisiones concretas basadas en los datos.\n",
    "\n",
    "Sin embargo, su condición de corporeo le impidió tomar la versión anterior de MDS7202, por lo que este motivo Renacín contrata a su equipo para lograr su objetivo final. Dado que aún tiene fuertes vínculos con la dirección de deportes de la municipalidad, el corporeo le entrega base de datos con las estadísticas de cada jugador para que su equipo empieze a trabajar ya con un dataset listo para ser usado.\n"
   ]
  },
  {
   "cell_type": "markdown",
   "metadata": {
    "id": "jnbx7RwHfkue"
   },
   "source": [
    "**Los Datos**\n",
    "\n",
    "Para este laboratorio deberán trabajar con el csv `statsplayers.csv`, donde deberán aplicar algoritmos de aprendizaje supervisado de clasificación en base a características que describen de jugadores de fútbol.\n",
    "\n",
    "Para comenzar cargue el dataset señalado y a continuación vea el reporte **`Player_Stats_Report.html`** (adjunto en la carpeta del enunciado) que describe las características principales del `DataFrame`."
   ]
  },
  {
   "cell_type": "code",
   "execution_count": null,
   "metadata": {
    "id": "mX6iwOWUfrp_"
   },
   "outputs": [],
   "source": [
    "# Si usted está utilizando Colabolatory le puede ser útil este código para cargar los archivos.\n",
    "try:\n",
    "    from google.colab import drive\n",
    "    drive.mount(\"/content/drive\")\n",
    "    path = 'Dirección donde tiene los archivos en el Drive'\n",
    "except:\n",
    "    print('Ignorando conexión drive-colab')"
   ]
  },
  {
   "cell_type": "markdown",
   "metadata": {
    "id": "JdcucZhp-M_0"
   },
   "source": [
    "## 1. Predicción de Seleccionados Nacionales [14 puntos]"
   ]
  },
  {
   "cell_type": "markdown",
   "metadata": {
    "id": "HXrewqxjjzvA"
   },
   "source": [
    "<p align=\"center\">\n",
    "  <img src=\"https://www.futuro.cl/wp-content/uploads/2016/06/chile-argentina-meme-12.jpg\" width=\"300\">\n",
    "</p>\n",
    "\n"
   ]
  },
  {
   "cell_type": "markdown",
   "metadata": {
    "id": "Qfre1YsSDqla"
   },
   "source": [
    "### 1.1 Preprocesamiento [5 puntos]"
   ]
  },
  {
   "cell_type": "markdown",
   "metadata": {
    "id": "IR00u4HTDtxv"
   },
   "source": [
    "Tareas:\n",
    "\n",
    "1. Genere los labels para la clasificación binaria en una variable llamada `label`. Para esto, trabaje sobre el atributo `National_Position` suponiendo que los valores nulos son jugadores no seleccionados para representar a su país. [Sin puntaje]\n",
    "\n",
    "2. Hecho esto, ¿cuántos se tienen ejemplos por cada clase? Comente lo que observa. [1 punto]\n",
    "\n",
    "3. Genere un `ColumnTransformer` en donde especifique las transformaciones que hay que realizar para cada columna (por ejemplo StandarScaler, MinMaxScaler, OneHotEncoder, etc...) para que puedan ser utilizadas correctamente por el modelo predictivo y guárdelo una variable llamada `col_transformer`. [2 puntos]\n",
    "\n",
    "4. Comente y justifique las transformaciones elegidas sobre cada una de las variables (para esto utilice el material `Player_Stats_Report.html` que viene en el zip del lab), al igual que las transformaciones aplicadas. [2 puntos]"
   ]
  },
  {
   "cell_type": "markdown",
   "metadata": {
    "id": "tgAk0kbPjEsx"
   },
   "source": [
    "**Respuesta:**"
   ]
  },
  {
   "cell_type": "code",
   "execution_count": 21,
   "metadata": {
    "id": "JhC2sZj9dSI1"
   },
   "outputs": [
    {
     "name": "stdout",
     "output_type": "stream",
     "text": [
      "  National_Position  label\n",
      "0                LS      1\n",
      "1                RW      1\n",
      "2                LW      1\n",
      "3                LS      1\n",
      "4                GK      1\n"
     ]
    }
   ],
   "source": [
    "import pandas as pd\n",
    "\n",
    "df = pd.read_csv('stats_players.csv',sep=\",\")\n",
    "\n",
    "df['label'] = df['National_Position'].notnull().astype(int)\n",
    "\n",
    "print(df[['National_Position', 'label']].head())\n"
   ]
  },
  {
   "cell_type": "code",
   "execution_count": null,
   "metadata": {},
   "outputs": [
    {
     "name": "stdout",
     "output_type": "stream",
     "text": [
      "label\n",
      "0    16513\n",
      "1     1075\n",
      "Name: count, dtype: int64\n",
      "\n",
      "Porcentaje por clase:\n",
      "label\n",
      "0    93.887878\n",
      "1     6.112122\n",
      "Name: count, dtype: float64\n"
     ]
    }
   ],
   "source": [
    "label_counts = df['label'].value_counts()\n",
    "\n",
    "print(label_counts)\n",
    "print(\"\\nPorcentaje por clase:\")\n",
    "print(label_counts / label_counts.sum() * 100)\n"
   ]
  },
  {
   "cell_type": "markdown",
   "metadata": {},
   "source": [
    "Se obtienen 16.513 jugadores no selccionados y 1.075 seleccionados, dando asi un gran desbalance de calse, como es posible visualizar en los porcentajes se tiene 94% de una clase y 6% de otra."
   ]
  },
  {
   "cell_type": "code",
   "execution_count": 23,
   "metadata": {},
   "outputs": [
    {
     "name": "stdout",
     "output_type": "stream",
     "text": [
      "Name                 object\n",
      "Nationality          object\n",
      "National_Position    object\n",
      "Club_Position        object\n",
      "Height                int64\n",
      "Weight                int64\n",
      "Preffered_Foot       object\n",
      "Age                   int64\n",
      "Work_Rate            object\n",
      "Weak_foot             int64\n",
      "Skill_Moves           int64\n",
      "Ball_Control          int64\n",
      "Dribbling             int64\n",
      "Marking               int64\n",
      "Sliding_Tackle        int64\n",
      "Standing_Tackle       int64\n",
      "Aggression            int64\n",
      "Reactions             int64\n",
      "Interceptions         int64\n",
      "Vision                int64\n",
      "Composure             int64\n",
      "Crossing              int64\n",
      "Short_Pass            int64\n",
      "Long_Pass             int64\n",
      "Acceleration          int64\n",
      "Speed                 int64\n",
      "Stamina               int64\n",
      "Strength              int64\n",
      "Balance               int64\n",
      "Agility               int64\n",
      "Jumping               int64\n",
      "Heading               int64\n",
      "Shot_Power            int64\n",
      "Finishing             int64\n",
      "Long_Shots            int64\n",
      "Curve                 int64\n",
      "Freekick_Accuracy     int64\n",
      "Penalties             int64\n",
      "Volleys               int64\n",
      "label                 int64\n",
      "dtype: object\n"
     ]
    }
   ],
   "source": [
    "print(df.dtypes)\n"
   ]
  },
  {
   "cell_type": "code",
   "execution_count": null,
   "metadata": {},
   "outputs": [],
   "source": [
    "from sklearn.compose import ColumnTransformer\n",
    "from sklearn.preprocessing import StandardScaler, OneHotEncoder\n",
    "\n",
    "# Listas de columnas\n",
    "num_features = [\n",
    "    'Height', 'Weight', 'Age', 'Weak_foot', 'Skill_Moves',\n",
    "    'Ball_Control', 'Dribbling', 'Marking', 'Sliding_Tackle', 'Standing_Tackle',\n",
    "    'Aggression', 'Reactions', 'Interceptions', 'Vision', 'Composure',\n",
    "    'Crossing', 'Short_Pass', 'Long_Pass', 'Acceleration', 'Speed', 'Stamina',\n",
    "    'Strength', 'Balance', 'Agility', 'Jumping', 'Heading', 'Shot_Power',\n",
    "    'Finishing', 'Long_Shots', 'Curve', 'Freekick_Accuracy', 'Penalties', 'Volleys'\n",
    "]\n",
    "\n",
    "cat_features = [\n",
    "    'Nationality', 'Preffered_Foot', 'Work_Rate'\n",
    "]\n",
    "\n",
    "\n",
    "# Definir el ColumnTransformer\n",
    "col_transformer = ColumnTransformer(\n",
    "    transformers=[\n",
    "        ('num', StandardScaler(), num_features),\n",
    "        ('cat', OneHotEncoder(handle_unknown='ignore'), cat_features)\n",
    "    ],\n",
    "    remainder='drop'  \n",
    ")\n"
   ]
  },
  {
   "cell_type": "markdown",
   "metadata": {},
   "source": [
    "Se decide utilizar StandarScaler dado que centra los datos en media 0 y varianza 1 y dada la naturaleza de las estadisticas de los jugadores, además casi todas las variables numericas siguen una distribución normal. Además ayuda a que las variables numericas sean más comparables. y sobre las variables categoritas se decide utilizar un OneHotEncoder dado que el modelo no es capaz de procesar texto."
   ]
  },
  {
   "cell_type": "markdown",
   "metadata": {
    "id": "Bv1HOfcNEPF4"
   },
   "source": [
    "### 1.2 Entrenamiento [3 puntos]"
   ]
  },
  {
   "cell_type": "markdown",
   "metadata": {
    "id": "whPkuXTUBvB0"
   },
   "source": [
    "Ahora, vamos a entrenar los pipelines generados en los pasos anteriores. Para esto, debe realizar las siguientes tareas:\n",
    "\n",
    "1. Separe los datos de entrenamiento en un conjunto de entrenamiento y de prueba  (la proporción queda a su juicio). En este paso, seleccione los ejemplos de forma aleatoria e intente mantener la distribución original de labels de cada clase en los conjuntos de prueba/entrenamiento. (vea la documentación de `train_test_split`). [1 puntos]\n",
    "\n",
    "\n",
    "2. Defina un pipeline llamado `pipeline_xgboost` y otro llamado `pipeline_lightgbm`. Estos pipelines deben tener el mismo ColumnTransformer definido en la sección de preprocesamiento, pero deben variar los clasificadores de acuerdo al nombre de cada pipeline. [1 puntos]\n",
    "\n",
    "3. Entrene los pipelines. [1 punto]\n",
    "\n"
   ]
  },
  {
   "cell_type": "markdown",
   "metadata": {
    "id": "kbadONFtjGnE"
   },
   "source": [
    "**Respuesta:**"
   ]
  },
  {
   "cell_type": "code",
   "execution_count": null,
   "metadata": {
    "id": "lLtlXGTPdWAV"
   },
   "outputs": [],
   "source": [
    "from sklearn.model_selection import train_test_split\n",
    "\n",
    "# Definimos las features (X) y el target (y)\n",
    "X = df.drop(columns=['label', 'Name', 'National_Position'])\n",
    "y = df['label']\n",
    "\n",
    "# División en conjunto de entrenamiento y prueba\n",
    "X_train, X_test, y_train, y_test = train_test_split(\n",
    "    X, y, \n",
    "    test_size=0.2,  \n",
    "    random_state=42,  \n",
    "    stratify=y  # Mantener proporción de clases\n",
    ")\n"
   ]
  },
  {
   "cell_type": "code",
   "execution_count": null,
   "metadata": {},
   "outputs": [],
   "source": [
    "from sklearn.compose import ColumnTransformer\n",
    "from sklearn.preprocessing import StandardScaler, OneHotEncoder\n",
    "from sklearn.pipeline import Pipeline  \n",
    "from xgboost import XGBClassifier\n",
    "from lightgbm import LGBMClassifier\n"
   ]
  },
  {
   "cell_type": "code",
   "execution_count": 31,
   "metadata": {},
   "outputs": [],
   "source": [
    "# Pipeline con XGBoost\n",
    "pipeline_xgboost = Pipeline(steps=[\n",
    "    ('preprocessing', col_transformer),\n",
    "    ('classifier', XGBClassifier( eval_metric='logloss', random_state=42))\n",
    "])\n",
    "\n",
    "# Pipeline con LightGBM\n",
    "pipeline_lightgbm = Pipeline(steps=[\n",
    "    ('preprocessing', col_transformer),\n",
    "    ('classifier', LGBMClassifier(random_state=42))\n",
    "])\n"
   ]
  },
  {
   "cell_type": "code",
   "execution_count": 32,
   "metadata": {},
   "outputs": [
    {
     "name": "stdout",
     "output_type": "stream",
     "text": [
      "[LightGBM] [Info] Number of positive: 860, number of negative: 13210\n",
      "[LightGBM] [Info] Auto-choosing col-wise multi-threading, the overhead of testing was 0.001331 seconds.\n",
      "You can set `force_col_wise=true` to remove the overhead.\n",
      "[LightGBM] [Info] Total Bins 2676\n",
      "[LightGBM] [Info] Number of data points in the train set: 14070, number of used features: 142\n",
      "[LightGBM] [Info] [binary:BoostFromScore]: pavg=0.061123 -> initscore=-2.731797\n",
      "[LightGBM] [Info] Start training from score -2.731797\n"
     ]
    },
    {
     "data": {
      "text/html": [
       "<style>#sk-container-id-3 {\n",
       "  /* Definition of color scheme common for light and dark mode */\n",
       "  --sklearn-color-text: #000;\n",
       "  --sklearn-color-text-muted: #666;\n",
       "  --sklearn-color-line: gray;\n",
       "  /* Definition of color scheme for unfitted estimators */\n",
       "  --sklearn-color-unfitted-level-0: #fff5e6;\n",
       "  --sklearn-color-unfitted-level-1: #f6e4d2;\n",
       "  --sklearn-color-unfitted-level-2: #ffe0b3;\n",
       "  --sklearn-color-unfitted-level-3: chocolate;\n",
       "  /* Definition of color scheme for fitted estimators */\n",
       "  --sklearn-color-fitted-level-0: #f0f8ff;\n",
       "  --sklearn-color-fitted-level-1: #d4ebff;\n",
       "  --sklearn-color-fitted-level-2: #b3dbfd;\n",
       "  --sklearn-color-fitted-level-3: cornflowerblue;\n",
       "\n",
       "  /* Specific color for light theme */\n",
       "  --sklearn-color-text-on-default-background: var(--sg-text-color, var(--theme-code-foreground, var(--jp-content-font-color1, black)));\n",
       "  --sklearn-color-background: var(--sg-background-color, var(--theme-background, var(--jp-layout-color0, white)));\n",
       "  --sklearn-color-border-box: var(--sg-text-color, var(--theme-code-foreground, var(--jp-content-font-color1, black)));\n",
       "  --sklearn-color-icon: #696969;\n",
       "\n",
       "  @media (prefers-color-scheme: dark) {\n",
       "    /* Redefinition of color scheme for dark theme */\n",
       "    --sklearn-color-text-on-default-background: var(--sg-text-color, var(--theme-code-foreground, var(--jp-content-font-color1, white)));\n",
       "    --sklearn-color-background: var(--sg-background-color, var(--theme-background, var(--jp-layout-color0, #111)));\n",
       "    --sklearn-color-border-box: var(--sg-text-color, var(--theme-code-foreground, var(--jp-content-font-color1, white)));\n",
       "    --sklearn-color-icon: #878787;\n",
       "  }\n",
       "}\n",
       "\n",
       "#sk-container-id-3 {\n",
       "  color: var(--sklearn-color-text);\n",
       "}\n",
       "\n",
       "#sk-container-id-3 pre {\n",
       "  padding: 0;\n",
       "}\n",
       "\n",
       "#sk-container-id-3 input.sk-hidden--visually {\n",
       "  border: 0;\n",
       "  clip: rect(1px 1px 1px 1px);\n",
       "  clip: rect(1px, 1px, 1px, 1px);\n",
       "  height: 1px;\n",
       "  margin: -1px;\n",
       "  overflow: hidden;\n",
       "  padding: 0;\n",
       "  position: absolute;\n",
       "  width: 1px;\n",
       "}\n",
       "\n",
       "#sk-container-id-3 div.sk-dashed-wrapped {\n",
       "  border: 1px dashed var(--sklearn-color-line);\n",
       "  margin: 0 0.4em 0.5em 0.4em;\n",
       "  box-sizing: border-box;\n",
       "  padding-bottom: 0.4em;\n",
       "  background-color: var(--sklearn-color-background);\n",
       "}\n",
       "\n",
       "#sk-container-id-3 div.sk-container {\n",
       "  /* jupyter's `normalize.less` sets `[hidden] { display: none; }`\n",
       "     but bootstrap.min.css set `[hidden] { display: none !important; }`\n",
       "     so we also need the `!important` here to be able to override the\n",
       "     default hidden behavior on the sphinx rendered scikit-learn.org.\n",
       "     See: https://github.com/scikit-learn/scikit-learn/issues/21755 */\n",
       "  display: inline-block !important;\n",
       "  position: relative;\n",
       "}\n",
       "\n",
       "#sk-container-id-3 div.sk-text-repr-fallback {\n",
       "  display: none;\n",
       "}\n",
       "\n",
       "div.sk-parallel-item,\n",
       "div.sk-serial,\n",
       "div.sk-item {\n",
       "  /* draw centered vertical line to link estimators */\n",
       "  background-image: linear-gradient(var(--sklearn-color-text-on-default-background), var(--sklearn-color-text-on-default-background));\n",
       "  background-size: 2px 100%;\n",
       "  background-repeat: no-repeat;\n",
       "  background-position: center center;\n",
       "}\n",
       "\n",
       "/* Parallel-specific style estimator block */\n",
       "\n",
       "#sk-container-id-3 div.sk-parallel-item::after {\n",
       "  content: \"\";\n",
       "  width: 100%;\n",
       "  border-bottom: 2px solid var(--sklearn-color-text-on-default-background);\n",
       "  flex-grow: 1;\n",
       "}\n",
       "\n",
       "#sk-container-id-3 div.sk-parallel {\n",
       "  display: flex;\n",
       "  align-items: stretch;\n",
       "  justify-content: center;\n",
       "  background-color: var(--sklearn-color-background);\n",
       "  position: relative;\n",
       "}\n",
       "\n",
       "#sk-container-id-3 div.sk-parallel-item {\n",
       "  display: flex;\n",
       "  flex-direction: column;\n",
       "}\n",
       "\n",
       "#sk-container-id-3 div.sk-parallel-item:first-child::after {\n",
       "  align-self: flex-end;\n",
       "  width: 50%;\n",
       "}\n",
       "\n",
       "#sk-container-id-3 div.sk-parallel-item:last-child::after {\n",
       "  align-self: flex-start;\n",
       "  width: 50%;\n",
       "}\n",
       "\n",
       "#sk-container-id-3 div.sk-parallel-item:only-child::after {\n",
       "  width: 0;\n",
       "}\n",
       "\n",
       "/* Serial-specific style estimator block */\n",
       "\n",
       "#sk-container-id-3 div.sk-serial {\n",
       "  display: flex;\n",
       "  flex-direction: column;\n",
       "  align-items: center;\n",
       "  background-color: var(--sklearn-color-background);\n",
       "  padding-right: 1em;\n",
       "  padding-left: 1em;\n",
       "}\n",
       "\n",
       "\n",
       "/* Toggleable style: style used for estimator/Pipeline/ColumnTransformer box that is\n",
       "clickable and can be expanded/collapsed.\n",
       "- Pipeline and ColumnTransformer use this feature and define the default style\n",
       "- Estimators will overwrite some part of the style using the `sk-estimator` class\n",
       "*/\n",
       "\n",
       "/* Pipeline and ColumnTransformer style (default) */\n",
       "\n",
       "#sk-container-id-3 div.sk-toggleable {\n",
       "  /* Default theme specific background. It is overwritten whether we have a\n",
       "  specific estimator or a Pipeline/ColumnTransformer */\n",
       "  background-color: var(--sklearn-color-background);\n",
       "}\n",
       "\n",
       "/* Toggleable label */\n",
       "#sk-container-id-3 label.sk-toggleable__label {\n",
       "  cursor: pointer;\n",
       "  display: flex;\n",
       "  width: 100%;\n",
       "  margin-bottom: 0;\n",
       "  padding: 0.5em;\n",
       "  box-sizing: border-box;\n",
       "  text-align: center;\n",
       "  align-items: start;\n",
       "  justify-content: space-between;\n",
       "  gap: 0.5em;\n",
       "}\n",
       "\n",
       "#sk-container-id-3 label.sk-toggleable__label .caption {\n",
       "  font-size: 0.6rem;\n",
       "  font-weight: lighter;\n",
       "  color: var(--sklearn-color-text-muted);\n",
       "}\n",
       "\n",
       "#sk-container-id-3 label.sk-toggleable__label-arrow:before {\n",
       "  /* Arrow on the left of the label */\n",
       "  content: \"▸\";\n",
       "  float: left;\n",
       "  margin-right: 0.25em;\n",
       "  color: var(--sklearn-color-icon);\n",
       "}\n",
       "\n",
       "#sk-container-id-3 label.sk-toggleable__label-arrow:hover:before {\n",
       "  color: var(--sklearn-color-text);\n",
       "}\n",
       "\n",
       "/* Toggleable content - dropdown */\n",
       "\n",
       "#sk-container-id-3 div.sk-toggleable__content {\n",
       "  max-height: 0;\n",
       "  max-width: 0;\n",
       "  overflow: hidden;\n",
       "  text-align: left;\n",
       "  /* unfitted */\n",
       "  background-color: var(--sklearn-color-unfitted-level-0);\n",
       "}\n",
       "\n",
       "#sk-container-id-3 div.sk-toggleable__content.fitted {\n",
       "  /* fitted */\n",
       "  background-color: var(--sklearn-color-fitted-level-0);\n",
       "}\n",
       "\n",
       "#sk-container-id-3 div.sk-toggleable__content pre {\n",
       "  margin: 0.2em;\n",
       "  border-radius: 0.25em;\n",
       "  color: var(--sklearn-color-text);\n",
       "  /* unfitted */\n",
       "  background-color: var(--sklearn-color-unfitted-level-0);\n",
       "}\n",
       "\n",
       "#sk-container-id-3 div.sk-toggleable__content.fitted pre {\n",
       "  /* unfitted */\n",
       "  background-color: var(--sklearn-color-fitted-level-0);\n",
       "}\n",
       "\n",
       "#sk-container-id-3 input.sk-toggleable__control:checked~div.sk-toggleable__content {\n",
       "  /* Expand drop-down */\n",
       "  max-height: 200px;\n",
       "  max-width: 100%;\n",
       "  overflow: auto;\n",
       "}\n",
       "\n",
       "#sk-container-id-3 input.sk-toggleable__control:checked~label.sk-toggleable__label-arrow:before {\n",
       "  content: \"▾\";\n",
       "}\n",
       "\n",
       "/* Pipeline/ColumnTransformer-specific style */\n",
       "\n",
       "#sk-container-id-3 div.sk-label input.sk-toggleable__control:checked~label.sk-toggleable__label {\n",
       "  color: var(--sklearn-color-text);\n",
       "  background-color: var(--sklearn-color-unfitted-level-2);\n",
       "}\n",
       "\n",
       "#sk-container-id-3 div.sk-label.fitted input.sk-toggleable__control:checked~label.sk-toggleable__label {\n",
       "  background-color: var(--sklearn-color-fitted-level-2);\n",
       "}\n",
       "\n",
       "/* Estimator-specific style */\n",
       "\n",
       "/* Colorize estimator box */\n",
       "#sk-container-id-3 div.sk-estimator input.sk-toggleable__control:checked~label.sk-toggleable__label {\n",
       "  /* unfitted */\n",
       "  background-color: var(--sklearn-color-unfitted-level-2);\n",
       "}\n",
       "\n",
       "#sk-container-id-3 div.sk-estimator.fitted input.sk-toggleable__control:checked~label.sk-toggleable__label {\n",
       "  /* fitted */\n",
       "  background-color: var(--sklearn-color-fitted-level-2);\n",
       "}\n",
       "\n",
       "#sk-container-id-3 div.sk-label label.sk-toggleable__label,\n",
       "#sk-container-id-3 div.sk-label label {\n",
       "  /* The background is the default theme color */\n",
       "  color: var(--sklearn-color-text-on-default-background);\n",
       "}\n",
       "\n",
       "/* On hover, darken the color of the background */\n",
       "#sk-container-id-3 div.sk-label:hover label.sk-toggleable__label {\n",
       "  color: var(--sklearn-color-text);\n",
       "  background-color: var(--sklearn-color-unfitted-level-2);\n",
       "}\n",
       "\n",
       "/* Label box, darken color on hover, fitted */\n",
       "#sk-container-id-3 div.sk-label.fitted:hover label.sk-toggleable__label.fitted {\n",
       "  color: var(--sklearn-color-text);\n",
       "  background-color: var(--sklearn-color-fitted-level-2);\n",
       "}\n",
       "\n",
       "/* Estimator label */\n",
       "\n",
       "#sk-container-id-3 div.sk-label label {\n",
       "  font-family: monospace;\n",
       "  font-weight: bold;\n",
       "  display: inline-block;\n",
       "  line-height: 1.2em;\n",
       "}\n",
       "\n",
       "#sk-container-id-3 div.sk-label-container {\n",
       "  text-align: center;\n",
       "}\n",
       "\n",
       "/* Estimator-specific */\n",
       "#sk-container-id-3 div.sk-estimator {\n",
       "  font-family: monospace;\n",
       "  border: 1px dotted var(--sklearn-color-border-box);\n",
       "  border-radius: 0.25em;\n",
       "  box-sizing: border-box;\n",
       "  margin-bottom: 0.5em;\n",
       "  /* unfitted */\n",
       "  background-color: var(--sklearn-color-unfitted-level-0);\n",
       "}\n",
       "\n",
       "#sk-container-id-3 div.sk-estimator.fitted {\n",
       "  /* fitted */\n",
       "  background-color: var(--sklearn-color-fitted-level-0);\n",
       "}\n",
       "\n",
       "/* on hover */\n",
       "#sk-container-id-3 div.sk-estimator:hover {\n",
       "  /* unfitted */\n",
       "  background-color: var(--sklearn-color-unfitted-level-2);\n",
       "}\n",
       "\n",
       "#sk-container-id-3 div.sk-estimator.fitted:hover {\n",
       "  /* fitted */\n",
       "  background-color: var(--sklearn-color-fitted-level-2);\n",
       "}\n",
       "\n",
       "/* Specification for estimator info (e.g. \"i\" and \"?\") */\n",
       "\n",
       "/* Common style for \"i\" and \"?\" */\n",
       "\n",
       ".sk-estimator-doc-link,\n",
       "a:link.sk-estimator-doc-link,\n",
       "a:visited.sk-estimator-doc-link {\n",
       "  float: right;\n",
       "  font-size: smaller;\n",
       "  line-height: 1em;\n",
       "  font-family: monospace;\n",
       "  background-color: var(--sklearn-color-background);\n",
       "  border-radius: 1em;\n",
       "  height: 1em;\n",
       "  width: 1em;\n",
       "  text-decoration: none !important;\n",
       "  margin-left: 0.5em;\n",
       "  text-align: center;\n",
       "  /* unfitted */\n",
       "  border: var(--sklearn-color-unfitted-level-1) 1pt solid;\n",
       "  color: var(--sklearn-color-unfitted-level-1);\n",
       "}\n",
       "\n",
       ".sk-estimator-doc-link.fitted,\n",
       "a:link.sk-estimator-doc-link.fitted,\n",
       "a:visited.sk-estimator-doc-link.fitted {\n",
       "  /* fitted */\n",
       "  border: var(--sklearn-color-fitted-level-1) 1pt solid;\n",
       "  color: var(--sklearn-color-fitted-level-1);\n",
       "}\n",
       "\n",
       "/* On hover */\n",
       "div.sk-estimator:hover .sk-estimator-doc-link:hover,\n",
       ".sk-estimator-doc-link:hover,\n",
       "div.sk-label-container:hover .sk-estimator-doc-link:hover,\n",
       ".sk-estimator-doc-link:hover {\n",
       "  /* unfitted */\n",
       "  background-color: var(--sklearn-color-unfitted-level-3);\n",
       "  color: var(--sklearn-color-background);\n",
       "  text-decoration: none;\n",
       "}\n",
       "\n",
       "div.sk-estimator.fitted:hover .sk-estimator-doc-link.fitted:hover,\n",
       ".sk-estimator-doc-link.fitted:hover,\n",
       "div.sk-label-container:hover .sk-estimator-doc-link.fitted:hover,\n",
       ".sk-estimator-doc-link.fitted:hover {\n",
       "  /* fitted */\n",
       "  background-color: var(--sklearn-color-fitted-level-3);\n",
       "  color: var(--sklearn-color-background);\n",
       "  text-decoration: none;\n",
       "}\n",
       "\n",
       "/* Span, style for the box shown on hovering the info icon */\n",
       ".sk-estimator-doc-link span {\n",
       "  display: none;\n",
       "  z-index: 9999;\n",
       "  position: relative;\n",
       "  font-weight: normal;\n",
       "  right: .2ex;\n",
       "  padding: .5ex;\n",
       "  margin: .5ex;\n",
       "  width: min-content;\n",
       "  min-width: 20ex;\n",
       "  max-width: 50ex;\n",
       "  color: var(--sklearn-color-text);\n",
       "  box-shadow: 2pt 2pt 4pt #999;\n",
       "  /* unfitted */\n",
       "  background: var(--sklearn-color-unfitted-level-0);\n",
       "  border: .5pt solid var(--sklearn-color-unfitted-level-3);\n",
       "}\n",
       "\n",
       ".sk-estimator-doc-link.fitted span {\n",
       "  /* fitted */\n",
       "  background: var(--sklearn-color-fitted-level-0);\n",
       "  border: var(--sklearn-color-fitted-level-3);\n",
       "}\n",
       "\n",
       ".sk-estimator-doc-link:hover span {\n",
       "  display: block;\n",
       "}\n",
       "\n",
       "/* \"?\"-specific style due to the `<a>` HTML tag */\n",
       "\n",
       "#sk-container-id-3 a.estimator_doc_link {\n",
       "  float: right;\n",
       "  font-size: 1rem;\n",
       "  line-height: 1em;\n",
       "  font-family: monospace;\n",
       "  background-color: var(--sklearn-color-background);\n",
       "  border-radius: 1rem;\n",
       "  height: 1rem;\n",
       "  width: 1rem;\n",
       "  text-decoration: none;\n",
       "  /* unfitted */\n",
       "  color: var(--sklearn-color-unfitted-level-1);\n",
       "  border: var(--sklearn-color-unfitted-level-1) 1pt solid;\n",
       "}\n",
       "\n",
       "#sk-container-id-3 a.estimator_doc_link.fitted {\n",
       "  /* fitted */\n",
       "  border: var(--sklearn-color-fitted-level-1) 1pt solid;\n",
       "  color: var(--sklearn-color-fitted-level-1);\n",
       "}\n",
       "\n",
       "/* On hover */\n",
       "#sk-container-id-3 a.estimator_doc_link:hover {\n",
       "  /* unfitted */\n",
       "  background-color: var(--sklearn-color-unfitted-level-3);\n",
       "  color: var(--sklearn-color-background);\n",
       "  text-decoration: none;\n",
       "}\n",
       "\n",
       "#sk-container-id-3 a.estimator_doc_link.fitted:hover {\n",
       "  /* fitted */\n",
       "  background-color: var(--sklearn-color-fitted-level-3);\n",
       "}\n",
       "</style><div id=\"sk-container-id-3\" class=\"sk-top-container\"><div class=\"sk-text-repr-fallback\"><pre>Pipeline(steps=[(&#x27;preprocessing&#x27;,\n",
       "                 ColumnTransformer(transformers=[(&#x27;num&#x27;, StandardScaler(),\n",
       "                                                  [&#x27;Height&#x27;, &#x27;Weight&#x27;, &#x27;Age&#x27;,\n",
       "                                                   &#x27;Weak_foot&#x27;, &#x27;Skill_Moves&#x27;,\n",
       "                                                   &#x27;Ball_Control&#x27;, &#x27;Dribbling&#x27;,\n",
       "                                                   &#x27;Marking&#x27;, &#x27;Sliding_Tackle&#x27;,\n",
       "                                                   &#x27;Standing_Tackle&#x27;,\n",
       "                                                   &#x27;Aggression&#x27;, &#x27;Reactions&#x27;,\n",
       "                                                   &#x27;Interceptions&#x27;, &#x27;Vision&#x27;,\n",
       "                                                   &#x27;Composure&#x27;, &#x27;Crossing&#x27;,\n",
       "                                                   &#x27;Short_Pass&#x27;, &#x27;Long_Pass&#x27;,\n",
       "                                                   &#x27;Acceleration&#x27;, &#x27;Speed&#x27;,\n",
       "                                                   &#x27;Stamina&#x27;, &#x27;Strength&#x27;,\n",
       "                                                   &#x27;Balance&#x27;, &#x27;Agility&#x27;,\n",
       "                                                   &#x27;Jumping&#x27;, &#x27;Heading&#x27;,\n",
       "                                                   &#x27;Shot_Power&#x27;, &#x27;Finishing&#x27;,\n",
       "                                                   &#x27;Long_Shots&#x27;, &#x27;Curve&#x27;, ...]),\n",
       "                                                 (&#x27;cat&#x27;,\n",
       "                                                  OneHotEncoder(handle_unknown=&#x27;ignore&#x27;),\n",
       "                                                  [&#x27;Nationality&#x27;,\n",
       "                                                   &#x27;Club_Position&#x27;,\n",
       "                                                   &#x27;Preffered_Foot&#x27;,\n",
       "                                                   &#x27;Work_Rate&#x27;])])),\n",
       "                (&#x27;classifier&#x27;, LGBMClassifier(random_state=42))])</pre><b>In a Jupyter environment, please rerun this cell to show the HTML representation or trust the notebook. <br />On GitHub, the HTML representation is unable to render, please try loading this page with nbviewer.org.</b></div><div class=\"sk-container\" hidden><div class=\"sk-item sk-dashed-wrapped\"><div class=\"sk-label-container\"><div class=\"sk-label fitted sk-toggleable\"><input class=\"sk-toggleable__control sk-hidden--visually\" id=\"sk-estimator-id-15\" type=\"checkbox\" ><label for=\"sk-estimator-id-15\" class=\"sk-toggleable__label fitted sk-toggleable__label-arrow\"><div><div>Pipeline</div></div><div><a class=\"sk-estimator-doc-link fitted\" rel=\"noreferrer\" target=\"_blank\" href=\"https://scikit-learn.org/1.6/modules/generated/sklearn.pipeline.Pipeline.html\">?<span>Documentation for Pipeline</span></a><span class=\"sk-estimator-doc-link fitted\">i<span>Fitted</span></span></div></label><div class=\"sk-toggleable__content fitted\"><pre>Pipeline(steps=[(&#x27;preprocessing&#x27;,\n",
       "                 ColumnTransformer(transformers=[(&#x27;num&#x27;, StandardScaler(),\n",
       "                                                  [&#x27;Height&#x27;, &#x27;Weight&#x27;, &#x27;Age&#x27;,\n",
       "                                                   &#x27;Weak_foot&#x27;, &#x27;Skill_Moves&#x27;,\n",
       "                                                   &#x27;Ball_Control&#x27;, &#x27;Dribbling&#x27;,\n",
       "                                                   &#x27;Marking&#x27;, &#x27;Sliding_Tackle&#x27;,\n",
       "                                                   &#x27;Standing_Tackle&#x27;,\n",
       "                                                   &#x27;Aggression&#x27;, &#x27;Reactions&#x27;,\n",
       "                                                   &#x27;Interceptions&#x27;, &#x27;Vision&#x27;,\n",
       "                                                   &#x27;Composure&#x27;, &#x27;Crossing&#x27;,\n",
       "                                                   &#x27;Short_Pass&#x27;, &#x27;Long_Pass&#x27;,\n",
       "                                                   &#x27;Acceleration&#x27;, &#x27;Speed&#x27;,\n",
       "                                                   &#x27;Stamina&#x27;, &#x27;Strength&#x27;,\n",
       "                                                   &#x27;Balance&#x27;, &#x27;Agility&#x27;,\n",
       "                                                   &#x27;Jumping&#x27;, &#x27;Heading&#x27;,\n",
       "                                                   &#x27;Shot_Power&#x27;, &#x27;Finishing&#x27;,\n",
       "                                                   &#x27;Long_Shots&#x27;, &#x27;Curve&#x27;, ...]),\n",
       "                                                 (&#x27;cat&#x27;,\n",
       "                                                  OneHotEncoder(handle_unknown=&#x27;ignore&#x27;),\n",
       "                                                  [&#x27;Nationality&#x27;,\n",
       "                                                   &#x27;Club_Position&#x27;,\n",
       "                                                   &#x27;Preffered_Foot&#x27;,\n",
       "                                                   &#x27;Work_Rate&#x27;])])),\n",
       "                (&#x27;classifier&#x27;, LGBMClassifier(random_state=42))])</pre></div> </div></div><div class=\"sk-serial\"><div class=\"sk-item sk-dashed-wrapped\"><div class=\"sk-label-container\"><div class=\"sk-label fitted sk-toggleable\"><input class=\"sk-toggleable__control sk-hidden--visually\" id=\"sk-estimator-id-16\" type=\"checkbox\" ><label for=\"sk-estimator-id-16\" class=\"sk-toggleable__label fitted sk-toggleable__label-arrow\"><div><div>preprocessing: ColumnTransformer</div></div><div><a class=\"sk-estimator-doc-link fitted\" rel=\"noreferrer\" target=\"_blank\" href=\"https://scikit-learn.org/1.6/modules/generated/sklearn.compose.ColumnTransformer.html\">?<span>Documentation for preprocessing: ColumnTransformer</span></a></div></label><div class=\"sk-toggleable__content fitted\"><pre>ColumnTransformer(transformers=[(&#x27;num&#x27;, StandardScaler(),\n",
       "                                 [&#x27;Height&#x27;, &#x27;Weight&#x27;, &#x27;Age&#x27;, &#x27;Weak_foot&#x27;,\n",
       "                                  &#x27;Skill_Moves&#x27;, &#x27;Ball_Control&#x27;, &#x27;Dribbling&#x27;,\n",
       "                                  &#x27;Marking&#x27;, &#x27;Sliding_Tackle&#x27;,\n",
       "                                  &#x27;Standing_Tackle&#x27;, &#x27;Aggression&#x27;, &#x27;Reactions&#x27;,\n",
       "                                  &#x27;Interceptions&#x27;, &#x27;Vision&#x27;, &#x27;Composure&#x27;,\n",
       "                                  &#x27;Crossing&#x27;, &#x27;Short_Pass&#x27;, &#x27;Long_Pass&#x27;,\n",
       "                                  &#x27;Acceleration&#x27;, &#x27;Speed&#x27;, &#x27;Stamina&#x27;,\n",
       "                                  &#x27;Strength&#x27;, &#x27;Balance&#x27;, &#x27;Agility&#x27;, &#x27;Jumping&#x27;,\n",
       "                                  &#x27;Heading&#x27;, &#x27;Shot_Power&#x27;, &#x27;Finishing&#x27;,\n",
       "                                  &#x27;Long_Shots&#x27;, &#x27;Curve&#x27;, ...]),\n",
       "                                (&#x27;cat&#x27;, OneHotEncoder(handle_unknown=&#x27;ignore&#x27;),\n",
       "                                 [&#x27;Nationality&#x27;, &#x27;Club_Position&#x27;,\n",
       "                                  &#x27;Preffered_Foot&#x27;, &#x27;Work_Rate&#x27;])])</pre></div> </div></div><div class=\"sk-parallel\"><div class=\"sk-parallel-item\"><div class=\"sk-item\"><div class=\"sk-label-container\"><div class=\"sk-label fitted sk-toggleable\"><input class=\"sk-toggleable__control sk-hidden--visually\" id=\"sk-estimator-id-17\" type=\"checkbox\" ><label for=\"sk-estimator-id-17\" class=\"sk-toggleable__label fitted sk-toggleable__label-arrow\"><div><div>num</div></div></label><div class=\"sk-toggleable__content fitted\"><pre>[&#x27;Height&#x27;, &#x27;Weight&#x27;, &#x27;Age&#x27;, &#x27;Weak_foot&#x27;, &#x27;Skill_Moves&#x27;, &#x27;Ball_Control&#x27;, &#x27;Dribbling&#x27;, &#x27;Marking&#x27;, &#x27;Sliding_Tackle&#x27;, &#x27;Standing_Tackle&#x27;, &#x27;Aggression&#x27;, &#x27;Reactions&#x27;, &#x27;Interceptions&#x27;, &#x27;Vision&#x27;, &#x27;Composure&#x27;, &#x27;Crossing&#x27;, &#x27;Short_Pass&#x27;, &#x27;Long_Pass&#x27;, &#x27;Acceleration&#x27;, &#x27;Speed&#x27;, &#x27;Stamina&#x27;, &#x27;Strength&#x27;, &#x27;Balance&#x27;, &#x27;Agility&#x27;, &#x27;Jumping&#x27;, &#x27;Heading&#x27;, &#x27;Shot_Power&#x27;, &#x27;Finishing&#x27;, &#x27;Long_Shots&#x27;, &#x27;Curve&#x27;, &#x27;Freekick_Accuracy&#x27;, &#x27;Penalties&#x27;, &#x27;Volleys&#x27;]</pre></div> </div></div><div class=\"sk-serial\"><div class=\"sk-item\"><div class=\"sk-estimator fitted sk-toggleable\"><input class=\"sk-toggleable__control sk-hidden--visually\" id=\"sk-estimator-id-18\" type=\"checkbox\" ><label for=\"sk-estimator-id-18\" class=\"sk-toggleable__label fitted sk-toggleable__label-arrow\"><div><div>StandardScaler</div></div><div><a class=\"sk-estimator-doc-link fitted\" rel=\"noreferrer\" target=\"_blank\" href=\"https://scikit-learn.org/1.6/modules/generated/sklearn.preprocessing.StandardScaler.html\">?<span>Documentation for StandardScaler</span></a></div></label><div class=\"sk-toggleable__content fitted\"><pre>StandardScaler()</pre></div> </div></div></div></div></div><div class=\"sk-parallel-item\"><div class=\"sk-item\"><div class=\"sk-label-container\"><div class=\"sk-label fitted sk-toggleable\"><input class=\"sk-toggleable__control sk-hidden--visually\" id=\"sk-estimator-id-19\" type=\"checkbox\" ><label for=\"sk-estimator-id-19\" class=\"sk-toggleable__label fitted sk-toggleable__label-arrow\"><div><div>cat</div></div></label><div class=\"sk-toggleable__content fitted\"><pre>[&#x27;Nationality&#x27;, &#x27;Club_Position&#x27;, &#x27;Preffered_Foot&#x27;, &#x27;Work_Rate&#x27;]</pre></div> </div></div><div class=\"sk-serial\"><div class=\"sk-item\"><div class=\"sk-estimator fitted sk-toggleable\"><input class=\"sk-toggleable__control sk-hidden--visually\" id=\"sk-estimator-id-20\" type=\"checkbox\" ><label for=\"sk-estimator-id-20\" class=\"sk-toggleable__label fitted sk-toggleable__label-arrow\"><div><div>OneHotEncoder</div></div><div><a class=\"sk-estimator-doc-link fitted\" rel=\"noreferrer\" target=\"_blank\" href=\"https://scikit-learn.org/1.6/modules/generated/sklearn.preprocessing.OneHotEncoder.html\">?<span>Documentation for OneHotEncoder</span></a></div></label><div class=\"sk-toggleable__content fitted\"><pre>OneHotEncoder(handle_unknown=&#x27;ignore&#x27;)</pre></div> </div></div></div></div></div></div></div><div class=\"sk-item\"><div class=\"sk-estimator fitted sk-toggleable\"><input class=\"sk-toggleable__control sk-hidden--visually\" id=\"sk-estimator-id-21\" type=\"checkbox\" ><label for=\"sk-estimator-id-21\" class=\"sk-toggleable__label fitted sk-toggleable__label-arrow\"><div><div>LGBMClassifier</div></div></label><div class=\"sk-toggleable__content fitted\"><pre>LGBMClassifier(random_state=42)</pre></div> </div></div></div></div></div></div>"
      ],
      "text/plain": [
       "Pipeline(steps=[('preprocessing',\n",
       "                 ColumnTransformer(transformers=[('num', StandardScaler(),\n",
       "                                                  ['Height', 'Weight', 'Age',\n",
       "                                                   'Weak_foot', 'Skill_Moves',\n",
       "                                                   'Ball_Control', 'Dribbling',\n",
       "                                                   'Marking', 'Sliding_Tackle',\n",
       "                                                   'Standing_Tackle',\n",
       "                                                   'Aggression', 'Reactions',\n",
       "                                                   'Interceptions', 'Vision',\n",
       "                                                   'Composure', 'Crossing',\n",
       "                                                   'Short_Pass', 'Long_Pass',\n",
       "                                                   'Acceleration', 'Speed',\n",
       "                                                   'Stamina', 'Strength',\n",
       "                                                   'Balance', 'Agility',\n",
       "                                                   'Jumping', 'Heading',\n",
       "                                                   'Shot_Power', 'Finishing',\n",
       "                                                   'Long_Shots', 'Curve', ...]),\n",
       "                                                 ('cat',\n",
       "                                                  OneHotEncoder(handle_unknown='ignore'),\n",
       "                                                  ['Nationality',\n",
       "                                                   'Club_Position',\n",
       "                                                   'Preffered_Foot',\n",
       "                                                   'Work_Rate'])])),\n",
       "                ('classifier', LGBMClassifier(random_state=42))])"
      ]
     },
     "execution_count": 32,
     "metadata": {},
     "output_type": "execute_result"
    }
   ],
   "source": [
    "# Entrenar pipeline con XGBoost\n",
    "pipeline_xgboost.fit(X_train, y_train)\n",
    "\n",
    "# Entrenar pipeline con LightGBM\n",
    "pipeline_lightgbm.fit(X_train, y_train)\n"
   ]
  },
  {
   "cell_type": "markdown",
   "metadata": {
    "id": "poc9HSNBFeKO"
   },
   "source": [
    "### 1.3 Resultados [6 puntos]"
   ]
  },
  {
   "cell_type": "markdown",
   "metadata": {
    "id": "tGGCj8YtFil1"
   },
   "source": [
    "1. Calcule las métricas accuracy, precisión y recall de la clase positiva (la que indica que un jugador es seleccionado nacional) para evaluar el rendimiento de los distintos modelos. Verifique sus resultados usando `classification_report`. [2 puntos]\n",
    "\n",
    "2. Explique qué implican los valores de accuracy, precisión y recall de la clase positiva (la que indica que un jugador es seleccionado nacional) y cómo influye la cantidad de ejemplos por clase en los resultados obtenidos. [2 puntos]\n",
    "\n",
    "3. Explique qué métrica le parece más adecuada y concluya qué modelo tiene un mejor desempeño. [2 puntos]"
   ]
  },
  {
   "cell_type": "markdown",
   "metadata": {
    "id": "A1hkVFdujJTi"
   },
   "source": [
    "**Respuesta:**"
   ]
  },
  {
   "cell_type": "code",
   "execution_count": 33,
   "metadata": {
    "id": "QNmI_tbbdQte"
   },
   "outputs": [
    {
     "name": "stdout",
     "output_type": "stream",
     "text": [
      "=== XGBoost Metrics ===\n",
      "Accuracy: 0.9488345650938033\n",
      "Confusion Matrix:\n",
      " [[3256   47]\n",
      " [ 133   82]]\n",
      "Classification Report:\n",
      "               precision    recall  f1-score   support\n",
      "\n",
      "           0       0.96      0.99      0.97      3303\n",
      "           1       0.64      0.38      0.48       215\n",
      "\n",
      "    accuracy                           0.95      3518\n",
      "   macro avg       0.80      0.68      0.72      3518\n",
      "weighted avg       0.94      0.95      0.94      3518\n",
      "\n",
      "\n",
      "=== LightGBM Metrics ===\n",
      "Accuracy: 0.9502558271745309\n",
      "Confusion Matrix:\n",
      " [[3266   37]\n",
      " [ 138   77]]\n",
      "Classification Report:\n",
      "               precision    recall  f1-score   support\n",
      "\n",
      "           0       0.96      0.99      0.97      3303\n",
      "           1       0.68      0.36      0.47       215\n",
      "\n",
      "    accuracy                           0.95      3518\n",
      "   macro avg       0.82      0.67      0.72      3518\n",
      "weighted avg       0.94      0.95      0.94      3518\n",
      "\n"
     ]
    },
    {
     "name": "stderr",
     "output_type": "stream",
     "text": [
      "d:\\Escritorio\\disco_nuevo\\otoño 2025\\laboratorio\\20250423065686B8177ED48C80F7__Lab5\\venv\\Lib\\site-packages\\sklearn\\utils\\validation.py:2739: UserWarning: X does not have valid feature names, but LGBMClassifier was fitted with feature names\n",
      "  warnings.warn(\n"
     ]
    }
   ],
   "source": [
    "from sklearn.metrics import accuracy_score, classification_report, confusion_matrix\n",
    "\n",
    "# Predicciones\n",
    "y_pred_xgboost = pipeline_xgboost.predict(X_test)\n",
    "y_pred_lightgbm = pipeline_lightgbm.predict(X_test)\n",
    "\n",
    "# Evaluación XGBoost\n",
    "print(\"=== XGBoost Metrics ===\")\n",
    "print(\"Accuracy:\", accuracy_score(y_test, y_pred_xgboost))\n",
    "print(\"Confusion Matrix:\\n\", confusion_matrix(y_test, y_pred_xgboost))\n",
    "print(\"Classification Report:\\n\", classification_report(y_test, y_pred_xgboost))\n",
    "\n",
    "# Evaluación LightGBM\n",
    "print(\"\\n=== LightGBM Metrics ===\")\n",
    "print(\"Accuracy:\", accuracy_score(y_test, y_pred_lightgbm))\n",
    "print(\"Confusion Matrix:\\n\", confusion_matrix(y_test, y_pred_lightgbm))\n",
    "print(\"Classification Report:\\n\", classification_report(y_test, y_pred_lightgbm))\n"
   ]
  },
  {
   "cell_type": "markdown",
   "metadata": {},
   "source": [
    "En primer lugar los valores coinciden con los de clasification_report"
   ]
  },
  {
   "cell_type": "code",
   "execution_count": 1,
   "metadata": {},
   "outputs": [
    {
     "name": "stdout",
     "output_type": "stream",
     "text": [
      "=== XGBoost ===\n",
      "Accuracy: 0.9488\n",
      "Precision (Clase 1): 0.6357\n",
      "Recall (Clase 1): 0.3814\n"
     ]
    }
   ],
   "source": [
    "# Matriz de confusión de XGBoost\n",
    "TN_xgb = 3256\n",
    "FP_xgb = 47\n",
    "FN_xgb = 133\n",
    "TP_xgb = 82\n",
    "\n",
    "# Accuracy, Precision, Recall para XGBoost\n",
    "accuracy_xgb = (TP_xgb + TN_xgb) / (TP_xgb + TN_xgb + FP_xgb + FN_xgb)\n",
    "precision_xgb = TP_xgb / (TP_xgb + FP_xgb)\n",
    "recall_xgb = TP_xgb / (TP_xgb + FN_xgb)\n",
    "\n",
    "print(\"=== XGBoost ===\")\n",
    "print(f\"Accuracy: {accuracy_xgb:.4f}\")\n",
    "print(f\"Precision (Clase 1): {precision_xgb:.4f}\")\n",
    "print(f\"Recall (Clase 1): {recall_xgb:.4f}\")\n"
   ]
  },
  {
   "cell_type": "code",
   "execution_count": 2,
   "metadata": {},
   "outputs": [
    {
     "name": "stdout",
     "output_type": "stream",
     "text": [
      "=== LightGBM ===\n",
      "Accuracy: 0.9503\n",
      "Precision (Clase 1): 0.6754\n",
      "Recall (Clase 1): 0.3581\n"
     ]
    }
   ],
   "source": [
    "# Matriz de confusión de LightGBM\n",
    "TN_lgbm = 3266\n",
    "FP_lgbm = 37\n",
    "FN_lgbm = 138\n",
    "TP_lgbm = 77\n",
    "\n",
    "# Accuracy, Precision, Recall para LightGBM\n",
    "accuracy_lgbm = (TP_lgbm + TN_lgbm) / (TP_lgbm + TN_lgbm + FP_lgbm + FN_lgbm)\n",
    "precision_lgbm = TP_lgbm / (TP_lgbm + FP_lgbm)\n",
    "recall_lgbm = TP_lgbm / (TP_lgbm + FN_lgbm)\n",
    "\n",
    "print(\"=== LightGBM ===\")\n",
    "print(f\"Accuracy: {accuracy_lgbm:.4f}\")\n",
    "print(f\"Precision (Clase 1): {precision_lgbm:.4f}\")\n",
    "print(f\"Recall (Clase 1): {recall_lgbm:.4f}\")\n"
   ]
  },
  {
   "cell_type": "markdown",
   "metadata": {},
   "source": [
    "# Interpretación de resultados\n",
    "\n",
    "## 1. Verificación de cálculos\n",
    "\n",
    "Es posible observar que los resultados coinciden con los obtenidos usando `classification_report`.\n",
    "\n",
    "---\n",
    "\n",
    "## 2. Análisis de Accuracy, Precision y Recall\n",
    "\n",
    "- **Accuracy (~95%)** es muy alto en ambos modelos.  \n",
    "  Esto significa que, en general, los modelos predicen correctamente si un jugador es o no seleccionado.\n",
    "\n",
    "- **PERO**: Como los seleccionados (`1`) son pocos comparados con los no seleccionados (`0`), este accuracy es un poco engañoso: acertar la mayoría de los \"no seleccionados\" basta para que el accuracy suba mucho.\n",
    "\n",
    "- **Precision** en la clase 1 (64% para XGBoost, 68% para LightGBM) indica que cuando el modelo predice que un jugador será seleccionado, acierta alrededor del 64%-68% de las veces.\n",
    "\n",
    "- **Recall** en la clase 1 (38% para XGBoost, 36% para LightGBM) es bastante bajo.  \n",
    "  Esto significa que el modelo no logra capturar bien a todos los seleccionados reales: solo identifica correctamente entre un 36% y 38% de los verdaderos seleccionados nacionales.\n",
    "\n",
    "### ¿Cómo influye la cantidad de ejemplos por clase?\n",
    "\n",
    "- Como hay muchos más \"no seleccionados\" que \"seleccionados\", los modelos tienden a \"jugar seguro\" prediciendo que un jugador no será seleccionado.\n",
    "\n",
    "- Esto **infla el accuracy**, pero **afecta negativamente el recall** para la clase de interés (los seleccionados).\n",
    "\n",
    "- El desbalance en las clases hace que capturar a todos los seleccionados sea difícil, reduciendo el recall.\n",
    "\n",
    "---\n",
    "\n",
    "## 3. Métrica adecuada y mejor modelo\n",
    "\n",
    "En este problema, nos interesa **encontrar correctamente a los seleccionados nacionales**.  \n",
    "Es decir, **queremos un buen recall**.\n",
    "\n",
    "Sin embargo, no podemos ignorar la **precision**: también importa que los que predigamos como seleccionados realmente lo sean.\n",
    "\n",
    "Por ende:\n",
    "- Deberíamos utilizar principalmente **Recall** para no dejar fuera a jugadores que realmente merecen ser seleccionados.\n",
    "- **F1-score** (que combina precisión y recall) también sería una buena referencia secundaria.\n",
    "\n",
    "### ¿Qué modelo es mejor?\n",
    "\n",
    "- **XGBoost** tiene un recall levemente mejor (38% vs 36%), aunque su precision es un poco más baja (64% vs 68%).\n",
    "\n",
    "- Como **recall** es más importante aquí, **XGBoost** es el modelo que tiene un **mejor desempeño** para este objetivo específico.\n",
    "\n",
    "---\n"
   ]
  },
  {
   "cell_type": "markdown",
   "metadata": {
    "id": "uy5VMU6ae_g6"
   },
   "source": [
    "## 2. Predicción de posiciones de jugadores [4 puntos]"
   ]
  },
  {
   "cell_type": "markdown",
   "metadata": {
    "id": "S0PGg_hLgr4H"
   },
   "source": [
    "<p align=\"center\">\n",
    "  <img src=\"https://pbs.twimg.com/media/E1rfA1aWEAYU6Ny.jpg\" width=\"300\">\n",
    "</p>"
   ]
  },
  {
   "cell_type": "markdown",
   "metadata": {
    "id": "I6rSnAesfOm3"
   },
   "source": [
    "En una nueva jornada de desmesuradas transacciones deportivas, Renacín escuchó a sus colegas discutir acerca de que el precio de cada jugador depende en gran medida de la posición en la cancha en la que juega. Y además, que hay bastantes jugadores nuevos que no tienen muy claro en que posición verdaderamente brillarían, por lo que actualmente puede que actualmente estén jugando en posiciones sub-optimas.\n",
    "\n",
    "Viendo que los resultados del primer análisis no son tan esperanzadores, el corporeo los comanda a cambiar su tarea: ahora, les solicita que construyan un clasificador enfocado en predecir la mejor posición de los jugadores en la cancha según sus características.\n",
    "\n",
    "Para lograr esto, primero, les pide que etiqueten de la siguiente manera los valores que aparecen en el atributo `Club_Position`, pidiendo que agrupen los valores en los siguientes grupos:\n",
    "\n",
    "**Nota**:  Renacín les recalca que **no deben utilizar los valores ```Sub``` y ```Res``` de esta columna**.\n",
    "\n",
    "```python\n",
    "ataque = ['ST', 'CF']\n",
    "central_ataque = ['RW', 'CAM', 'LW']\n",
    "central = ['RM', 'CM', 'LM']\n",
    "central_defensa = ['RWB', 'CDM', 'LWB']\n",
    "defensa = ['RB', 'CB', 'LB']\n",
    "arquero = ['GK']\n",
    "```\n",
    "\n",
    "La elección del clasificador se justificar en base a la siguiente [guía](https://scikit-learn.org/stable/tutorial/machine_learning_map/index.html) y se deben comentar los resultados obtenidos en la clasificación.\n",
    "\n",
    "**Tareas:** [1 punto por tarea]\n",
    "\n",
    "1. En un nuevo dataframe, aplique las etiquetas descritas anteriormente en cada uno de los valores señalados en esta sección y guárdelos en la variable `label`.\n",
    "2. Cuente cuántos por clase quedan.\n",
    "3. Entrene el nuevo pipeline y ejecute una evaluación de este.  \n",
    "4. Comente los resultados obtenidos."
   ]
  },
  {
   "cell_type": "markdown",
   "metadata": {
    "id": "sBmSaWh8i2MI"
   },
   "source": [
    "**Respuesta:**"
   ]
  },
  {
   "cell_type": "code",
   "execution_count": null,
   "metadata": {
    "id": "Ir_7zMh2i1vg"
   },
   "outputs": [],
   "source": [
    "# Definimos los grupos\n",
    "position_groups = {\n",
    "    'ataque': ['ST', 'CF'],\n",
    "    'central_ataque': ['RW', 'CAM', 'LW'],\n",
    "    'central': ['RM', 'CM', 'LM'],\n",
    "    'central_defensa': ['RWB', 'CDM', 'LWB'],\n",
    "    'defensa': ['RB', 'CB', 'LB'],\n",
    "    'arquero': ['GK']\n",
    "}\n",
    "\n",
    "# Función para mapear las posiciones\n",
    "def map_position(pos):\n",
    "    for label, positions in position_groups.items():\n",
    "        if pos in positions:\n",
    "            return label\n",
    "    return None  \n",
    "\n",
    "# Creamos un nuevo dataframe\n",
    "df_position = df.copy()\n",
    "\n",
    "# Aplicamos el mapeo\n",
    "df_position['label'] = df_position['Club_Position'].apply(map_position)\n",
    "\n",
    "# Eliminamos jugadores Sub y Res (y cualquier otro None)\n",
    "df_position = df_position.dropna(subset=['label'])\n"
   ]
  },
  {
   "cell_type": "code",
   "execution_count": 45,
   "metadata": {},
   "outputs": [
    {
     "name": "stdout",
     "output_type": "stream",
     "text": [
      "Cantidad de ejemplos por clase:\n",
      "label\n",
      "defensa            1180\n",
      "central             907\n",
      "arquero             632\n",
      "central_ataque      581\n",
      "ataque              430\n",
      "central_defensa     209\n",
      "Name: count, dtype: int64\n"
     ]
    }
   ],
   "source": [
    "# Conteo de ejemplos por clase\n",
    "label_counts = df_position['label'].value_counts()\n",
    "\n",
    "print(\"Cantidad de ejemplos por clase:\")\n",
    "print(label_counts)\n"
   ]
  },
  {
   "cell_type": "markdown",
   "metadata": {},
   "source": [
    "La elección de modelos será la siguiente.\n",
    "son más de 50 muestras, es clasificación, con labeled data, tenemos menos de 100k de muesteas, probamos linearSVC, luego no es texto, probamos Kneighbors finalmente usamos un ensemble."
   ]
  },
  {
   "cell_type": "code",
   "execution_count": null,
   "metadata": {},
   "outputs": [
    {
     "name": "stdout",
     "output_type": "stream",
     "text": [
      "=== LinearSVC Metrics ===\n",
      "Accuracy: 0.7474619289340102\n",
      "\n",
      "Classification Report:\n",
      "                  precision    recall  f1-score   support\n",
      "\n",
      "        arquero       1.00      1.00      1.00       126\n",
      "         ataque       0.75      0.86      0.80        86\n",
      "        central       0.61      0.64      0.63       182\n",
      " central_ataque       0.49      0.32      0.39       116\n",
      "central_defensa       0.39      0.17      0.23        42\n",
      "        defensa       0.82      0.97      0.89       236\n",
      "\n",
      "       accuracy                           0.75       788\n",
      "      macro avg       0.68      0.66      0.66       788\n",
      "   weighted avg       0.72      0.75      0.73       788\n",
      "\n",
      "\n",
      "Confusion Matrix:\n",
      "[[126   0   0   0   0   0]\n",
      " [  0  74   7   5   0   0]\n",
      " [  0   8 117  27   7  23]\n",
      " [  0  16  57  37   3   3]\n",
      " [  0   1   6   3   7  25]\n",
      " [  0   0   4   3   1 228]]\n"
     ]
    },
    {
     "data": {
      "image/png": "[encoded data removed]",
      "text/plain": [
       "<Figure size 800x600 with 2 Axes>"
      ]
     },
     "metadata": {},
     "output_type": "display_data"
    }
   ],
   "source": [
    "# 1. Imports necesarios\n",
    "from sklearn.svm import LinearSVC\n",
    "from sklearn.pipeline import Pipeline\n",
    "from sklearn.model_selection import train_test_split\n",
    "from sklearn.metrics import accuracy_score, classification_report, confusion_matrix\n",
    "import matplotlib.pyplot as plt\n",
    "import seaborn as sns\n",
    "\n",
    "# 2. Definir X, y\n",
    "\n",
    "X = df_position.drop(columns=['label', 'Name', 'National_Position', 'Club_Position'])\n",
    "y = df_position['label']\n",
    "\n",
    "# 3. Split en entrenamiento y prueba\n",
    "X_train, X_test, y_train, y_test = train_test_split(\n",
    "    X, y,\n",
    "    test_size=0.2,\n",
    "    random_state=42,\n",
    "    stratify=y\n",
    ")\n",
    "\n",
    "# 4. Definir pipeline con LinearSVC\n",
    "pipeline_linear_svc = Pipeline(steps=[\n",
    "    ('preprocessing', col_transformer),  \n",
    "    ('classifier', LinearSVC(random_state=42, max_iter=10000))  \n",
    "])\n",
    "\n",
    "# 5. Entrenar\n",
    "pipeline_linear_svc.fit(X_train, y_train)\n",
    "\n",
    "# 6. Predecir\n",
    "y_pred = pipeline_linear_svc.predict(X_test)\n",
    "\n",
    "# 7. Evaluar\n",
    "print(\"=== LinearSVC Metrics ===\")\n",
    "print(\"Accuracy:\", accuracy_score(y_test, y_pred))\n",
    "print(\"\\nClassification Report:\\n\", classification_report(y_test, y_pred))\n",
    "print(\"\\nConfusion Matrix:\")\n",
    "print(confusion_matrix(y_test, y_pred))\n",
    "\n",
    "# 8. Graficar matriz de confusión\n",
    "plt.figure(figsize=(8, 6))\n",
    "sns.heatmap(confusion_matrix(y_test, y_pred),\n",
    "            annot=True,\n",
    "            fmt='d',\n",
    "            cmap='Blues',\n",
    "            xticklabels=pipeline_linear_svc.classes_,\n",
    "            yticklabels=pipeline_linear_svc.classes_)\n",
    "plt.xlabel('Predicted Label')\n",
    "plt.ylabel('True Label')\n",
    "plt.title('Confusion Matrix - LinearSVC')\n",
    "plt.show()\n"
   ]
  },
  {
   "cell_type": "code",
   "execution_count": null,
   "metadata": {},
   "outputs": [
    {
     "name": "stdout",
     "output_type": "stream",
     "text": [
      "=== KNeighborsClassifier Metrics ===\n",
      "Accuracy: 0.7284263959390863\n",
      "\n",
      "Classification Report:\n",
      "                  precision    recall  f1-score   support\n",
      "\n",
      "        arquero       1.00      1.00      1.00       126\n",
      "         ataque       0.69      0.81      0.75        86\n",
      "        central       0.57      0.63      0.60       182\n",
      " central_ataque       0.51      0.30      0.38       116\n",
      "central_defensa       0.39      0.17      0.23        42\n",
      "        defensa       0.81      0.94      0.87       236\n",
      "\n",
      "       accuracy                           0.73       788\n",
      "      macro avg       0.66      0.64      0.64       788\n",
      "   weighted avg       0.71      0.73      0.71       788\n",
      "\n",
      "\n",
      "Confusion Matrix:\n",
      "[[126   0   0   0   0   0]\n",
      " [  0  70  13   3   0   0]\n",
      " [  0  14 114  27   3  24]\n",
      " [  0  17  59  35   2   3]\n",
      " [  0   0   7   2   7  26]\n",
      " [  0   0   7   1   6 222]]\n"
     ]
    },
    {
     "data": {
      "image/png": "[encoded data removed]",
      "text/plain": [
       "<Figure size 800x600 with 2 Axes>"
      ]
     },
     "metadata": {},
     "output_type": "display_data"
    }
   ],
   "source": [
    "from sklearn.neighbors import KNeighborsClassifier\n",
    "from sklearn.pipeline import Pipeline\n",
    "from sklearn.model_selection import train_test_split\n",
    "from sklearn.metrics import accuracy_score, classification_report, confusion_matrix\n",
    "import matplotlib.pyplot as plt\n",
    "import seaborn as sns\n",
    "# 4. Definir pipeline con KNeighbors\n",
    "pipeline_knn = Pipeline(steps=[\n",
    "    ('preprocessing', col_transformer), \n",
    "    ('classifier', KNeighborsClassifier(n_neighbors=5)) \n",
    "])\n",
    "\n",
    "# 5. Entrenar\n",
    "pipeline_knn.fit(X_train, y_train)\n",
    "\n",
    "# 6. Predecir\n",
    "y_pred_knn = pipeline_knn.predict(X_test)\n",
    "\n",
    "# 7. Evaluar\n",
    "print(\"=== KNeighborsClassifier Metrics ===\")\n",
    "print(\"Accuracy:\", accuracy_score(y_test, y_pred_knn))\n",
    "print(\"\\nClassification Report:\\n\", classification_report(y_test, y_pred_knn))\n",
    "print(\"\\nConfusion Matrix:\")\n",
    "print(confusion_matrix(y_test, y_pred_knn))\n",
    "\n",
    "# 8. Graficar matriz de confusión\n",
    "plt.figure(figsize=(8, 6))\n",
    "sns.heatmap(confusion_matrix(y_test, y_pred_knn),\n",
    "            annot=True,\n",
    "            fmt='d',\n",
    "            cmap='Greens',\n",
    "            xticklabels=pipeline_knn.classes_,\n",
    "            yticklabels=pipeline_knn.classes_)\n",
    "plt.xlabel('Predicted Label')\n",
    "plt.ylabel('True Label')\n",
    "plt.title('Confusion Matrix - KNeighborsClassifier')\n",
    "plt.show()"
   ]
  },
  {
   "cell_type": "code",
   "execution_count": 55,
   "metadata": {},
   "outputs": [
    {
     "name": "stdout",
     "output_type": "stream",
     "text": [
      "=== RandomForestClassifier Metrics ===\n",
      "Accuracy: 0.7385786802030457\n",
      "\n",
      "Classification Report:\n",
      "                  precision    recall  f1-score   support\n",
      "\n",
      "        arquero       1.00      1.00      1.00       126\n",
      "         ataque       0.77      0.84      0.80        86\n",
      "        central       0.56      0.68      0.62       182\n",
      " central_ataque       0.51      0.25      0.34       116\n",
      "central_defensa       0.40      0.05      0.09        42\n",
      "        defensa       0.80      0.97      0.88       236\n",
      "\n",
      "       accuracy                           0.74       788\n",
      "      macro avg       0.67      0.63      0.62       788\n",
      "   weighted avg       0.71      0.74      0.71       788\n",
      "\n",
      "\n",
      "Confusion Matrix:\n",
      "[[126   0   0   0   0   0]\n",
      " [  0  72  12   2   0   0]\n",
      " [  0  10 124  22   2  24]\n",
      " [  0  11  72  29   0   4]\n",
      " [  0   0   9   2   2  29]\n",
      " [  0   0   4   2   1 229]]\n"
     ]
    },
    {
     "data": {
      "image/png": "[encoded data removed]",
      "text/plain": [
       "<Figure size 800x600 with 2 Axes>"
      ]
     },
     "metadata": {},
     "output_type": "display_data"
    }
   ],
   "source": [
    "# 1. Imports necesarios\n",
    "from sklearn.ensemble import RandomForestClassifier\n",
    "from sklearn.pipeline import Pipeline\n",
    "from sklearn.metrics import accuracy_score, classification_report, confusion_matrix\n",
    "import matplotlib.pyplot as plt\n",
    "import seaborn as sns\n",
    "\n",
    "# 2. Definir pipeline\n",
    "pipeline_rf = Pipeline(steps=[\n",
    "    ('preprocessing', col_transformer),  # el mismo col_transformer corregido\n",
    "    ('classifier', RandomForestClassifier(random_state=42))\n",
    "])\n",
    "\n",
    "# 3. Entrenar\n",
    "pipeline_rf.fit(X_train, y_train)\n",
    "\n",
    "# 4. Predecir\n",
    "y_pred_rf = pipeline_rf.predict(X_test)\n",
    "\n",
    "# 5. Evaluar\n",
    "print(\"=== RandomForestClassifier Metrics ===\")\n",
    "print(\"Accuracy:\", accuracy_score(y_test, y_pred_rf))\n",
    "print(\"\\nClassification Report:\\n\", classification_report(y_test, y_pred_rf))\n",
    "print(\"\\nConfusion Matrix:\")\n",
    "print(confusion_matrix(y_test, y_pred_rf))\n",
    "\n",
    "# 6. Graficar matriz de confusión\n",
    "plt.figure(figsize=(8, 6))\n",
    "sns.heatmap(confusion_matrix(y_test, y_pred_rf),\n",
    "            annot=True,\n",
    "            fmt='d',\n",
    "            cmap='Oranges',\n",
    "            xticklabels=pipeline_rf.classes_,\n",
    "            yticklabels=pipeline_rf.classes_)\n",
    "plt.xlabel('Predicted Label')\n",
    "plt.ylabel('True Label')\n",
    "plt.title('Confusion Matrix - RandomForestClassifier')\n",
    "plt.show()\n"
   ]
  },
  {
   "cell_type": "markdown",
   "metadata": {},
   "source": [
    "## 4. Comentario de resultados\n",
    "\n",
    "- Ambos modelos tienen un **accuracy** similar, alrededor de 73%, pero RandomForest tiene un ligero mejor desempeño general (0.7386 vs 0.7284).\n",
    "\n",
    "- **Arquero** es predicho perfectamente (100%) por ambos modelos, debido probablemente a que sus características son muy distintivas.\n",
    "\n",
    "- **Defensa** también tiene buen desempeño (precision y recall altos).\n",
    "\n",
    "- **Central**, **central_ataque** y especialmente **central_defensa** son clases más difíciles:\n",
    "  - En KNeighborsClassifier, el recall para \"central_defensa\" es apenas 17%.\n",
    "  - En RandomForestClassifier, el recall baja a solo 5% para \"central_defensa\".\n",
    "\n",
    "- **Conclusión general:**  \n",
    "  - RandomForestClassifier logra mejores resultados en precision y recall promedio.  \n",
    "  - Sin embargo, todavía existen clases difíciles de predecir correctamente, probablemente debido al bajo número de muestras y/o la similitud de características entre clases \"centrales\".\n",
    "\n",
    "---\n"
   ]
  },
  {
   "cell_type": "markdown",
   "metadata": {
    "id": "9bL2m8nNojXM"
   },
   "source": [
    "## 3. Predicciones de Seleccionados Nacionales para el Jere Klein [30 puntos]"
   ]
  },
  {
   "cell_type": "code",
   "execution_count": null,
   "metadata": {},
   "outputs": [],
   "source": []
  },
  {
   "cell_type": "markdown",
   "metadata": {
    "id": "_2XmRsJdsEh_"
   },
   "source": [
    "<center>\n",
    "<img src='https://www.radioactiva.cl/wp-content/uploads/2024/04/Jere-Klein-1-768x432.webp' width=500 />"
   ]
  },
  {
   "cell_type": "markdown",
   "metadata": {
    "id": "AgmUoVDsqUPu"
   },
   "source": [
    "Después de alcanzar la fama como cantante urbano, Jere Klein decide explorar una nueva faceta. Con su amor por el fútbol y convencido de que los artistas urbanos poseen un talento y versatilidad excepcionales, Jere se embarca en un proyecto innovador: desarrollar un sistema de inteligencia artificial capaz de identificar a jugadores que tienen potencial para convertirse en futbolistas profesionales. Su teoría es que muchos artistas del género urbano chileno, con sus habilidades únicas y su disciplina, podrían destacarse también en el deporte. Con este sistema, Jere espera no solo abrir nuevas oportunidades para sus colegas artistas, sino también demostrar la amplia gama de talentos que pueden ofrecer."
   ]
  },
  {
   "cell_type": "markdown",
   "metadata": {
    "id": "rD8pQ5Zfq8dE"
   },
   "source": [
    "### 2.1 ¿Qué modelo de árbol es más de \"pana\"? [10 puntos]"
   ]
  },
  {
   "cell_type": "markdown",
   "metadata": {
    "id": "zB-KUA4g99eo"
   },
   "source": [
    "<center>\n",
    "<img src='https://64.media.tumblr.com/39189215a7d3d96823cb359f35b44e05/tumblr_psmrhrR3Xw1qf5hjqo4_540.gif' width=300 />"
   ]
  },
  {
   "cell_type": "markdown",
   "metadata": {
    "id": "uL-moVhB9vPH"
   },
   "source": [
    "\n",
    "**Tareas**\n",
    "\n",
    "\n",
    "1. Considerando el la variable llamada `label` creada en la sección 1.1. Para determinar cuál modelo de árbol sería más adecuado para la tarea en cuestión, utilice PyCaret. Este deberá centrarse exclusivamente en modelos de tipo árbol. Jere ha especificado que busca un modelo que tome decisiones rápidamente y que tenga una baja tasa de falsos positivos, ya que planea invertir en estos jugadores. [3 puntos]\n",
    "\n",
    "Para la comparación, utilice los siguientes modelos:\n",
    "\n",
    "```python\n",
    "['et', 'rf', 'dt', 'xgboost', 'lightgbm', 'catboost']\n",
    "```\n",
    "\n",
    "2. Explique en brevemente que son los modelos de la siguiente lista `['et', 'rf', 'dt']` y como funcionan. [3 punto]\n",
    "\n",
    "3. Tras realizar la comparación de modelos, seleccione aquel que muestre el mejor rendimiento en términos de velocidad y precisión, especialmente en la reducción de falsos positivos. Utilice la función `evaluate_model` de PyCaret para revisar y analizar los resultados obtenidos en los siguientes aspectos:\n",
    "\n",
    "  - **Confusión Matrix**: ¿Cómo se encuentran la tasa de verdaderos positivos y verdaderos negativos?\n",
    "  - **Threshold**: ¿Es acaso el umbral por defecto del modelo el mejor para las predicciones?\n",
    "  - **Feature Importance**: ¿Cuáles son las variables con mejor desempeño? ¿A qué podría deberse esto?\n",
    "  - **Learning Curve**: ¿El modelo presenta algún problema?\n",
    "\n",
    "  [4 puntos]"
   ]
  },
  {
   "cell_type": "markdown",
   "metadata": {
    "id": "qY85nrViYROF"
   },
   "source": [
    "**Respuesta**"
   ]
  },
  {
   "cell_type": "code",
   "execution_count": null,
   "metadata": {
    "id": "kUCjOjsEYUXL"
   },
   "outputs": [],
   "source": [
    "from pycaret.datasets import get_data\n",
    "from pycaret.classification import *\n",
    "import os\n",
    "\n",
    "os.environ[\"PYCARET_CUSTOM_LOGGING_LEVEL\"] = \"CRITICAL\"\n",
    "\n",
    "#Continuar código aquí"
   ]
  },
  {
   "cell_type": "markdown",
   "metadata": {
    "id": "K8DSS3u1xMpB"
   },
   "source": [
    "### 2.2 Reducción de dimensionalidad [14 puntos]"
   ]
  },
  {
   "cell_type": "markdown",
   "metadata": {
    "id": "RLu0543p876P"
   },
   "source": [
    "<center>\n",
    "<img src='https://i.kym-cdn.com/photos/images/original/002/258/560/668.gif' width=400 />"
   ]
  },
  {
   "cell_type": "markdown",
   "metadata": {
    "id": "QT-bxJ0txwNF"
   },
   "source": [
    "A pesar de los resultados obtenidos previamente, el manager de Jere ha solicitado el entrenamiento de un modelo de XGBoost utilizando los datos disponibles. Además, se debe proceder a realizar una reducción de dimensionalidad basada en la importancia de las características.\n",
    "\n",
    "Para llevar a cabo esta tarea:\n",
    "\n",
    "1. Inicie entrenando un modelo XGBoost con todas las características disponibles. [2 puntos]\n",
    "\n",
    "2. Una vez el modelo esté entrenado, evalúe y clasifique las características según su importancia de forma descendente. [2 puntos]\n",
    "\n",
    "3. Utilice esta clasificación para ejecutar una búsqueda recursiva de eliminación de características, eliminando progresivamente las menos importantes y evaluando el impacto en el desempeño del modelo hasta identificar las N características más críticas. [2 puntos]\n",
    "\n",
    "4. Con este conjunto reducido de características, entrene un nuevo modelo y evalúe su rendimiento. [2 puntos]\n",
    "\n",
    "5. Posteriormente, responda a las siguientes preguntas para una comprensión más profunda de los cambios y beneficios:\n",
    "\n",
    "  - ¿El rendimiento del modelo con las características seleccionadas es similar al del modelo original? ¿Cómo se comparan en términos de precisión y robustez? [2 puntos]\n",
    "  - ¿Cuáles son los beneficios potenciales de eliminar variables del modelo? Considere factores como la simplificación del modelo, reducción del tiempo de entrenamiento, y mejora en la capacidad de generalización. [2 puntos]\n",
    "  - Comente si el modelo con menor dimensionalidad es más sencillo de explicar. Explique brevemente por qué la eliminación de ciertas características puede facilitar la comprensión y la explicación del comportamiento del modelo. [2 puntos]\n",
    "\n",
    "Notar que con esta metodologia buscamos encontrar un punto entermedio entre número de festures y desempeño. por esto, si observa que al aumentar festires el aumento es despreciable, puede no considerar agregar más features a su modelo."
   ]
  },
  {
   "cell_type": "markdown",
   "metadata": {
    "id": "NHfmK63TuDOS"
   },
   "source": [
    "**Respuesta**"
   ]
  },
  {
   "cell_type": "code",
   "execution_count": null,
   "metadata": {
    "id": "HQwUd_nsuDOe"
   },
   "outputs": [],
   "source": []
  },
  {
   "cell_type": "markdown",
   "metadata": {
    "id": "PTG5cH9r3M9g"
   },
   "source": [
    "### 2.3 Calibración Probabilistica [6 puntos]"
   ]
  },
  {
   "cell_type": "markdown",
   "metadata": {
    "id": "CDL0VqjR7yvb"
   },
   "source": [
    "<center>\n",
    "<img src='https://media2.giphy.com/media/l2Je4Ku0Cx292KWv6/200w.gif?cid=6c09b952y0sihtq9tb6sz8j2023x3zxxp3qx1ocgonkpkblj&ep=v1_gifs_search&rid=200w.gif&ct=g' width=400 />"
   ]
  },
  {
   "cell_type": "markdown",
   "metadata": {
    "id": "qmOKxhAw3sic"
   },
   "source": [
    "Para lograr modelos más modulares, se recomienda realizar una calibración del modelo entrenado anteriormente, con el objetivo de obtener salidas que reflejen mayor modularidad.\n",
    "\n",
    "1. Se solicita que utilice un método de calibración que asegure que las probabilidades generadas incrementen de manera monótona. Una métrica ampliamente utilizada para evaluar la precisión de la calibración de un modelo es el Brier Score. Calcule el Brier Score para el modelo tanto antes como después de la calibración. Esto le permitirá realizar una comparación cuantitativa y determinar si la calibración ha mejorado el rendimiento del modelo. Para más información sobre el Brier Score, puede consultar el siguiente enlace: [Scikit-Learn - Brier Score Loss](https://scikit-learn.org/stable/modules/generated/sklearn.metrics.brier_score_loss.html). [3 puntos]\n",
    "\n",
    "2. Tras la calibración, examine y comente los resultados obtenidos. A su análisis añada una comparación visual de las ideales versus las salidas del modelo original (sin calibrar) y del modelo calibrado. [3 puntos]"
   ]
  },
  {
   "cell_type": "markdown",
   "metadata": {
    "id": "QIiYz_qLuD19"
   },
   "source": [
    "**Respuesta**"
   ]
  },
  {
   "cell_type": "code",
   "execution_count": null,
   "metadata": {
    "id": "l0bfSuiFuD2I"
   },
   "outputs": [],
   "source": []
  },
  {
   "cell_type": "markdown",
   "metadata": {},
   "source": [
    "Mucho éxito!\n",
    "\n",
    "<center>\n",
    "<img src=\"https://i.pinimg.com/originals/55/3d/42/553d42bea9b10e0662a05aa8726fc7f4.gif\" width=300>"
   ]
  }
 ],
 "metadata": {
  "colab": {
   "collapsed_sections": [
    "k-ao0mOU64Ru",
    "Jg_9jBqtgRDO",
    "JdcucZhp-M_0",
    "Qfre1YsSDqla",
    "Bv1HOfcNEPF4",
    "poc9HSNBFeKO",
    "uy5VMU6ae_g6",
    "9bL2m8nNojXM",
    "rD8pQ5Zfq8dE",
    "K8DSS3u1xMpB",
    "PTG5cH9r3M9g"
   ],
   "provenance": []
  },
  "kernelspec": {
   "display_name": "venv",
   "language": "python",
   "name": "python3"
  },
  "language_info": {
   "codemirror_mode": {
    "name": "ipython",
    "version": 3
   },
   "file_extension": ".py",
   "mimetype": "text/x-python",
   "name": "python",
   "nbconvert_exporter": "python",
   "pygments_lexer": "ipython3",
   "version": "3.11.4"
  }
 },
 "nbformat": 4,
 "nbformat_minor": 0
}
