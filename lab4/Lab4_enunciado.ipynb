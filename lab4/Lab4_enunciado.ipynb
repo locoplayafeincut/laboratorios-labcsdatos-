{
 "cells": [
  {
   "attachments": {},
   "cell_type": "markdown",
   "metadata": {
    "cell_id": "ac9155b9f5e04400957a6f8bb3f6610c",
    "deepnote_cell_type": "markdown",
    "id": "2v2D1coL7I8i"
   },
   "source": [
    "<h1><center>Laboratorio 4: La solicitud de Sergio 🤗</center></h1>\n",
    "\n",
    "<center><strong>MDS7202: Laboratorio de Programación Científica para Ciencia de Datos - Otoño 2025</strong></center>"
   ]
  },
  {
   "attachments": {},
   "cell_type": "markdown",
   "metadata": {
    "cell_id": "d3d6f6d405c54dbe985a5f4b3e4f9120",
    "deepnote_cell_type": "markdown",
    "id": "YxdTmIPD7L_x"
   },
   "source": [
    "### Cuerpo Docente:\n",
    "\n",
    "- Profesores: Stefano Schiappacasse, Sebastián Tinoco\n",
    "- Auxiliares: Melanie Peña, Valentina Rojas\n",
    "- Ayudantes: Angelo Muñoz, Valentina Zúñiga"
   ]
  },
  {
   "attachments": {},
   "cell_type": "markdown",
   "metadata": {
    "cell_id": "851a7788e8214942863cbd4099064ab2",
    "deepnote_cell_type": "markdown",
    "id": "Y2Gyrj-x7N2L"
   },
   "source": [
    "### Equipo: SUPER IMPORTANTE - notebooks sin nombre no serán revisados\n",
    "\n",
    "- Nombre de alumno 1: Pablo Vergara\n",
    "- Nombre de alumno 2: Sasha Oyanadel\n"
   ]
  },
  {
   "attachments": {},
   "cell_type": "markdown",
   "metadata": {
    "cell_id": "f23a189afdec4e198683308db70e43b7",
    "deepnote_cell_type": "markdown",
    "id": "jQ9skYc57Pxi"
   },
   "source": [
    "### **Link de repositorio de GitHub:** [Insertar Repositorio](https://github.com/...../)"
   ]
  },
  {
   "attachments": {},
   "cell_type": "markdown",
   "metadata": {
    "cell_id": "b5318f41cda64d4290a7a548956ed725",
    "deepnote_cell_type": "markdown",
    "id": "1M4PoEWm7S80"
   },
   "source": [
    "## Temas a tratar\n",
    "- Aplicar Pandas para obtener características de un DataFrame.\n",
    "- Aplicar Pipelines y Column Transformers.\n",
    "- Utilizar diferentes algoritmos de cluster y ver el desempeño.\n",
    "\n",
    "## Reglas:\n",
    "\n",
    "- **Grupos de 2 personas**\n",
    "- Fecha de entrega: 6 días de plazo con descuento de 1 punto por día. Entregas Martes a las 23:59.\n",
    "- Instrucciones del lab el viernes a las 16:15 en formato online. Asistencia no es obligatoria, pero se recomienda fuertemente asistir.\n",
    "- <u>Prohibidas las copias</u>. Cualquier intento de copia será debidamente penalizado con el reglamento de la escuela.\n",
    "- Tienen que subir el laboratorio a u-cursos y a su repositorio de github. Labs que no estén en u-cursos no serán revisados. Recuerden que el repositorio también tiene nota.\n",
    "- Cualquier duda fuera del horario de clases al foro. Mensajes al equipo docente serán respondidos por este medio.\n",
    "- Pueden usar cualquier material del curso que estimen conveniente.\n",
    "\n",
    "### Objetivos principales del laboratorio\n",
    "- Comprender cómo aplicar pipelines de Scikit-Learn para generar clusters.\n",
    "- Familiarizarse con plotly.\n",
    "\n",
    "El laboratorio deberá ser desarrollado sin el uso indiscriminado de iteradores nativos de python (aka \"for\", \"while\"). La idea es que aprendan a exprimir al máximo las funciones optimizadas que nos entrega `numpy`, las cuales vale mencionar, son bastante más eficientes que los iteradores nativos sobre arreglos (*o tensores*)."
   ]
  },
  {
   "attachments": {},
   "cell_type": "markdown",
   "metadata": {
    "cell_id": "858df483d9e64780a21674afed1d34b8",
    "deepnote_cell_type": "markdown",
    "id": "SuMbiyQZG2Cc"
   },
   "source": [
    "## Descripción del laboratorio"
   ]
  },
  {
   "attachments": {},
   "cell_type": "markdown",
   "metadata": {
    "cell_id": "403ffe48ec994afda4b91e670a08d0ef",
    "deepnote_cell_type": "markdown",
    "id": "QZsNO4rUrqCz"
   },
   "source": [
    "<center>\n",
    "<img src=\"https://i.pinimg.com/originals/5a/a6/af/5aa6afde8490da403a21601adf7a7240.gif\" width=400 />"
   ]
  },
  {
   "attachments": {},
   "cell_type": "markdown",
   "metadata": {
    "cell_id": "0303baa17d4546feae8c9b88c58470bf",
    "deepnote_cell_type": "markdown",
    "id": "2o0MPuk8rqCz"
   },
   "source": [
    "En el corazón de las operaciones de Aerolínea Lucero, Sergio, el gerente de análisis de datos, reunió a un talentoso equipo de jóvenes científicos de datos para un desafío crucial: segmentar la base de datos de los clientes. “Nuestro objetivo es descubrir patrones en el comportamiento de los pasajeros que nos permitan personalizar servicios y optimizar nuestras campañas de marketing,” explicó Sergio, mientras desplegaba un amplio rango de datos que incluían desde hábitos de compra hasta opiniones sobre los vuelos.\n",
    "\n",
    "Sergio encargó a los científicos de datos la tarea de aplicar técnicas avanzadas de clustering para identificar distintos segmentos de clientes, como los viajeros frecuentes y aquellos que eligen la aerolínea para celebrar ocasiones especiales. La meta principal era entender profundamente cómo estos grupos perciben la calidad y satisfacción de los servicios ofrecidos por la aerolínea.\n",
    "\n",
    "A través de un enfoque meticuloso y colaborativo, los científicos de datos se abocaron a la tarea, buscando transformar los datos brutos en valiosos insights que permitirían a Aerolínea Lucero no solo mejorar su servicio, sino también fortalecer las relaciones con sus clientes mediante una oferta más personalizada y efectiva."
   ]
  },
  {
   "attachments": {},
   "cell_type": "markdown",
   "metadata": {
    "cell_id": "e78cb41b144041af98928ab26dcfdaa9",
    "deepnote_cell_type": "markdown",
    "id": "hs4KKWF1Hdpo"
   },
   "source": [
    "## Importamos librerias utiles 😸"
   ]
  },
  {
   "cell_type": "code",
   "execution_count": null,
   "metadata": {
    "cell_id": "95a5533cfd6d49cfb9afc111c44d224f",
    "deepnote_cell_type": "code",
    "deepnote_to_be_reexecuted": false,
    "execution_millis": 15,
    "execution_start": 1714107106552,
    "id": "a4YpMafirqC0",
    "source_hash": null
   },
   "outputs": [],
   "source": [
    "import numpy as np\n",
    "import pandas as pd\n",
    "import time\n",
    "\n",
    "from sklearn import datasets\n",
    "from sklearn.cluster import KMeans, DBSCAN, AgglomerativeClustering\n",
    "from sklearn.mixture import GaussianMixture\n",
    "from sklearn.metrics import silhouette_score\n",
    "from sklearn.preprocessing import MinMaxScaler\n",
    "from sklearn.pipeline import Pipeline\n",
    "from sklearn.decomposition import PCA\n",
    "from sklearn.preprocessing import StandardScaler\n",
    "from sklearn.ensemble import IsolationForest\n",
    "\n",
    "import plotly.express as px\n",
    "import plotly.graph_objects as go\n",
    "from plotly.subplots import make_subplots"
   ]
  },
  {
   "attachments": {},
   "cell_type": "markdown",
   "metadata": {
    "cell_id": "acbeab32db6146678e75448dddf43da8",
    "deepnote_cell_type": "markdown",
    "id": "UQOXod4gHhSq"
   },
   "source": [
    "## 1. Estudio de Performance 📈 [10 Puntos]\n",
    "\n"
   ]
  },
  {
   "attachments": {},
   "cell_type": "markdown",
   "metadata": {
    "cell_id": "704b56b978254ad3ae12cdbf58f4832d",
    "deepnote_cell_type": "markdown",
    "id": "Gn5u5ICkrqC2"
   },
   "source": [
    "<center>\n",
    "<img src=\"https://i.pinimg.com/originals/23/b7/6e/23b76e9e77e63c0eec1a7b28372369e3.gif\" width=300>"
   ]
  },
  {
   "attachments": {},
   "cell_type": "markdown",
   "metadata": {
    "cell_id": "d35fbdcc5ef045d6a2822622f0714179",
    "deepnote_cell_type": "markdown",
    "id": "y4Z0jTjtrqC2"
   },
   "source": [
    "Don Sergio les ha encomendado su primera tarea: analizar diversas técnicas de clustering. Su objetivo es entender detalladamente cómo funcionan estos métodos en términos de segmentación y eficiencia en tiempo de ejecución.\n",
    "\n",
    "Analice y compare el desempeño, tiempo de ejecución y visualizaciones de cuatro algoritmos de clustering (k-means, DBSCAN, Ward y GMM) aplicados a tres conjuntos de datos, incrementando progresivamente su tamaño. Utilice Plotly para las gráficas y discuta los resultados tanto cualitativa como cuantitativamente.\n",
    "\n",
    "Uno de los requisitos establecidos por Sergio es que el análisis se lleve a cabo utilizando Plotly; de no ser así, se considerará incorrecto. Para facilitar este proceso, se ha proporcionado un código de Plotly que puede servir como base para realizar las gráficas. Apóyese en el código entregado para efectuar el análisis y tome como referencia la siguiente imagen para realizar los gráficos:\n",
    "\n",
    "<img src='https://gitlab.com/imezadelajara/datos_clase_7_mds7202/-/raw/main/misc_images/Screenshot_2024-04-26_at_9.10.44_AM.png' width=800 />\n",
    "\n",
    "En el gráfico se visualizan en dos dimensiones los diferentes tipos de datos proporcionados en `datasets`. Cada columna corresponde a un modelo de clustering diferente, mientras que cada fila representa un conjunto de datos distinto. Cada uno de los gráficos incluye el tiempo en segundos que tarda el análisis y la métrica Silhouette obtenida."
   ]
  },
  {
   "attachments": {},
   "cell_type": "markdown",
   "metadata": {
    "cell_id": "37580aab6cef4238a8ce42c50a6d35de",
    "deepnote_cell_type": "markdown",
    "id": "maCUNAvZrqC2"
   },
   "source": [
    "Para ser más específicos, usted debe cumplir los siguientes objetivos:\n",
    "1. Generar una función que permita replicar el gráfico expuesto en la imagen (no importa que los colores calcen). [4 puntos]\n",
    "2. Ejecuta la función para un `n_samples` igual a 1000, 5000, 10000. [2 puntos]\n",
    "3. Analice y compare el desempeño, tiempo de ejecución y visualizaciones de cuatro algoritmos de clustering utilizando las 3 configuraciones dadas en `n_samples`. [4 puntos]\n",
    "\n",
    "\n",
    "> ❗ Tiene libertad absoluta de escoger los hiper parámetros de los cluster, sin embargo, se recomienda verificar el dominio de las variables para realizar la segmentación.\n",
    "\n",
    "> ❗ Recuerde que es obligatorio el uso de plotly.\n"
   ]
  },
  {
   "cell_type": "code",
   "execution_count": null,
   "metadata": {
    "cell_id": "7f7c25e366754595b13fc2e8116f65a0",
    "deepnote_cell_type": "code",
    "deepnote_to_be_reexecuted": false,
    "execution_millis": 78,
    "execution_start": 1714107108441,
    "id": "i0IZPGPOrqC3",
    "source_hash": null
   },
   "outputs": [],
   "source": [
    "\"\"\"\n",
    "En la siguiente celda se crean los datos ficticios a usar en la sección 1 del lab.\n",
    "❗No realice cambios a esta celda a excepción de n_samples❗\n",
    "\"\"\"\n",
    "\n",
    "# Datos a utilizar\n",
    "\n",
    "# Configuracion\n",
    "n_samples = 5000 #Este parámetro si lo pueden modificar\n",
    "\n",
    "def create_data(n_samples):\n",
    "\n",
    "    # Lunas\n",
    "    moons = datasets.make_moons(n_samples=n_samples, noise=0.05, random_state=30)\n",
    "    # Blobs\n",
    "    blobs = datasets.make_blobs(n_samples=n_samples, random_state=172)\n",
    "    # Datos desiguales\n",
    "    transformation = [[0.6, -0.6], [-0.4, 0.8]]\n",
    "    mutated = (np.dot(blobs[0], transformation), blobs[1])\n",
    "\n",
    "    # Generamos Dataset\n",
    "    dataset = {\n",
    "        'moons':{\n",
    "            'x': moons[0], 'classes': moons[1], 'n_cluster': 2\n",
    "        },\n",
    "        'blobs':{\n",
    "            'x': blobs[0], 'classes': blobs[1], 'n_cluster': 3\n",
    "        },\n",
    "        'mutated':{\n",
    "            'x': mutated[0], 'classes': mutated[1], 'n_cluster': 3\n",
    "        }\n",
    "    }\n",
    "    return dataset\n",
    "\n",
    "data_sets = create_data(n_samples)"
   ]
  },
  {
   "attachments": {},
   "cell_type": "markdown",
   "metadata": {
    "id": "y51s6f_UtIkc"
   },
   "source": [
    "**Respuestas:**"
   ]
  },
  {
   "cell_type": "code",
   "execution_count": null,
   "metadata": {
    "cell_id": "643d6b35af5541358f481fda4d3fc51f",
    "deepnote_cell_type": "code",
    "deepnote_to_be_reexecuted": false,
    "execution_millis": 267,
    "execution_start": 1714108733824,
    "id": "CO3JFqezrqC3",
    "source_hash": null
   },
   "outputs": [],
   "source": [
    "# === 1. ===\n",
    "def plot_scatter(x, y, color):\n",
    "    fig = go.Figure()\n",
    "    fig.add_trace(go.Scatter(\n",
    "        x=x,\n",
    "        y=y,\n",
    "        mode='markers',\n",
    "        marker=dict(\n",
    "            color=color,\n",
    "            colorscale='Viridis',\n",
    "            size=4,\n",
    "            showscale=True\n",
    "        )\n",
    "    ))\n",
    "    fig.show()\n",
    "\n",
    "\n",
    "# === 2. ===\n",
    "model_names = np.array(['KMeans', 'DBSCAN', 'Ward', 'GMM'])\n",
    "dataset_names = np.array(['moons', 'blobs', 'mutated'])\n",
    "\n",
    "dataset_grid = np.repeat(dataset_names, 4)\n",
    "model_grid = np.tile(model_names, 3)\n",
    "\n",
    "def apply_model(X, model_name, n_clusters):\n",
    "    t0 = time.time()\n",
    "    if model_name == 'KMeans':\n",
    "        model = KMeans(n_clusters=n_clusters, n_init=10, random_state=42).fit(X)\n",
    "        labels = model.labels_\n",
    "    elif model_name == 'DBSCAN':\n",
    "        model = DBSCAN(eps=0.3, min_samples=3).fit(X)\n",
    "        labels = model.labels_\n",
    "    elif model_name == 'Ward':\n",
    "        model = AgglomerativeClustering(n_clusters=n_clusters, linkage='ward').fit(X)\n",
    "        labels = model.labels_\n",
    "    elif model_name == 'GMM':\n",
    "        model = GaussianMixture(n_components=n_clusters, random_state=42).fit(X)\n",
    "        labels = model.predict(X)\n",
    "    t1 = time.time()\n",
    "    sil = silhouette_score(X, labels) if len(np.unique(labels)) > 1 else -1\n",
    "    return labels, round(t1 - t0, 2), round(sil, 2)\n",
    "\n",
    "def graficar_clustering(n_samples):\n",
    "    data = create_data(n_samples)\n",
    "\n",
    "    fig = make_subplots(\n",
    "        rows=3, cols=4,\n",
    "        horizontal_spacing=0.05,\n",
    "        vertical_spacing=0.15,\n",
    "        subplot_titles=[f\"{d} - {m}\" for d, m in zip(dataset_grid, model_grid)]\n",
    "    )\n",
    "\n",
    "    resultados = list(map(lambda d, m: apply_model(data[d]['x'], m, data[d]['n_cluster']),\n",
    "                      dataset_grid, model_grid))\n",
    "\n",
    "\n",
    "    traces = list(map(lambda i: go.Scatter(\n",
    "        x=data[dataset_grid[i]]['x'][:, 0],\n",
    "        y=data[dataset_grid[i]]['x'][:, 1],\n",
    "        mode=\"markers\",\n",
    "        marker=dict(\n",
    "            color=resultados[i][0],\n",
    "            colorscale='Viridis',\n",
    "            size=3,\n",
    "            line=dict(width=0),\n",
    "            showscale=False\n",
    "        ),\n",
    "        hoverinfo='skip',\n",
    "        showlegend=False\n",
    "    ), range(12)))\n",
    "\n",
    "    _ = list(map(lambda i: fig.add_trace(traces[i], row=(i // 4) + 1, col=(i % 4) + 1), range(12)))\n",
    "\n",
    "    updated_titles = list(map(\n",
    "        lambda i: f\"{dataset_grid[i]} - {model_grid[i]}<br>{resultados[i][1]}s | s={resultados[i][2]}\",\n",
    "        range(12)\n",
    "    ))\n",
    "    _ = list(map(lambda i: fig.layout.annotations[i].update(text=updated_titles[i]), range(12)))\n",
    "\n",
    "    fig.update_layout(\n",
    "        title_text=f\"Clustering con n_samples = {n_samples}\",\n",
    "        height=600, width=900\n",
    "    )\n",
    "    fig.show()\n",
    "\n",
    "list(map(graficar_clustering, [1000, 5000, 10000]))"
   ]
  },
  {
   "attachments": {},
   "cell_type": "markdown",
   "metadata": {},
   "source": [
    "Se compararon cuatro algoritmos de clustering (KMeans, DBSCAN, Ward y GMM) aplicados a tres datasets sintéticos con distintas estructuras (moons, blobs, mutated) y tamaños de muestra (1000, 5000 y 10000). En términos de tiempo de ejecución, KMeans y GMM fueron los más rápidos y estables, mientras que Ward resultó ser el más lento debido a su naturaleza jerárquica. Respecto a la calidad del clustering, evaluada mediante el índice de Silhouette, los mejores resultados se observaron en el dataset blobs, donde todos los modelos lograron separar bien los grupos. En moons y mutated, GMM y Ward ofrecieron mejores segmentaciones que KMeans, mientras que DBSCAN tuvo un rendimiento más variable, siendo sensible al valor de eps. Visualmente, KMeans y Ward entregaron divisiones claras pero rígidas, GMM logró adaptarse mejor a formas elipsoidales, y DBSCAN fue el único capaz de identificar outliers, aunque dependiente de una buena elección de parámetros. En resumen, KMeans destaca por su rapidez y simplicidad, GMM por su flexibilidad, Ward por su precisión a mayor costo, y DBSCAN por su utilidad en escenarios con ruido."
   ]
  },
  {
   "attachments": {},
   "cell_type": "markdown",
   "metadata": {
    "cell_id": "13c5cb8067d9415f83b3d497954a437a",
    "deepnote_cell_type": "markdown",
    "id": "3mCbZc86rqC6"
   },
   "source": [
    "## 2. Análisis de Satisfacción de Vuelos. [10 puntos]"
   ]
  },
  {
   "attachments": {},
   "cell_type": "markdown",
   "metadata": {
    "cell_id": "fd6e991646b44f50a4b13f01d1542415",
    "deepnote_cell_type": "markdown",
    "id": "JI33m5jbrqC6"
   },
   "source": [
    "<center>\n",
    "<img src=\"https://i.gifer.com/2Hci.gif\" width=400 />"
   ]
  },
  {
   "attachments": {},
   "cell_type": "markdown",
   "metadata": {
    "cell_id": "5742dfbd5a2e43778ff250436bab1005",
    "deepnote_cell_type": "markdown",
    "id": "h5k24znirqC7"
   },
   "source": [
    "Habiendo entendido cómo funcionan los modelos de aprendizaje no supervisado, *Don Sergio* le encomienda estudiar la satisfacción de pasajeros al haber tomado un vuelo en alguna de sus aerolineas. Para esto, el magnate le dispone del dataset `aerolineas_licer.parquet`, el cual contiene el grado de satisfacción de los clientes frente a diferentes aspectos del vuelo. Las características del vuelo se definen a continuación:\n",
    "\n",
    "- *Gender*: Género de los pasajeros (Femenino, Masculino)\n",
    "- *Customer Type*: Tipo de cliente (Cliente habitual, cliente no habitual)\n",
    "- *Age*: Edad actual de los pasajeros\n",
    "- *Type of Travel*: Propósito del vuelo de los pasajeros (Viaje personal, Viaje de negocios)\n",
    "- *Class*: Clase de viaje en el avión de los pasajeros (Business, Eco, Eco Plus)\n",
    "- *Flight distance*: Distancia del vuelo de este viaje\n",
    "- *Inflight wifi service*: Nivel de satisfacción del servicio de wifi durante el vuelo (0:No Aplicable; 1-5)\n",
    "- *Departure/Arrival time convenient*: Nivel de satisfacción con la conveniencia del horario de salida/llegada\n",
    "- *Ease of Online booking*: Nivel de satisfacción con la facilidad de reserva en línea\n",
    "- *Gate location*: Nivel de satisfacción con la ubicación de la puerta\n",
    "- *Food and drink*: Nivel de satisfacción con la comida y la bebida\n",
    "- *Online boarding*: Nivel de satisfacción con el embarque en línea\n",
    "- *Seat comfort*: Nivel de satisfacción con la comodidad del asiento\n",
    "- *Inflight entertainment*: Nivel de satisfacción con el entretenimiento durante el vuelo\n",
    "- *On-board service*: Nivel de satisfacción con el servicio a bordo\n",
    "- *Leg room service*: Nivel de satisfacción con el espacio para las piernas\n",
    "- *Baggage handling*: Nivel de satisfacción con el manejo del equipaje\n",
    "- *Check-in service*: Nivel de satisfacción con el servicio de check-in\n",
    "- *Inflight service*: Nivel de satisfacción con el servicio durante el vuelo\n",
    "- *Cleanliness*: Nivel de satisfacción con la limpieza\n",
    "- *Departure Delay in Minutes*: Minutos de retraso en la salida\n",
    "- *Arrival Delay in Minutes*: Minutos de retraso en la llegada"
   ]
  },
  {
   "attachments": {},
   "cell_type": "markdown",
   "metadata": {
    "id": "sOoIFHpw5xCW"
   },
   "source": [
    "En consideración de lo anterior, realice las siguientes tareas:\n",
    "\n",
    "0. Ingeste el dataset a su ambiente de trabajo.\n",
    "\n",
    "1. Seleccione **sólo las variables numéricas del dataset**.  Explique qué éfectos podría causar el uso de variables categóricas en un algoritmo no supervisado. [2 punto]\n",
    "\n",
    "2. Realice una visualización de la distribución de cada variable y analice cada una de estas distribuciones. [2 punto]\n",
    "\n",
    "3. Basándose en los gráficos, evalúe la necesidad de escalar los datos y explique el motivo de su decisión. [2 puntos]\n",
    "\n",
    "4. Examine la correlación entre las variables mediante un correlograma. [2 puntos]\n",
    "\n",
    "5. De acuerdo con los resultados obtenidos en 5, reduzca la dimensionalidad del conjunto de datos a cuatro variables, justificando su elección respecto a las variables que decide eliminar. [2 puntos]"
   ]
  },
  {
   "attachments": {},
   "cell_type": "markdown",
   "metadata": {
    "id": "tO6tcVBCtxxS"
   },
   "source": [
    "**Respuesta:**"
   ]
  },
  {
   "cell_type": "code",
   "execution_count": null,
   "metadata": {},
   "outputs": [],
   "source": [
    "# Carga de datos\n",
    "# === 0. ===\n",
    "df = pd.read_parquet(\"aerolineas_lucer.parquet\")\n",
    "df.head(3)"
   ]
  },
  {
   "cell_type": "code",
   "execution_count": null,
   "metadata": {},
   "outputs": [],
   "source": [
    "# === 1. ===\n",
    "df_numerico = df.select_dtypes(include='number')\n",
    "df_numerico.head(3)"
   ]
  },
  {
   "attachments": {},
   "cell_type": "markdown",
   "metadata": {},
   "source": [
    "Las variables categóricas no deben incluirse sin codificación en modelos no supervisados porque distorsionan las distancias, ya que no representan relaciones cuantitativas. Esto puede afectar negativamente la calidad del clustering o reducción de dimensionalidad.\n"
   ]
  },
  {
   "cell_type": "code",
   "execution_count": null,
   "metadata": {
    "id": "pzHTZ17xveU_"
   },
   "outputs": [],
   "source": [
    "# === 2. ===\n",
    "fig = make_subplots(\n",
    "    rows=6,\n",
    "    cols=4,\n",
    "    subplot_titles=tuple(df_numerico.columns)\n",
    ")\n",
    "\n",
    "indices = np.arange(len(df_numerico.columns))\n",
    "filas = indices // 4 + 1\n",
    "columnas = indices % 4 + 1\n",
    "\n",
    "def agregar_histograma(idx):\n",
    "    return go.Histogram(\n",
    "        x=df_numerico.iloc[:, idx],\n",
    "        nbinsx=30,\n",
    "        name=df_numerico.columns[idx],\n",
    "        marker_color='indigo'\n",
    "    ), filas[idx], columnas[idx]\n",
    "\n",
    "_ = list(map(lambda t: fig.add_trace(t[0], row=t[1], col=t[2]), map(agregar_histograma, indices)))\n",
    "\n",
    "fig.update_layout(\n",
    "    height=1100,\n",
    "    width=900,\n",
    "    title_text=\"Distribución de Variables Numéricas\",\n",
    "    showlegend=False\n",
    ")\n",
    "fig.show()"
   ]
  },
  {
   "attachments": {},
   "cell_type": "markdown",
   "metadata": {},
   "source": []
  },
  {
   "cell_type": "code",
   "execution_count": null,
   "metadata": {},
   "outputs": [],
   "source": [
    "# === 3. ===\n",
    "scaler = MinMaxScaler()\n",
    "df_scaled = pd.DataFrame(scaler.fit_transform(df_numerico), columns=df_numerico.columns)\n",
    "df_scaled.head(3)\n"
   ]
  },
  {
   "cell_type": "code",
   "execution_count": null,
   "metadata": {},
   "outputs": [],
   "source": [
    "# === 4. ===\n",
    "correlaciones = df_scaled.corr()\n",
    "\n",
    "fig = px.imshow(\n",
    "    correlaciones,\n",
    "    text_auto=\".2f\",  # muestra los valores con dos decimales\n",
    "    color_continuous_scale='RdBu_r',\n",
    "    title=\"Matriz de Correlación entre Variables Numéricas Escaladas\"\n",
    ")\n",
    "\n",
    "fig.update_layout(\n",
    "    height=700,\n",
    "    width=800\n",
    ")\n",
    "fig.show()"
   ]
  },
  {
   "attachments": {},
   "cell_type": "markdown",
   "metadata": {},
   "source": [
    "Se seleccionaron las variables ['Inflight wifi service', 'Online boarding', 'Inflight entertainment', 'Seat comfort'] se justifica directamente a partir de la matriz de correlación, ya que:\n",
    "\n",
    "- Están fuertemente correlacionadas entre sí: Estas variables muestran correlaciones moderadas a altas (valores cercanos a 0.6 o más), lo que indica que representan aspectos relacionados de la experiencia del cliente durante el vuelo. Esto sugiere que forman parte de una misma dimensión latente de satisfacción.\n",
    "\n",
    "- Describen un componente común: Todas estas variables están vinculadas con la experiencia a bordo (servicios digitales, confort y entretenimiento), lo que hace que su combinación tenga sentido lógico y estadístico para definir grupos de usuarios según cómo valoran estos elementos.\n",
    "\n",
    "- Presentan una distribución balanceada: Según los histogramas previos, estas variables tienen buena dispersión, con varios niveles de satisfacción representados. Esto favorece su capacidad para explicar variabilidad.\n",
    "\n",
    "- Resultados empíricos del PCA: Al proyectar estas variables, se obtiene un gráfico con estructura evidente de grupos, lo que refuerza que son efectivas para reducir dimensionalidad sin perder información clave. "
   ]
  },
  {
   "cell_type": "code",
   "execution_count": null,
   "metadata": {},
   "outputs": [],
   "source": [
    "# === 5. ===\n",
    "# Variables seleccionadas tras el análisis de correlación\n",
    "variables_finales = [\n",
    "    'Inflight wifi service',\n",
    "    'Online boarding',\n",
    "    'Inflight entertainment',\n",
    "    'Seat comfort'\n",
    "]\n",
    "X = df_numerico[variables_finales].dropna()\n",
    "X.head(3)"
   ]
  },
  {
   "attachments": {},
   "cell_type": "markdown",
   "metadata": {
    "cell_id": "4b6c047d994f40ea9e78a36a777042e0",
    "deepnote_cell_type": "markdown",
    "id": "PNGfTgtkrqC9"
   },
   "source": [
    "## 3. Preprocesamiento 🎭. [10 puntos]"
   ]
  },
  {
   "attachments": {},
   "cell_type": "markdown",
   "metadata": {
    "cell_id": "713b3f0e61dd4841bb5b38c730d344d5",
    "deepnote_cell_type": "markdown",
    "id": "6RZD0fMNrqC-"
   },
   "source": [
    "<center>\n",
    "<img src=\"https://media4.giphy.com/media/vWst8QUOKAot6MHEZe/giphy.gif?cid=6c09b952gm5xylrj4k5caq2slgwivx9azbgb0ox297sk5zjx&ep=v1_internal_gif_by_id&rid=giphy.gif&ct=g\" width=400>"
   ]
  },
  {
   "attachments": {},
   "cell_type": "markdown",
   "metadata": {
    "cell_id": "98400c7b5fec4af193eec3601f53891e",
    "deepnote_cell_type": "markdown",
    "id": "J6d4VEOTrqC-"
   },
   "source": [
    "Tras quedar satisfecho con los resultados presentados en el punto 2, el dueño de la empresa ha solicitado que se preprocesen los datos mediante un `pipeline`. Es crucial que este proceso tenga en cuenta las observaciones derivadas de los análisis anteriores. Adicionalmente, ha expresado su interés en visualizar el conjunto de datos en un gráfico de dos o tres dimensiones.\n",
    "\n",
    "Basándose en los análisis realizados anteriormente:\n",
    "1. Cree un `pipeline` que incluya PCA, utilizando las consideraciones mencionadas previamente para proyectar los datos a dos dimensiones. [4 puntos]\n",
    "2. Grafique los resultados obtenidos y comente lo visualizado. [6 puntos]"
   ]
  },
  {
   "attachments": {},
   "cell_type": "markdown",
   "metadata": {
    "id": "paDSaGoq0OUp"
   },
   "source": [
    "**Respuestas:**"
   ]
  },
  {
   "cell_type": "code",
   "execution_count": null,
   "metadata": {
    "cell_id": "ad1e70818ad748638ca0927b07a76125",
    "deepnote_cell_type": "code",
    "id": "gBYG238wrqC-"
   },
   "outputs": [],
   "source": [
    "# === 1. ===\n",
    "pipeline_pca = Pipeline([\n",
    "    ('scaler', StandardScaler()),\n",
    "    ('pca', PCA(n_components=2))\n",
    "])\n",
    "\n",
    "X_pca = pipeline_pca.fit_transform(X)\n",
    "df_pca = pd.DataFrame(X_pca, columns=['PC1', 'PC2'])\n",
    "\n",
    "# === 2. ===\n",
    "fig = px.scatter(df_pca, x='PC1', y='PC2',\n",
    "                 title=\"Proyección PCA a 2 dimensiones\",\n",
    "                 opacity=0.5)\n",
    "fig.show()"
   ]
  },
  {
   "attachments": {},
   "cell_type": "markdown",
   "metadata": {},
   "source": [
    "El gráfico sugiere que las variables seleccionadas capturan patrones consistentes en la percepción del servicio a bordo. A diferencia de los gráficos anteriores, aquí se observan zonas densas y otras más dispersas, lo que indica que existen segmentos de pasajeros con valoraciones similares que podrían ser fácilmente identificados mediante técnicas de clustering. En resumen, la selección de variables permitió una proyección más informativa y segmentable del comportamiento de los clientes."
   ]
  },
  {
   "attachments": {},
   "cell_type": "markdown",
   "metadata": {
    "cell_id": "bd281470d3054764a63d857cfa7d52a6",
    "deepnote_cell_type": "text-cell-h2",
    "formattedRanges": [],
    "id": "7ENoOtIIrqC_"
   },
   "source": [
    "## 4. Outliers 🚫🙅‍♀️❌🙅‍♂️ [10 puntos]"
   ]
  },
  {
   "attachments": {},
   "cell_type": "markdown",
   "metadata": {
    "cell_id": "db89e9c9f35c44abbd8991180226c0ea",
    "deepnote_cell_type": "markdown",
    "id": "fbGw6Sa-rqC_"
   },
   "source": [
    "<center>\n",
    "<img src=\"https://joachim-gassen.github.io/images/ani_sim_bad_leverage.gif\" width=250>"
   ]
  },
  {
   "attachments": {},
   "cell_type": "markdown",
   "metadata": {
    "cell_id": "3e2f59fa12954641af7a854a4e203694",
    "deepnote_cell_type": "markdown",
    "id": "nl_ccu9brqDA"
   },
   "source": [
    "Con el objetivo de mantener la claridad en su análisis, Don Sergio le ha solicitado entrenar un modelo que identifique pasajeros con comportamientos altamente atípicos.\n",
    "\n",
    "1. Utilice `IsolationForest` para clasificar las anomalías del dataset (sin aplicar PCA), configurando el modelo para que sólo el 1% de los datos sean considerados anómalos. Asegúrese de integrar esta tarea dentro de un `pipeline`. [3 puntos]\n",
    "\n",
    "2. Visualice los resultados en el gráfico de dos dimensiones previamente creado. [3 puntos]\n",
    "\n",
    "3. ¿Cómo evaluaría el rendimiento de su modelo en la detección de anomalías? [4 puntos]"
   ]
  },
  {
   "attachments": {},
   "cell_type": "markdown",
   "metadata": {
    "id": "b5cS1FR00NlF"
   },
   "source": [
    "**Respuestas:**"
   ]
  },
  {
   "cell_type": "code",
   "execution_count": null,
   "metadata": {
    "cell_id": "be86896911244aa89e3b5f3f00a286af",
    "deepnote_cell_type": "code",
    "id": "iaPZFmjyrqDA"
   },
   "outputs": [],
   "source": [
    "# === 1. ===\n",
    "pipeline_anomalias = Pipeline([\n",
    "    (\"scaler\", StandardScaler()),\n",
    "    (\"iso_forest\", IsolationForest(contamination=0.01, random_state=42))\n",
    "])\n",
    "\n",
    "anomalias = pipeline_anomalias.fit_predict(df[variables_finales])\n",
    "\n",
    "pca_pipeline = Pipeline([\n",
    "    (\"scaler\", StandardScaler()),\n",
    "    (\"pca\", PCA(n_components=2))\n",
    "])\n",
    "\n",
    "pca_result = pca_pipeline.fit_transform(df[variables_finales])\n",
    "\n",
    "# === 2. ===\n",
    "fig = px.scatter(\n",
    "    x=pca_result[:, 0],\n",
    "    y=pca_result[:, 1],\n",
    "    color=anomalias,\n",
    "    color_continuous_scale=['red', 'blue'],\n",
    "    title=\"Anomalías detectadas con IsolationForest en espacio PCA\",\n",
    "    labels={'x': 'PC1', 'y': 'PC2'}\n",
    ")\n",
    "fig.update_traces(marker=dict(size=4, opacity=0.6))\n",
    "fig.show()\n"
   ]
  },
  {
   "attachments": {},
   "cell_type": "markdown",
   "metadata": {},
   "source": [
    "Al proyectar los resultados en el espacio PCA, observamos que las observaciones detectadas como anómalas tienden a ubicarse en los bordes del conjunto de datos, alejadas de la mayor densidad de puntos, lo cual es coherente con el comportamiento esperado de un outlier. Además, el modelo respetó la proporción definida del 1% de anomalías, lo que indica una correcta configuración. Aunque no podemos medir métricas tradicionales como precisión o recall, el patrón visual y la lógica del modelo sugieren que el desempeño es adecuado para tareas exploratorias de detección de valores atípicos."
   ]
  },
  {
   "attachments": {},
   "cell_type": "markdown",
   "metadata": {
    "cell_id": "3871e2fe5bdd422dbdbfaebf75503ae3",
    "deepnote_cell_type": "markdown",
    "id": "zQFTklmVrqDB"
   },
   "source": [
    "## 5. Métricas de Desempeño 🚀 [10 puntos]"
   ]
  },
  {
   "attachments": {},
   "cell_type": "markdown",
   "metadata": {
    "cell_id": "236333de6dd445c182aefcc507589325",
    "deepnote_cell_type": "markdown",
    "id": "YpNj4wbPrqDB"
   },
   "source": [
    "<center>\n",
    "<img src=\"https://giffiles.alphacoders.com/219/219081.gif\" width=300>"
   ]
  },
  {
   "attachments": {},
   "cell_type": "markdown",
   "metadata": {
    "cell_id": "a7e1ceb91be94b1da2ab8be97dfac999",
    "deepnote_cell_type": "markdown",
    "id": "CR3hzRxrrqDB"
   },
   "source": [
    "Motivado por incrementar su fortuna, Don Sergio le solicita entrenar un modelo que le permita segmentar a los pasajeros en grupos distintos, con el objetivo de optimizar las diversas campañas de marketing diseñadas por su equipo. Para ello, le se pide realizar las siguientes tareas:\n",
    "\n",
    "1. Utilizar el modelo **Gaussian Mixture** y explore diferentes configuraciones de número de clústers, específicamente entre 3 y 8. Asegúrese de integrar esta operación dentro de un `pipeline`. [4 puntos]\n",
    "2. Explique cuál sería el criterio adecuado para seleccionar el número óptimo de clústers. **Justifique de forma estadistica y a traves de gráficos.** [6 puntos]\n",
    "\n",
    "> **HINT:** Se recomienda investigar sobre los criterios AIC y BIC para esta tarea."
   ]
  },
  {
   "attachments": {},
   "cell_type": "markdown",
   "metadata": {
    "id": "Jt_T_zTg0MXB"
   },
   "source": [
    "**Respuestas:**"
   ]
  },
  {
   "cell_type": "code",
   "execution_count": null,
   "metadata": {
    "cell_id": "6d3d1bb3fda14321984466d9101a775a",
    "deepnote_cell_type": "code",
    "id": "5GeUb9J3rqDB"
   },
   "outputs": [],
   "source": [
    "# === 1. ===\n",
    "pipeline_base = Pipeline([\n",
    "    ('scaler', StandardScaler())\n",
    "])\n",
    "X_scaled = pipeline_base.fit_transform(df[variables_finales])\n",
    "\n",
    "n_clusters = np.arange(3, 9)\n",
    "\n",
    "ajustar_gmm = lambda k: GaussianMixture(n_components=k, random_state=42).fit(X_scaled)\n",
    "gmm_models = list(map(ajustar_gmm, n_clusters))\n",
    "\n",
    "# === 2. ===\n",
    "calcular_aic = lambda m: m.aic(X_scaled)\n",
    "\n",
    "aic = list(map(calcular_aic, gmm_models))\n",
    "\n",
    "fig = go.Figure()\n",
    "fig.add_trace(go.Scatter(x=n_clusters, y=aic, mode='lines+markers', name='AIC'))\n",
    "fig.update_layout(\n",
    "    title=\"Evaluación de número de clústers usando AIC\",\n",
    "    xaxis_title=\"Número de Clústers\",\n",
    "    yaxis_title=\"Score (menor es mejor)\",\n",
    "    width=800,\n",
    "    height=500\n",
    ")\n",
    "fig.show()"
   ]
  },
  {
   "attachments": {},
   "cell_type": "markdown",
   "metadata": {},
   "source": [
    "Se utilizo únicamente el criterio AIC para seleccionar el número óptimo de clústers porque se alinea mejor con el objetivo de este análisis, que es encontrar una segmentación efectiva de los pasajeros para campañas de marketing. AIC penaliza la complejidad del modelo, pero no de forma tan estricta como BIC, lo que permite capturar una estructura mejor en los datos sin caer en sobreajuste.  Además, al comparar ambas métricas, se noto que la escala de BIC era muy diferente, lo cual dificultaba una visualización clara en el gráfico, por lo que se opto por prescindir de ella para mantener una mejor interpretación visual. El grafico sugiere elegir 7 clusters"
   ]
  },
  {
   "attachments": {},
   "cell_type": "markdown",
   "metadata": {
    "cell_id": "dd342e336254418ba766b29dce16b267",
    "deepnote_cell_type": "markdown",
    "id": "P9CERnaerqDC"
   },
   "source": [
    "## 6. Análisis de resultados 📊 [10 puntos]"
   ]
  },
  {
   "attachments": {},
   "cell_type": "markdown",
   "metadata": {
    "cell_id": "953b5ad01a704b50b899db7176d1b7b2",
    "deepnote_cell_type": "markdown",
    "id": "I1yNa111rqDC"
   },
   "source": [
    "<center>\n",
    "<img src=\"https://www.icegif.com/wp-content/uploads/2021/12/icegif-1407.gif\" width=300>"
   ]
  },
  {
   "attachments": {},
   "cell_type": "markdown",
   "metadata": {
    "cell_id": "fd90e2f135404353ac0b5ab844936ca7",
    "deepnote_cell_type": "markdown",
    "id": "dg0Qx4RZrqDC"
   },
   "source": [
    "Una vez identificado el número óptimo de clústers, se le pide realizar lo siguiente:\n",
    "\n",
    "1. Utilizar la proyección en dos dimensiones para visualizar cada clúster claramente. [2 puntos]\n",
    "\n",
    "2. ¿Es posible distinguir claramente entre los clústers generados? [2 puntos]\n",
    "\n",
    "3. Proporcionar una descripción breve de cada clúster utilizando estadísticas descriptivas básicas, como la media y la desviación estándar, para resumir las características de las variables utilizadas en estos algoritmos. [2 puntos]\n",
    "\n",
    "4. Proceda a visualizar los clústers en tres dimensiones para una perspectiva más detallada. [2 puntos]\n",
    "\n",
    "5. ¿Cómo afecta esto a sus conclusiones anteriores? [2 puntos]"
   ]
  },
  {
   "attachments": {},
   "cell_type": "markdown",
   "metadata": {
    "id": "CRN0zZip0IMB"
   },
   "source": [
    "**Respuestas:**"
   ]
  },
  {
   "cell_type": "code",
   "execution_count": null,
   "metadata": {
    "cell_id": "9abf4dbc643e40cebe99fcb1ff3ff413",
    "deepnote_cell_type": "code",
    "id": "XmZrz15GrqDC"
   },
   "outputs": [],
   "source": [
    "# === 1. ===\n",
    "pipeline = Pipeline([\n",
    "    ('scaler', StandardScaler()),\n",
    "    ('gmm', GaussianMixture(n_components=7, random_state=42))\n",
    "])\n",
    "\n",
    "X = df[variables_finales].dropna()\n",
    "pipeline.named_steps['gmm'].fit(pipeline.named_steps['scaler'].fit_transform(X))\n",
    "labels = pipeline.named_steps['gmm'].predict(pipeline.named_steps['scaler'].transform(X))\n",
    "\n",
    "pca_2d = PCA(n_components=2)\n",
    "X_pca_2d = pca_2d.fit_transform(pipeline.named_steps['scaler'].transform(X))\n",
    "\n",
    "df_plot_2d = pd.DataFrame(X_pca_2d, columns=['PC1', 'PC2'])\n",
    "df_plot_2d['Cluster'] = labels.astype(str)\n",
    "\n",
    "fig_2d = px.scatter(df_plot_2d, x='PC1', y='PC2', color='Cluster',\n",
    "                    title=\"Proyección PCA 2D con clústers (GMM, 7 clústers)\",\n",
    "                    opacity=0.7)\n",
    "fig_2d.show()"
   ]
  },
  {
   "attachments": {},
   "cell_type": "markdown",
   "metadata": {},
   "source": []
  },
  {
   "cell_type": "code",
   "execution_count": null,
   "metadata": {},
   "outputs": [],
   "source": [
    "# === 3. ===\n",
    "X_with_labels = X.copy()\n",
    "X_with_labels['Cluster'] = labels\n",
    "cluster_summary = X_with_labels.groupby('Cluster').agg(['mean', 'std'])\n",
    "display(cluster_summary)"
   ]
  },
  {
   "cell_type": "code",
   "execution_count": null,
   "metadata": {},
   "outputs": [],
   "source": [
    "# === 4. ===\n",
    "pca_3d = PCA(n_components=3)\n",
    "X_pca_3d = pca_3d.fit_transform(X_scaled)\n",
    "\n",
    "fig = px.scatter_3d(\n",
    "    x=X_pca_3d[:, 0], y=X_pca_3d[:, 1], z=X_pca_3d[:, 2],\n",
    "    color=labels.astype(str),\n",
    "    labels={\"color\": \"Cluster\"},\n",
    "    title=\"Visualización 3D de Clústers con GMM\"\n",
    ")\n",
    "fig.show()"
   ]
  },
  {
   "attachments": {},
   "cell_type": "markdown",
   "metadata": {},
   "source": [
    "Mucho éxito!\n",
    "\n",
    "<center>\n",
    "<img src=\"https://i.pinimg.com/originals/55/3d/42/553d42bea9b10e0662a05aa8726fc7f4.gif\" width=300>"
   ]
  }
 ],
 "metadata": {
  "colab": {
   "provenance": []
  },
  "deepnote_execution_queue": [],
  "deepnote_notebook_id": "7cb425aec99b4079954fd707109c42c3",
  "deepnote_persisted_session": {
   "createdAt": "2024-04-26T06:15:51.197Z"
  },
  "kernelspec": {
   "display_name": "Python 3",
   "language": "python",
   "name": "python3"
  },
  "language_info": {
   "codemirror_mode": {
    "name": "ipython",
    "version": 3
   },
   "file_extension": ".py",
   "mimetype": "text/x-python",
   "name": "python",
   "nbconvert_exporter": "python",
   "pygments_lexer": "ipython3",
   "version": "3.11.2"
  }
 },
 "nbformat": 4,
 "nbformat_minor": 0
}
